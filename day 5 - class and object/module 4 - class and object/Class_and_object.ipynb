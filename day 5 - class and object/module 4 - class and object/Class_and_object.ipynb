{
  "nbformat": 4,
  "nbformat_minor": 0,
  "metadata": {
    "colab": {
      "provenance": []
    },
    "kernelspec": {
      "name": "python3",
      "display_name": "Python 3"
    },
    "language_info": {
      "name": "python"
    }
  },
  "cells": [
    {
      "cell_type": "code",
      "source": [
        "class number:\n",
        "  x = 5"
      ],
      "metadata": {
        "id": "hMqrVRmFb2rC"
      },
      "execution_count": 14,
      "outputs": []
    },
    {
      "cell_type": "code",
      "source": [
        "obj2 = number()"
      ],
      "metadata": {
        "id": "5yXKCpcscuwO"
      },
      "execution_count": 17,
      "outputs": []
    },
    {
      "cell_type": "code",
      "source": [
        "obj = number()"
      ],
      "metadata": {
        "id": "nJjf418ncnTO"
      },
      "execution_count": 15,
      "outputs": []
    },
    {
      "cell_type": "code",
      "source": [
        "obj.x"
      ],
      "metadata": {
        "colab": {
          "base_uri": "https://localhost:8080/"
        },
        "id": "bIuqBHOucrYL",
        "outputId": "d999d70d-d98f-4ad8-95ce-94b430701cb9"
      },
      "execution_count": 16,
      "outputs": [
        {
          "output_type": "execute_result",
          "data": {
            "text/plain": [
              "5"
            ]
          },
          "metadata": {},
          "execution_count": 16
        }
      ]
    },
    {
      "cell_type": "code",
      "source": [
        "obj2.x"
      ],
      "metadata": {
        "colab": {
          "base_uri": "https://localhost:8080/"
        },
        "id": "fB3dgZPscxXG",
        "outputId": "e53fd5d2-c95e-4822-8ef7-f12747423614"
      },
      "execution_count": 18,
      "outputs": [
        {
          "output_type": "execute_result",
          "data": {
            "text/plain": [
              "5"
            ]
          },
          "metadata": {},
          "execution_count": 18
        }
      ]
    },
    {
      "cell_type": "code",
      "source": [
        "mylist = [4,5,6,721,3,5,7,1,5]"
      ],
      "metadata": {
        "id": "jCm3Dbsic2pl"
      },
      "execution_count": 19,
      "outputs": []
    },
    {
      "cell_type": "code",
      "source": [
        "print(type(mylist))"
      ],
      "metadata": {
        "colab": {
          "base_uri": "https://localhost:8080/"
        },
        "id": "vrWyMN2uc-g6",
        "outputId": "1e22f82d-f183-4db3-cf4d-5cb8aa5c20cb"
      },
      "execution_count": 20,
      "outputs": [
        {
          "output_type": "stream",
          "name": "stdout",
          "text": [
            "<class 'list'>\n"
          ]
        }
      ]
    },
    {
      "cell_type": "code",
      "source": [
        "mylist.sort()"
      ],
      "metadata": {
        "id": "_5CPrbIVdQC6"
      },
      "execution_count": 21,
      "outputs": []
    },
    {
      "cell_type": "code",
      "source": [
        "print(mylist)"
      ],
      "metadata": {
        "colab": {
          "base_uri": "https://localhost:8080/"
        },
        "id": "9EIWd3AqdS1L",
        "outputId": "2880e27e-85a2-40c8-fff5-71d583cfc9ea"
      },
      "execution_count": 22,
      "outputs": [
        {
          "output_type": "stream",
          "name": "stdout",
          "text": [
            "[1, 3, 4, 5, 5, 5, 6, 7, 721]\n"
          ]
        }
      ]
    },
    {
      "cell_type": "code",
      "source": [
        "y = 8"
      ],
      "metadata": {
        "id": "61kxUF81dZCb"
      },
      "execution_count": 23,
      "outputs": []
    },
    {
      "cell_type": "code",
      "source": [
        "print(type(y))"
      ],
      "metadata": {
        "colab": {
          "base_uri": "https://localhost:8080/"
        },
        "id": "gy5XYzfIdaIL",
        "outputId": "4d513ba0-82d1-4e54-a194-410226588c66"
      },
      "execution_count": 24,
      "outputs": [
        {
          "output_type": "stream",
          "name": "stdout",
          "text": [
            "<class 'int'>\n"
          ]
        }
      ]
    },
    {
      "cell_type": "code",
      "source": [
        "class course:\n",
        "  def session(self):\n",
        "    print(\"THis is python class and object\")\n",
        "\n",
        "obj = course()\n"
      ],
      "metadata": {
        "id": "0XGUBF8wd2gL"
      },
      "execution_count": 29,
      "outputs": []
    },
    {
      "cell_type": "code",
      "source": [
        "obj.session()"
      ],
      "metadata": {
        "colab": {
          "base_uri": "https://localhost:8080/"
        },
        "id": "oqP54rJUeBPs",
        "outputId": "5a91649b-c4e0-4e64-b62f-54370c66ab4e"
      },
      "execution_count": 30,
      "outputs": [
        {
          "output_type": "stream",
          "name": "stdout",
          "text": [
            "THis is python class and object\n"
          ]
        }
      ]
    },
    {
      "cell_type": "code",
      "source": [
        "class course:\n",
        "  def __init__(self):\n",
        "    print(\"Hello\")\n",
        "  def session(self):\n",
        "    print(\"THis is python class and object\")\n",
        "\n",
        "obj = course()\n",
        "obj.session()"
      ],
      "metadata": {
        "colab": {
          "base_uri": "https://localhost:8080/"
        },
        "id": "nPuqb4xvehnZ",
        "outputId": "88f33970-2a6d-4f2e-9995-d84b2a09894d"
      },
      "execution_count": 32,
      "outputs": [
        {
          "output_type": "stream",
          "name": "stdout",
          "text": [
            "Hello\n",
            "THis is python class and object\n"
          ]
        }
      ]
    },
    {
      "cell_type": "code",
      "source": [
        "class person:\n",
        "  def __init__(self, name, age):\n",
        "    self.name = name\n",
        "    self.age =age\n",
        "  def first(self):\n",
        "    return f\"My name is {self.name}, my age is {self.age}\"\n",
        "  def second(self):\n",
        "    return f\"I am {self.name}, and i am {self.age} years old\"\n",
        "  "
      ],
      "metadata": {
        "id": "g0kZTkEwfqze"
      },
      "execution_count": 33,
      "outputs": []
    },
    {
      "cell_type": "code",
      "source": [
        "person1 = person(\"manish\",20)"
      ],
      "metadata": {
        "id": "hyUPuW2ggMBz"
      },
      "execution_count": 34,
      "outputs": []
    },
    {
      "cell_type": "code",
      "source": [
        "person1.second()"
      ],
      "metadata": {
        "colab": {
          "base_uri": "https://localhost:8080/",
          "height": 36
        },
        "id": "8-heyb8-gYlj",
        "outputId": "3692418f-2422-4d0f-992f-775cb1b49dab"
      },
      "execution_count": 35,
      "outputs": [
        {
          "output_type": "execute_result",
          "data": {
            "text/plain": [
              "'I am manish, and i am 20 years old'"
            ],
            "application/vnd.google.colaboratory.intrinsic+json": {
              "type": "string"
            }
          },
          "metadata": {},
          "execution_count": 35
        }
      ]
    },
    {
      "cell_type": "code",
      "source": [
        "person2 = person(\"tom\",25)"
      ],
      "metadata": {
        "id": "etCMqLkrggz_"
      },
      "execution_count": 36,
      "outputs": []
    },
    {
      "cell_type": "code",
      "source": [
        "person2.first()"
      ],
      "metadata": {
        "colab": {
          "base_uri": "https://localhost:8080/",
          "height": 36
        },
        "id": "VHkflA_kgkJ2",
        "outputId": "972655e9-1fda-482a-d566-54ef34545209"
      },
      "execution_count": 37,
      "outputs": [
        {
          "output_type": "execute_result",
          "data": {
            "text/plain": [
              "'My name is tom, my age is 25'"
            ],
            "application/vnd.google.colaboratory.intrinsic+json": {
              "type": "string"
            }
          },
          "metadata": {},
          "execution_count": 37
        }
      ]
    },
    {
      "cell_type": "code",
      "source": [
        "class car:\n",
        "  def __init__(self):\n",
        "    self.milage=20\n",
        "    self.company=\"BMW\""
      ],
      "metadata": {
        "id": "sHHYMP8ZhNRY"
      },
      "execution_count": 38,
      "outputs": []
    },
    {
      "cell_type": "code",
      "source": [
        "car1 = car()\n",
        "car2 = car()"
      ],
      "metadata": {
        "id": "7qR-E-xmhUE6"
      },
      "execution_count": 39,
      "outputs": []
    },
    {
      "cell_type": "code",
      "source": [
        "print(car1.milage,car1.company)"
      ],
      "metadata": {
        "colab": {
          "base_uri": "https://localhost:8080/"
        },
        "id": "RT6LP_d6hYob",
        "outputId": "f1b01344-551a-4f7c-ca36-dd883210ebfb"
      },
      "execution_count": 40,
      "outputs": [
        {
          "output_type": "stream",
          "name": "stdout",
          "text": [
            "20 BMW\n"
          ]
        }
      ]
    },
    {
      "cell_type": "code",
      "source": [
        "print(car2.milage,car2.company)"
      ],
      "metadata": {
        "colab": {
          "base_uri": "https://localhost:8080/"
        },
        "id": "wIO-914LhfJz",
        "outputId": "04f6d505-89ed-49e6-e101-38b4fbeb946c"
      },
      "execution_count": 41,
      "outputs": [
        {
          "output_type": "stream",
          "name": "stdout",
          "text": [
            "20 BMW\n"
          ]
        }
      ]
    },
    {
      "cell_type": "code",
      "source": [
        "car2.milage = 30"
      ],
      "metadata": {
        "id": "lT5xdsU3hh35"
      },
      "execution_count": 42,
      "outputs": []
    },
    {
      "cell_type": "code",
      "source": [
        "print(car1.milage,car1.company)"
      ],
      "metadata": {
        "colab": {
          "base_uri": "https://localhost:8080/"
        },
        "id": "boUZeym9hojG",
        "outputId": "79073c0d-b159-4981-e5f0-04652c1738d1"
      },
      "execution_count": 43,
      "outputs": [
        {
          "output_type": "stream",
          "name": "stdout",
          "text": [
            "20 BMW\n"
          ]
        }
      ]
    },
    {
      "cell_type": "code",
      "source": [
        "print(car2.milage,car2.company)"
      ],
      "metadata": {
        "colab": {
          "base_uri": "https://localhost:8080/"
        },
        "id": "bZRAtNMUhq_9",
        "outputId": "0fda2ed5-78fe-414e-a1b4-4705052b5754"
      },
      "execution_count": 44,
      "outputs": [
        {
          "output_type": "stream",
          "name": "stdout",
          "text": [
            "30 BMW\n"
          ]
        }
      ]
    },
    {
      "cell_type": "code",
      "source": [
        "class car:\n",
        "  wheel = 4\n",
        "  def __init__(self):\n",
        "    self.milage=20\n",
        "    self.company=\"BMW\""
      ],
      "metadata": {
        "id": "tmLKXtm6h_y1"
      },
      "execution_count": 45,
      "outputs": []
    },
    {
      "cell_type": "code",
      "source": [
        "car1 = car()\n",
        "car2 = car()"
      ],
      "metadata": {
        "id": "N9rki0e2iEzN"
      },
      "execution_count": 46,
      "outputs": []
    },
    {
      "cell_type": "code",
      "source": [
        "print(car1.wheel)"
      ],
      "metadata": {
        "colab": {
          "base_uri": "https://localhost:8080/"
        },
        "id": "69y8wj66iH3w",
        "outputId": "dd456f2e-28be-4c6d-d9fb-e1703318dfb0"
      },
      "execution_count": 47,
      "outputs": [
        {
          "output_type": "stream",
          "name": "stdout",
          "text": [
            "4\n"
          ]
        }
      ]
    },
    {
      "cell_type": "code",
      "source": [
        "print(car2.wheel)"
      ],
      "metadata": {
        "colab": {
          "base_uri": "https://localhost:8080/"
        },
        "id": "tOUBM4rTiKju",
        "outputId": "1b3445bc-5335-4b90-a631-a7725bfa1e9f"
      },
      "execution_count": 48,
      "outputs": [
        {
          "output_type": "stream",
          "name": "stdout",
          "text": [
            "4\n"
          ]
        }
      ]
    },
    {
      "cell_type": "code",
      "source": [
        "car.wheel = 8"
      ],
      "metadata": {
        "id": "u-rudhTLiRkl"
      },
      "execution_count": 49,
      "outputs": []
    },
    {
      "cell_type": "code",
      "source": [
        "car1.wheel"
      ],
      "metadata": {
        "colab": {
          "base_uri": "https://localhost:8080/"
        },
        "id": "TGNvTdSjiVyl",
        "outputId": "f532b8a2-f016-4a5c-fcf0-48e930ace41e"
      },
      "execution_count": 50,
      "outputs": [
        {
          "output_type": "execute_result",
          "data": {
            "text/plain": [
              "8"
            ]
          },
          "metadata": {},
          "execution_count": 50
        }
      ]
    },
    {
      "cell_type": "code",
      "source": [
        "car2.wheel"
      ],
      "metadata": {
        "colab": {
          "base_uri": "https://localhost:8080/"
        },
        "id": "iUFtRTiuiXMb",
        "outputId": "d4355d69-0bc8-4a1c-874a-cf0df4e81e51"
      },
      "execution_count": 51,
      "outputs": [
        {
          "output_type": "execute_result",
          "data": {
            "text/plain": [
              "8"
            ]
          },
          "metadata": {},
          "execution_count": 51
        }
      ]
    },
    {
      "cell_type": "code",
      "source": [
        "class car:\n",
        "  wheel = 4\n",
        "  def __init__(self):\n",
        "    self.milage=20\n",
        "    self.company=\"BMW\"\n",
        "  @classmethod\n",
        "  def wheelno(cls):\n",
        "    return f\"No of wheels: {cls.wheel}\"\n",
        "  @staticmethod\n",
        "  def info():\n",
        "    return \"This is info\""
      ],
      "metadata": {
        "id": "DOuTDW58lMgG"
      },
      "execution_count": 55,
      "outputs": []
    },
    {
      "cell_type": "code",
      "source": [
        "print(car.info())"
      ],
      "metadata": {
        "colab": {
          "base_uri": "https://localhost:8080/"
        },
        "id": "k-tHW4ubmnlw",
        "outputId": "f99d2428-df91-40e1-8c90-a4650f92f3b1"
      },
      "execution_count": 56,
      "outputs": [
        {
          "output_type": "stream",
          "name": "stdout",
          "text": [
            "This is info\n"
          ]
        }
      ]
    },
    {
      "cell_type": "code",
      "source": [
        "print(car.wheelno())"
      ],
      "metadata": {
        "colab": {
          "base_uri": "https://localhost:8080/"
        },
        "id": "MEeEDz16mRmV",
        "outputId": "f0f3a386-1072-48f6-ae81-d513089664ed"
      },
      "execution_count": 54,
      "outputs": [
        {
          "output_type": "stream",
          "name": "stdout",
          "text": [
            "No of wheels: 4\n"
          ]
        }
      ]
    },
    {
      "cell_type": "code",
      "source": [
        "class one:\n",
        "  def first(self):\n",
        "    return \"this is first\"\n",
        "  def second(self):\n",
        "    return \"this is second\""
      ],
      "metadata": {
        "id": "UKaSwKEhm5QR"
      },
      "execution_count": 57,
      "outputs": []
    },
    {
      "cell_type": "code",
      "source": [
        "class two(one):\n",
        "  def third(self):\n",
        "    return \"this is third\"\n",
        "\n",
        "  def fourth(self):\n",
        "    return \"this is fourth\""
      ],
      "metadata": {
        "id": "vXK0N1oZnAZg"
      },
      "execution_count": 59,
      "outputs": []
    },
    {
      "cell_type": "code",
      "source": [
        "obj = two()"
      ],
      "metadata": {
        "id": "WDeiP3YOnOA_"
      },
      "execution_count": 60,
      "outputs": []
    },
    {
      "cell_type": "code",
      "source": [
        "print(obj.first())"
      ],
      "metadata": {
        "colab": {
          "base_uri": "https://localhost:8080/"
        },
        "id": "C9yArnC7nR-Q",
        "outputId": "e02dd1a1-5480-4230-a01c-e07ad75673e0"
      },
      "execution_count": 61,
      "outputs": [
        {
          "output_type": "stream",
          "name": "stdout",
          "text": [
            "this is first\n"
          ]
        }
      ]
    },
    {
      "cell_type": "code",
      "source": [
        "class point:\n",
        "  def __init__(self,x,y):\n",
        "    self.x = x\n",
        "    self.y = y"
      ],
      "metadata": {
        "id": "jQUG7pfbnmbX"
      },
      "execution_count": 62,
      "outputs": []
    },
    {
      "cell_type": "code",
      "source": [
        "p1 = point(3,4)\n",
        "p2 = point(5,6)\n"
      ],
      "metadata": {
        "id": "cImyo7TOnuCs"
      },
      "execution_count": 63,
      "outputs": []
    },
    {
      "cell_type": "code",
      "source": [
        "p3 = p1 + p2"
      ],
      "metadata": {
        "colab": {
          "base_uri": "https://localhost:8080/",
          "height": 171
        },
        "id": "BhhEByzen0Mh",
        "outputId": "08d169f5-0848-4b2d-f7ad-cad15b71f8a1"
      },
      "execution_count": 64,
      "outputs": [
        {
          "output_type": "error",
          "ename": "TypeError",
          "evalue": "ignored",
          "traceback": [
            "\u001b[0;31m---------------------------------------------------------------------------\u001b[0m",
            "\u001b[0;31mTypeError\u001b[0m                                 Traceback (most recent call last)",
            "\u001b[0;32m<ipython-input-64-146b176181fd>\u001b[0m in \u001b[0;36m<module>\u001b[0;34m\u001b[0m\n\u001b[0;32m----> 1\u001b[0;31m \u001b[0mp3\u001b[0m \u001b[0;34m=\u001b[0m \u001b[0mp1\u001b[0m \u001b[0;34m+\u001b[0m \u001b[0mp2\u001b[0m\u001b[0;34m\u001b[0m\u001b[0;34m\u001b[0m\u001b[0m\n\u001b[0m",
            "\u001b[0;31mTypeError\u001b[0m: unsupported operand type(s) for +: 'point' and 'point'"
          ]
        }
      ]
    },
    {
      "cell_type": "code",
      "source": [
        "class p:\n",
        "  def __init__(self, x,y):\n",
        "    self.x =x\n",
        "    self.y = y\n",
        "  def __add__(self, other):\n",
        "    p1 = self.x + other.x\n",
        "    p2 = self.y + other.y\n",
        "    return p1, p2\n",
        "    "
      ],
      "metadata": {
        "id": "dDYdiYt7prjF"
      },
      "execution_count": 73,
      "outputs": []
    },
    {
      "cell_type": "code",
      "source": [
        "p1 = p(4,5)\n",
        "p2 = p(7,2)"
      ],
      "metadata": {
        "id": "8I_hOwZfqbY2"
      },
      "execution_count": 74,
      "outputs": []
    },
    {
      "cell_type": "code",
      "source": [
        "p3 = p1 + p2\n",
        "print(p3)"
      ],
      "metadata": {
        "colab": {
          "base_uri": "https://localhost:8080/"
        },
        "id": "WAGu-pvgqf_e",
        "outputId": "103adcc6-d4e4-45a0-9278-03509fa0dfe6"
      },
      "execution_count": 75,
      "outputs": [
        {
          "output_type": "stream",
          "name": "stdout",
          "text": [
            "(11, 7)\n"
          ]
        }
      ]
    }
  ]
}