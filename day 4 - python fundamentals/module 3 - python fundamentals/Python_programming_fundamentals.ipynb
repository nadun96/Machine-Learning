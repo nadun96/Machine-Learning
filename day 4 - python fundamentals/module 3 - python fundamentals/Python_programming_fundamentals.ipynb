{
  "nbformat": 4,
  "nbformat_minor": 0,
  "metadata": {
    "colab": {
      "provenance": []
    },
    "kernelspec": {
      "name": "python3",
      "display_name": "Python 3"
    },
    "language_info": {
      "name": "python"
    }
  },
  "cells": [
    {
      "cell_type": "code",
      "execution_count": 75,
      "metadata": {
        "id": "cubElEpJEmxd"
      },
      "outputs": [],
      "source": [
        "x = 200\n",
        "\n",
        "y = 50"
      ]
    },
    {
      "cell_type": "code",
      "source": [
        "if x>y:\n",
        "  print(\"yes\")"
      ],
      "metadata": {
        "colab": {
          "base_uri": "https://localhost:8080/"
        },
        "id": "HOH9DDdHHWTo",
        "outputId": "cd5d1165-09a8-4e1d-8a82-2a09acb9379e"
      },
      "execution_count": 76,
      "outputs": [
        {
          "output_type": "stream",
          "name": "stdout",
          "text": [
            "yes\n"
          ]
        }
      ]
    },
    {
      "cell_type": "code",
      "source": [
        "if x>y:\n",
        "  print(\"now yes\")\n",
        "else:\n",
        "  print(\"Failed\")\n"
      ],
      "metadata": {
        "colab": {
          "base_uri": "https://localhost:8080/"
        },
        "id": "hCuuPWVFHzdI",
        "outputId": "94379274-49e1-4554-8dff-12f16a0467a6"
      },
      "execution_count": 77,
      "outputs": [
        {
          "output_type": "stream",
          "name": "stdout",
          "text": [
            "now yes\n"
          ]
        }
      ]
    },
    {
      "cell_type": "code",
      "source": [
        "x = 20\n",
        "\n",
        "y = 200"
      ],
      "metadata": {
        "id": "t6LJx4DNIc18"
      },
      "execution_count": 78,
      "outputs": []
    },
    {
      "cell_type": "code",
      "source": [
        "if x>y:\n",
        "  print(\"First condition satisfied\")\n",
        "elif x<y:\n",
        "  print(\"second condition satisfied\")"
      ],
      "metadata": {
        "colab": {
          "base_uri": "https://localhost:8080/"
        },
        "id": "85-m5dYHIc8a",
        "outputId": "01063cee-bb42-489b-a5e7-d2ba5b10821f"
      },
      "execution_count": 79,
      "outputs": [
        {
          "output_type": "stream",
          "name": "stdout",
          "text": [
            "second condition satisfied\n"
          ]
        }
      ]
    },
    {
      "cell_type": "code",
      "source": [
        "if x>y:\n",
        "  print(\"First condition satisfied\")\n",
        "elif x>=y:\n",
        "  print(\"second condition satisfied\")\n",
        "elif x<y:\n",
        "  print(\"third condition satisfied\")\n",
        "else:\n",
        "  print(\"both are failed\")"
      ],
      "metadata": {
        "colab": {
          "base_uri": "https://localhost:8080/"
        },
        "id": "ufP_p6roJk1C",
        "outputId": "ec887810-bf1d-41f9-c4df-440b17b759c4"
      },
      "execution_count": 80,
      "outputs": [
        {
          "output_type": "stream",
          "name": "stdout",
          "text": [
            "third condition satisfied\n"
          ]
        }
      ]
    },
    {
      "cell_type": "code",
      "source": [
        "a = 30\n",
        "\n",
        "b = 40\n",
        "\n",
        "if a>b: print(\"A\")"
      ],
      "metadata": {
        "id": "M2Z_0ZWENSYl"
      },
      "execution_count": 81,
      "outputs": []
    },
    {
      "cell_type": "code",
      "source": [
        "print(\"A\") if a<b else print(\"B\")"
      ],
      "metadata": {
        "colab": {
          "base_uri": "https://localhost:8080/"
        },
        "id": "u8_UdqxBNvsP",
        "outputId": "8487b228-f10c-4437-9285-1b1c33079176"
      },
      "execution_count": 82,
      "outputs": [
        {
          "output_type": "stream",
          "name": "stdout",
          "text": [
            "A\n"
          ]
        }
      ]
    },
    {
      "cell_type": "code",
      "source": [
        "x = 15"
      ],
      "metadata": {
        "id": "lEaUdzwsOOb9"
      },
      "execution_count": 83,
      "outputs": []
    },
    {
      "cell_type": "code",
      "source": [
        "if x>20:\n",
        "  print(\"More than 20\")\n",
        "  if x>40:\n",
        "    print(\"more than 40\")\n",
        "  else:\n",
        "    print(\"but less than 40\")\n",
        "  \n",
        "else:\n",
        "  print(\"less than 20\")\n",
        "\n",
        "\n"
      ],
      "metadata": {
        "colab": {
          "base_uri": "https://localhost:8080/"
        },
        "id": "sUQZmM-bOPio",
        "outputId": "392c613f-d411-4673-b65a-b476ba58447d"
      },
      "execution_count": 84,
      "outputs": [
        {
          "output_type": "stream",
          "name": "stdout",
          "text": [
            "less than 20\n"
          ]
        }
      ]
    },
    {
      "cell_type": "code",
      "source": [
        "if x>10:\n",
        "  pass"
      ],
      "metadata": {
        "id": "Ghq7vD0QO-e6"
      },
      "execution_count": 85,
      "outputs": []
    },
    {
      "cell_type": "code",
      "source": [
        "for a in \"banana\":\n",
        "  print(a)\n",
        "  print(\"----\")"
      ],
      "metadata": {
        "colab": {
          "base_uri": "https://localhost:8080/"
        },
        "id": "Ecw2uAwcQAS-",
        "outputId": "5ba9c63c-494a-4973-b84d-b23976d87f7d"
      },
      "execution_count": 86,
      "outputs": [
        {
          "output_type": "stream",
          "name": "stdout",
          "text": [
            "b\n",
            "----\n",
            "a\n",
            "----\n",
            "n\n",
            "----\n",
            "a\n",
            "----\n",
            "n\n",
            "----\n",
            "a\n",
            "----\n"
          ]
        }
      ]
    },
    {
      "cell_type": "code",
      "source": [
        "x = \"apple\""
      ],
      "metadata": {
        "id": "WjBnfgB3Qda2"
      },
      "execution_count": 87,
      "outputs": []
    },
    {
      "cell_type": "code",
      "source": [
        "for y in x:\n",
        "  print(\"letter:\",y)"
      ],
      "metadata": {
        "colab": {
          "base_uri": "https://localhost:8080/"
        },
        "id": "TYh9uKygQfCu",
        "outputId": "f04b3fb7-0fcf-4695-e259-8346bfa69025"
      },
      "execution_count": 88,
      "outputs": [
        {
          "output_type": "stream",
          "name": "stdout",
          "text": [
            "letter: a\n",
            "letter: p\n",
            "letter: p\n",
            "letter: l\n",
            "letter: e\n"
          ]
        }
      ]
    },
    {
      "cell_type": "code",
      "source": [
        "mylist = [\"apple\", \"orange\", \"banana\"]"
      ],
      "metadata": {
        "id": "rvmL51QaQuR1"
      },
      "execution_count": 89,
      "outputs": []
    },
    {
      "cell_type": "code",
      "source": [
        "for a in mylist:\n",
        "  print(\"fruit: \", a)"
      ],
      "metadata": {
        "colab": {
          "base_uri": "https://localhost:8080/"
        },
        "id": "rQXxAeD1QyA4",
        "outputId": "c3b80067-4185-48c0-b229-5eaaf4f2b11a"
      },
      "execution_count": 90,
      "outputs": [
        {
          "output_type": "stream",
          "name": "stdout",
          "text": [
            "fruit:  apple\n",
            "fruit:  orange\n",
            "fruit:  banana\n"
          ]
        }
      ]
    },
    {
      "cell_type": "code",
      "source": [
        "for x in mylist:\n",
        "  print(x)\n",
        "  if x == \"orange\":\n",
        "    break\n",
        "    "
      ],
      "metadata": {
        "colab": {
          "base_uri": "https://localhost:8080/"
        },
        "id": "ant2vRhWRU7m",
        "outputId": "a85c8748-2e29-437b-ac13-62c2c72ea697"
      },
      "execution_count": 91,
      "outputs": [
        {
          "output_type": "stream",
          "name": "stdout",
          "text": [
            "apple\n",
            "orange\n"
          ]
        }
      ]
    },
    {
      "cell_type": "code",
      "source": [
        "for x in mylist:\n",
        "  if x !=\"orange\":\n",
        "    print(x)\n",
        "  else:\n",
        "    break"
      ],
      "metadata": {
        "colab": {
          "base_uri": "https://localhost:8080/"
        },
        "id": "9-zvWnZRRjBV",
        "outputId": "ced04a9e-bdba-4fd9-e23f-7ba51cae85e5"
      },
      "execution_count": 92,
      "outputs": [
        {
          "output_type": "stream",
          "name": "stdout",
          "text": [
            "apple\n"
          ]
        }
      ]
    },
    {
      "cell_type": "code",
      "source": [
        "for x in mylist:\n",
        "  if x == \"orange\":\n",
        "    continue\n",
        "  print(x)"
      ],
      "metadata": {
        "colab": {
          "base_uri": "https://localhost:8080/"
        },
        "id": "VRSCwOW3SBDx",
        "outputId": "291b75bf-03cd-491a-966d-1e36a4e2308d"
      },
      "execution_count": 93,
      "outputs": [
        {
          "output_type": "stream",
          "name": "stdout",
          "text": [
            "apple\n",
            "banana\n"
          ]
        }
      ]
    },
    {
      "cell_type": "code",
      "source": [
        "for x in range(7):\n",
        "  print(x)\n",
        "  x+=1\n",
        "  print(x)"
      ],
      "metadata": {
        "colab": {
          "base_uri": "https://localhost:8080/"
        },
        "id": "X2UXxvBOT4Vf",
        "outputId": "0dba0e73-c65f-4b06-fbed-6a423b19edf2"
      },
      "execution_count": 94,
      "outputs": [
        {
          "output_type": "stream",
          "name": "stdout",
          "text": [
            "0\n",
            "1\n",
            "1\n",
            "2\n",
            "2\n",
            "3\n",
            "3\n",
            "4\n",
            "4\n",
            "5\n",
            "5\n",
            "6\n",
            "6\n",
            "7\n"
          ]
        }
      ]
    },
    {
      "cell_type": "code",
      "source": [
        "for y in range(5,14,3):\n",
        "  print(y)"
      ],
      "metadata": {
        "colab": {
          "base_uri": "https://localhost:8080/"
        },
        "id": "VfE4dJCfUdug",
        "outputId": "96a30595-5aba-4779-fedb-8c190eab4689"
      },
      "execution_count": 95,
      "outputs": [
        {
          "output_type": "stream",
          "name": "stdout",
          "text": [
            "5\n",
            "8\n",
            "11\n"
          ]
        }
      ]
    },
    {
      "cell_type": "code",
      "source": [
        "adj = [\"red\", \"big\", \"tasty\"]\n",
        "fruits = [\"apple\", \"banana\", \"cherry\"]"
      ],
      "metadata": {
        "id": "30ggfO_bUiXK"
      },
      "execution_count": 96,
      "outputs": []
    },
    {
      "cell_type": "code",
      "source": [
        "for x in fruits:\n",
        "  for y in adj:\n",
        "    print(x,y)"
      ],
      "metadata": {
        "colab": {
          "base_uri": "https://localhost:8080/"
        },
        "id": "fSYDEbVLVKmW",
        "outputId": "6b7e68ae-5f0c-4ce0-f64d-6e8a02b1f2ea"
      },
      "execution_count": 97,
      "outputs": [
        {
          "output_type": "stream",
          "name": "stdout",
          "text": [
            "apple red\n",
            "apple big\n",
            "apple tasty\n",
            "banana red\n",
            "banana big\n",
            "banana tasty\n",
            "cherry red\n",
            "cherry big\n",
            "cherry tasty\n"
          ]
        }
      ]
    },
    {
      "cell_type": "code",
      "source": [
        "x = 0\n",
        "while x<6:\n",
        "  x+=1\n",
        "  if x==3:\n",
        "    continue\n",
        "  print(x)"
      ],
      "metadata": {
        "colab": {
          "base_uri": "https://localhost:8080/"
        },
        "id": "fOuC85ycvNMj",
        "outputId": "1fc9cfa4-4ad2-48dc-f5c2-5d52a104b7f0"
      },
      "execution_count": 98,
      "outputs": [
        {
          "output_type": "stream",
          "name": "stdout",
          "text": [
            "1\n",
            "2\n",
            "4\n",
            "5\n",
            "6\n"
          ]
        }
      ]
    },
    {
      "cell_type": "code",
      "source": [
        "x = 0\n",
        "while x<6:\n",
        "  x+=1\n",
        "  if x==3:\n",
        "    continue\n",
        "  print(x)\n",
        "else:\n",
        "  print(\"completed\")"
      ],
      "metadata": {
        "colab": {
          "base_uri": "https://localhost:8080/"
        },
        "id": "TJfgQM4Fvur2",
        "outputId": "38875144-3bef-48e3-8bbf-143ca0fce827"
      },
      "execution_count": 99,
      "outputs": [
        {
          "output_type": "stream",
          "name": "stdout",
          "text": [
            "1\n",
            "2\n",
            "4\n",
            "5\n",
            "6\n",
            "completed\n"
          ]
        }
      ]
    },
    {
      "cell_type": "code",
      "source": [
        "def hello():\n",
        "  print(\"Hello world\")"
      ],
      "metadata": {
        "id": "0K_jHd2vwSL1"
      },
      "execution_count": 100,
      "outputs": []
    },
    {
      "cell_type": "code",
      "source": [
        "hello()"
      ],
      "metadata": {
        "colab": {
          "base_uri": "https://localhost:8080/"
        },
        "id": "EOo54wESwV32",
        "outputId": "411425c6-59cb-4574-c58d-3d6631197f3a"
      },
      "execution_count": 101,
      "outputs": [
        {
          "output_type": "stream",
          "name": "stdout",
          "text": [
            "Hello world\n"
          ]
        }
      ]
    },
    {
      "cell_type": "code",
      "source": [
        "hello()"
      ],
      "metadata": {
        "colab": {
          "base_uri": "https://localhost:8080/"
        },
        "id": "EwdFg5PSwbpO",
        "outputId": "a2396fec-820d-430b-f4b2-ad5544d2719a"
      },
      "execution_count": 102,
      "outputs": [
        {
          "output_type": "stream",
          "name": "stdout",
          "text": [
            "Hello world\n"
          ]
        }
      ]
    },
    {
      "cell_type": "code",
      "source": [
        "def greetings(name):\n",
        "  print(\"Hello \" + name)"
      ],
      "metadata": {
        "id": "6hy4_JYWw_F7"
      },
      "execution_count": 104,
      "outputs": []
    },
    {
      "cell_type": "code",
      "source": [
        "greetings(\"sam\")"
      ],
      "metadata": {
        "colab": {
          "base_uri": "https://localhost:8080/"
        },
        "id": "hapKhuTexD_O",
        "outputId": "29b9be36-9ac3-4c2f-c91a-ee28eb14febe"
      },
      "execution_count": 106,
      "outputs": [
        {
          "output_type": "stream",
          "name": "stdout",
          "text": [
            "Hello sam\n"
          ]
        }
      ]
    },
    {
      "cell_type": "code",
      "source": [
        "greetings(\"tom\")"
      ],
      "metadata": {
        "colab": {
          "base_uri": "https://localhost:8080/"
        },
        "id": "aO3924TIxND2",
        "outputId": "1bfd057a-678b-4bcf-d191-04706a6a9286"
      },
      "execution_count": 107,
      "outputs": [
        {
          "output_type": "stream",
          "name": "stdout",
          "text": [
            "Hello tom\n"
          ]
        }
      ]
    },
    {
      "cell_type": "code",
      "source": [
        "greetings(\"jeeva\")"
      ],
      "metadata": {
        "colab": {
          "base_uri": "https://localhost:8080/"
        },
        "id": "GIyw6TIBxPn3",
        "outputId": "f585b57c-414c-44eb-fcc0-cc85afb9a2d6"
      },
      "execution_count": 108,
      "outputs": [
        {
          "output_type": "stream",
          "name": "stdout",
          "text": [
            "Hello jeeva\n"
          ]
        }
      ]
    },
    {
      "cell_type": "code",
      "source": [
        "def greet(name1, name2):\n",
        "  print(f\"Hello {name1}, and {name2}\")"
      ],
      "metadata": {
        "id": "KhaCsBZCxkMT"
      },
      "execution_count": 109,
      "outputs": []
    },
    {
      "cell_type": "code",
      "source": [
        "greet(\"jerry\",\"tom\")"
      ],
      "metadata": {
        "colab": {
          "base_uri": "https://localhost:8080/"
        },
        "id": "KnEbCPH4xtT2",
        "outputId": "cc2e02b1-7180-4892-9157-feefbe8ef5b6"
      },
      "execution_count": 110,
      "outputs": [
        {
          "output_type": "stream",
          "name": "stdout",
          "text": [
            "Hello jerry, and tom\n"
          ]
        }
      ]
    },
    {
      "cell_type": "code",
      "source": [
        "greet(\"tom\", \"jerry\")"
      ],
      "metadata": {
        "colab": {
          "base_uri": "https://localhost:8080/"
        },
        "id": "H6PrS1Znxxh4",
        "outputId": "4b2c163f-6b6a-4475-9805-af839cf6a8e9"
      },
      "execution_count": 111,
      "outputs": [
        {
          "output_type": "stream",
          "name": "stdout",
          "text": [
            "Hello tom, and jerry\n"
          ]
        }
      ]
    },
    {
      "cell_type": "code",
      "source": [
        "greet(name1=\"jerry\",name2=\"tom\")"
      ],
      "metadata": {
        "colab": {
          "base_uri": "https://localhost:8080/"
        },
        "id": "2SkVSO9mx0zK",
        "outputId": "09e601d6-60bc-435c-be0a-132e7d70f0d0"
      },
      "execution_count": 112,
      "outputs": [
        {
          "output_type": "stream",
          "name": "stdout",
          "text": [
            "Hello jerry, and tom\n"
          ]
        }
      ]
    },
    {
      "cell_type": "code",
      "source": [
        "def countryname(country=\"India\"):\n",
        "  print(f\"I am from {country}\")"
      ],
      "metadata": {
        "id": "4nqN1SmvyHT7"
      },
      "execution_count": 116,
      "outputs": []
    },
    {
      "cell_type": "code",
      "source": [
        "countryname(\"sweden\")"
      ],
      "metadata": {
        "colab": {
          "base_uri": "https://localhost:8080/"
        },
        "id": "eXIKietMyNF6",
        "outputId": "adde00b5-edbf-465c-9049-863300e0e9f6"
      },
      "execution_count": 117,
      "outputs": [
        {
          "output_type": "stream",
          "name": "stdout",
          "text": [
            "I am from sweden\n"
          ]
        }
      ]
    },
    {
      "cell_type": "code",
      "source": [
        "countryname()"
      ],
      "metadata": {
        "colab": {
          "base_uri": "https://localhost:8080/"
        },
        "id": "HOd9DMYByPp8",
        "outputId": "48666848-16db-4679-d667-55a859783b0a"
      },
      "execution_count": 118,
      "outputs": [
        {
          "output_type": "stream",
          "name": "stdout",
          "text": [
            "I am from India\n"
          ]
        }
      ]
    },
    {
      "cell_type": "code",
      "source": [
        "def number(x):\n",
        "  print(x*5)"
      ],
      "metadata": {
        "id": "wbXg21oPyjTE"
      },
      "execution_count": 119,
      "outputs": []
    },
    {
      "cell_type": "code",
      "source": [
        "number(4)"
      ],
      "metadata": {
        "colab": {
          "base_uri": "https://localhost:8080/"
        },
        "id": "LyHU-sM1ynEo",
        "outputId": "3022570f-4bfe-41b7-ff10-c6e51b394642"
      },
      "execution_count": 120,
      "outputs": [
        {
          "output_type": "stream",
          "name": "stdout",
          "text": [
            "20\n"
          ]
        }
      ]
    },
    {
      "cell_type": "code",
      "source": [
        "def number2(y):\n",
        "  return y*5"
      ],
      "metadata": {
        "id": "P-82GInmyp08"
      },
      "execution_count": 121,
      "outputs": []
    },
    {
      "cell_type": "code",
      "source": [
        "number2(7)"
      ],
      "metadata": {
        "colab": {
          "base_uri": "https://localhost:8080/"
        },
        "id": "e6MU3Zalyu7C",
        "outputId": "4e18a93e-db46-4e3c-9cb8-76fe8aab15dd"
      },
      "execution_count": 122,
      "outputs": [
        {
          "output_type": "execute_result",
          "data": {
            "text/plain": [
              "35"
            ]
          },
          "metadata": {},
          "execution_count": 122
        }
      ]
    },
    {
      "cell_type": "code",
      "source": [
        "b = lambda x: x*10"
      ],
      "metadata": {
        "id": "hZQdATgrzILS"
      },
      "execution_count": 124,
      "outputs": []
    },
    {
      "cell_type": "code",
      "source": [
        "print(b(2))"
      ],
      "metadata": {
        "colab": {
          "base_uri": "https://localhost:8080/"
        },
        "id": "E-nsFdaezPyq",
        "outputId": "6de9f79f-b679-4c02-f4d2-c02e1d6c0033"
      },
      "execution_count": 125,
      "outputs": [
        {
          "output_type": "stream",
          "name": "stdout",
          "text": [
            "20\n"
          ]
        }
      ]
    },
    {
      "cell_type": "code",
      "source": [
        "x = lambda a,b,c: a+b+c\n",
        "\n",
        "print(x(1,2,3))"
      ],
      "metadata": {
        "colab": {
          "base_uri": "https://localhost:8080/"
        },
        "id": "AIGg370YzbPq",
        "outputId": "edc82254-0f42-48dc-c94b-608a7753d1be"
      },
      "execution_count": 126,
      "outputs": [
        {
          "output_type": "stream",
          "name": "stdout",
          "text": [
            "6\n"
          ]
        }
      ]
    }
  ]
}