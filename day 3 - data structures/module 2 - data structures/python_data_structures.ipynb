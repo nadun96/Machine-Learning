{
  "nbformat": 4,
  "nbformat_minor": 0,
  "metadata": {
    "colab": {
      "provenance": []
    },
    "kernelspec": {
      "name": "python3",
      "display_name": "Python 3"
    },
    "language_info": {
      "name": "python"
    }
  },
  "cells": [
    {
      "cell_type": "code",
      "source": [
        "x = [\"apple\", 2, 3.14, True]"
      ],
      "metadata": {
        "id": "0mOFK4Bs9ITQ"
      },
      "execution_count": 2,
      "outputs": []
    },
    {
      "cell_type": "code",
      "source": [
        "print(x)"
      ],
      "metadata": {
        "colab": {
          "base_uri": "https://localhost:8080/"
        },
        "id": "Os6zyTIr9kGY",
        "outputId": "de3c1a66-79a0-45b2-fceb-81f81237f374"
      },
      "execution_count": 3,
      "outputs": [
        {
          "output_type": "stream",
          "name": "stdout",
          "text": [
            "['apple', 2, 3.14, True]\n"
          ]
        }
      ]
    },
    {
      "cell_type": "code",
      "source": [
        "print(x[0])"
      ],
      "metadata": {
        "colab": {
          "base_uri": "https://localhost:8080/"
        },
        "id": "wBo8v0EI92Kv",
        "outputId": "3890787e-3033-4adf-82ac-54d63c52e3cd"
      },
      "execution_count": 4,
      "outputs": [
        {
          "output_type": "stream",
          "name": "stdout",
          "text": [
            "apple\n"
          ]
        }
      ]
    },
    {
      "cell_type": "code",
      "source": [
        "print(x[0][0])"
      ],
      "metadata": {
        "colab": {
          "base_uri": "https://localhost:8080/"
        },
        "id": "DVkwj2-c-CFn",
        "outputId": "b662d93a-95b6-4846-c158-6e984bba6c19"
      },
      "execution_count": 9,
      "outputs": [
        {
          "output_type": "stream",
          "name": "stdout",
          "text": [
            "a\n"
          ]
        }
      ]
    },
    {
      "cell_type": "code",
      "source": [
        "print(x[1])"
      ],
      "metadata": {
        "colab": {
          "base_uri": "https://localhost:8080/"
        },
        "id": "eX3NG8ew9651",
        "outputId": "6778481a-5ba1-4763-d6fe-a624b8b9604a"
      },
      "execution_count": 5,
      "outputs": [
        {
          "output_type": "stream",
          "name": "stdout",
          "text": [
            "2\n"
          ]
        }
      ]
    },
    {
      "cell_type": "code",
      "source": [
        "print(x[2])"
      ],
      "metadata": {
        "colab": {
          "base_uri": "https://localhost:8080/"
        },
        "id": "K5UnDdN-9-LX",
        "outputId": "56114bde-bab1-48b9-ff68-fce26bb80553"
      },
      "execution_count": 6,
      "outputs": [
        {
          "output_type": "stream",
          "name": "stdout",
          "text": [
            "3.14\n"
          ]
        }
      ]
    },
    {
      "cell_type": "code",
      "source": [
        "x = [\"apple\", \"orange\", \"kiwi\", \"banana\", \"strawberry\"]"
      ],
      "metadata": {
        "id": "fBjxK5cV-a60"
      },
      "execution_count": 10,
      "outputs": []
    },
    {
      "cell_type": "code",
      "source": [
        "print(x[1:6])"
      ],
      "metadata": {
        "colab": {
          "base_uri": "https://localhost:8080/"
        },
        "id": "sWNqlQD6-fhY",
        "outputId": "d918435c-b82f-4cd6-a136-73377d71d6dc"
      },
      "execution_count": 12,
      "outputs": [
        {
          "output_type": "stream",
          "name": "stdout",
          "text": [
            "['orange', 'kiwi', 'banana', 'strawberry']\n"
          ]
        }
      ]
    },
    {
      "cell_type": "code",
      "source": [
        "x[2] = \"Pineapple\""
      ],
      "metadata": {
        "id": "oQA4W9J4-zm5"
      },
      "execution_count": 13,
      "outputs": []
    },
    {
      "cell_type": "code",
      "source": [
        "print(x)"
      ],
      "metadata": {
        "colab": {
          "base_uri": "https://localhost:8080/"
        },
        "id": "p1sFLyCF-4lI",
        "outputId": "c276c691-2ef3-4fa7-f2e1-2d0195394b31"
      },
      "execution_count": 14,
      "outputs": [
        {
          "output_type": "stream",
          "name": "stdout",
          "text": [
            "['apple', 'orange', 'Pineapple', 'banana', 'strawberry']\n"
          ]
        }
      ]
    },
    {
      "cell_type": "code",
      "source": [
        "x.insert(1, \"kiwi\")"
      ],
      "metadata": {
        "id": "Vx3L50fN_Lu2"
      },
      "execution_count": 15,
      "outputs": []
    },
    {
      "cell_type": "code",
      "source": [
        "print(x)"
      ],
      "metadata": {
        "colab": {
          "base_uri": "https://localhost:8080/"
        },
        "id": "CetlJAwT_PrO",
        "outputId": "86ef3cd7-0c8b-46dd-8e3c-3b0fbc66c42e"
      },
      "execution_count": 16,
      "outputs": [
        {
          "output_type": "stream",
          "name": "stdout",
          "text": [
            "['apple', 'kiwi', 'orange', 'Pineapple', 'banana', 'strawberry']\n"
          ]
        }
      ]
    },
    {
      "cell_type": "code",
      "source": [
        "x.append(\"abc\")"
      ],
      "metadata": {
        "id": "HwlAZBNY_d9T"
      },
      "execution_count": 17,
      "outputs": []
    },
    {
      "cell_type": "code",
      "source": [
        "print(x)"
      ],
      "metadata": {
        "colab": {
          "base_uri": "https://localhost:8080/"
        },
        "id": "kgFX9K6P_iVK",
        "outputId": "ebb73acc-2c93-4d2f-a306-63617ec43194"
      },
      "execution_count": 18,
      "outputs": [
        {
          "output_type": "stream",
          "name": "stdout",
          "text": [
            "['apple', 'kiwi', 'orange', 'Pineapple', 'banana', 'strawberry', 'abc']\n"
          ]
        }
      ]
    },
    {
      "cell_type": "code",
      "source": [
        "x.append(\"def\")"
      ],
      "metadata": {
        "id": "1VC0GuEV_lBn"
      },
      "execution_count": 19,
      "outputs": []
    },
    {
      "cell_type": "code",
      "source": [
        "print(x)"
      ],
      "metadata": {
        "colab": {
          "base_uri": "https://localhost:8080/"
        },
        "id": "Uc80dHyE_nso",
        "outputId": "67326576-6755-4f46-9418-a8883a6b65bc"
      },
      "execution_count": 20,
      "outputs": [
        {
          "output_type": "stream",
          "name": "stdout",
          "text": [
            "['apple', 'kiwi', 'orange', 'Pineapple', 'banana', 'strawberry', 'abc', 'def']\n"
          ]
        }
      ]
    },
    {
      "cell_type": "code",
      "source": [
        "x = [1,2,3,4]\n",
        "\n",
        "y = [5,6,7,8]"
      ],
      "metadata": {
        "id": "qO3CX3Ri_x7a"
      },
      "execution_count": 21,
      "outputs": []
    },
    {
      "cell_type": "code",
      "source": [
        "x.extend(y)"
      ],
      "metadata": {
        "id": "zY-FAX-D_1fT"
      },
      "execution_count": 22,
      "outputs": []
    },
    {
      "cell_type": "code",
      "source": [
        "print(x)"
      ],
      "metadata": {
        "colab": {
          "base_uri": "https://localhost:8080/"
        },
        "id": "u38ZbPiZ_3_c",
        "outputId": "1ddeb293-1437-4770-d118-a3732098b02e"
      },
      "execution_count": 23,
      "outputs": [
        {
          "output_type": "stream",
          "name": "stdout",
          "text": [
            "[1, 2, 3, 4, 5, 6, 7, 8]\n"
          ]
        }
      ]
    },
    {
      "cell_type": "code",
      "source": [
        "x.remove(8)"
      ],
      "metadata": {
        "id": "QuOc6y39AEZx"
      },
      "execution_count": 24,
      "outputs": []
    },
    {
      "cell_type": "code",
      "source": [
        "print(x)"
      ],
      "metadata": {
        "colab": {
          "base_uri": "https://localhost:8080/"
        },
        "id": "93IRsa0dAH2q",
        "outputId": "bc7752c0-9cf8-4f35-b7e8-ba22c9cbd356"
      },
      "execution_count": 25,
      "outputs": [
        {
          "output_type": "stream",
          "name": "stdout",
          "text": [
            "[1, 2, 3, 4, 5, 6, 7]\n"
          ]
        }
      ]
    },
    {
      "cell_type": "code",
      "source": [
        "x.pop(0)"
      ],
      "metadata": {
        "colab": {
          "base_uri": "https://localhost:8080/"
        },
        "id": "iadw9o6mAUmv",
        "outputId": "af01a1b0-3848-4d86-dab0-8ded1876b6d9"
      },
      "execution_count": 26,
      "outputs": [
        {
          "output_type": "execute_result",
          "data": {
            "text/plain": [
              "1"
            ]
          },
          "metadata": {},
          "execution_count": 26
        }
      ]
    },
    {
      "cell_type": "code",
      "source": [
        "print(x)"
      ],
      "metadata": {
        "colab": {
          "base_uri": "https://localhost:8080/"
        },
        "id": "RR0FlXLAAXFh",
        "outputId": "6f58512b-9331-40a6-aa8a-8280ae5baf20"
      },
      "execution_count": 27,
      "outputs": [
        {
          "output_type": "stream",
          "name": "stdout",
          "text": [
            "[2, 3, 4, 5, 6, 7]\n"
          ]
        }
      ]
    },
    {
      "cell_type": "code",
      "source": [
        "x.clear()"
      ],
      "metadata": {
        "id": "kqiePuDKAe6v"
      },
      "execution_count": 28,
      "outputs": []
    },
    {
      "cell_type": "code",
      "source": [
        "print(x)"
      ],
      "metadata": {
        "colab": {
          "base_uri": "https://localhost:8080/"
        },
        "id": "6ABkOAdrAhKQ",
        "outputId": "c7090823-19dd-40b1-8be3-0d0b7a885c12"
      },
      "execution_count": 29,
      "outputs": [
        {
          "output_type": "stream",
          "name": "stdout",
          "text": [
            "[]\n"
          ]
        }
      ]
    },
    {
      "cell_type": "code",
      "source": [
        "x = [\"watermelon\", \"orange\", \"apple\", \"banana\", \"cucumber\"]"
      ],
      "metadata": {
        "id": "iGgCWGHdAsxB"
      },
      "execution_count": 35,
      "outputs": []
    },
    {
      "cell_type": "code",
      "source": [
        "x.sort()"
      ],
      "metadata": {
        "id": "B1JXjW7dAxut"
      },
      "execution_count": 31,
      "outputs": []
    },
    {
      "cell_type": "code",
      "source": [
        "print(x)"
      ],
      "metadata": {
        "colab": {
          "base_uri": "https://localhost:8080/"
        },
        "id": "VCPt4a0gAzd4",
        "outputId": "63c4cbb2-fd35-429f-c24c-ce19297ea8ef"
      },
      "execution_count": 32,
      "outputs": [
        {
          "output_type": "stream",
          "name": "stdout",
          "text": [
            "['apple', 'banana', 'cucumber', 'orange', 'watermelon']\n"
          ]
        }
      ]
    },
    {
      "cell_type": "code",
      "source": [
        "y = [34,532,5,2,672,2312,42,56]"
      ],
      "metadata": {
        "id": "hApeBgaTA4zK"
      },
      "execution_count": 33,
      "outputs": []
    },
    {
      "cell_type": "code",
      "source": [
        "y.sort()\n",
        "print(y)"
      ],
      "metadata": {
        "colab": {
          "base_uri": "https://localhost:8080/"
        },
        "id": "i9Dyh1bTA83o",
        "outputId": "fb6fd3c7-d3d2-41dc-d414-a6db88029556"
      },
      "execution_count": 34,
      "outputs": [
        {
          "output_type": "stream",
          "name": "stdout",
          "text": [
            "[2, 5, 34, 42, 56, 532, 672, 2312]\n"
          ]
        }
      ]
    },
    {
      "cell_type": "code",
      "source": [
        "x = [\"watermelon\", \"orange\", \"apple\", \"banana\", \"cucumber\"]"
      ],
      "metadata": {
        "id": "Eg-DG-25BKCQ"
      },
      "execution_count": 36,
      "outputs": []
    },
    {
      "cell_type": "code",
      "source": [
        "x.sort(reverse = True)\n",
        "print(x)"
      ],
      "metadata": {
        "colab": {
          "base_uri": "https://localhost:8080/"
        },
        "id": "1sdQwXzrBLKY",
        "outputId": "706a784f-f8cb-487d-b270-a31589f21c79"
      },
      "execution_count": 37,
      "outputs": [
        {
          "output_type": "stream",
          "name": "stdout",
          "text": [
            "['watermelon', 'orange', 'cucumber', 'banana', 'apple']\n"
          ]
        }
      ]
    },
    {
      "cell_type": "code",
      "source": [
        "y = [34,532,5,2,672,2312,42,56]\n",
        "\n",
        "y.sort(reverse = True)\n",
        "\n",
        "print(y)"
      ],
      "metadata": {
        "colab": {
          "base_uri": "https://localhost:8080/"
        },
        "id": "-KZaBVKpBPjx",
        "outputId": "5e4206de-be7f-4092-b6e8-05bc61af12c2"
      },
      "execution_count": 38,
      "outputs": [
        {
          "output_type": "stream",
          "name": "stdout",
          "text": [
            "[2312, 672, 532, 56, 42, 34, 5, 2]\n"
          ]
        }
      ]
    },
    {
      "cell_type": "code",
      "source": [
        "print(x)"
      ],
      "metadata": {
        "colab": {
          "base_uri": "https://localhost:8080/"
        },
        "id": "9JRj9wUVBdSM",
        "outputId": "4042a65d-c60a-4c34-ee7f-16635bb6b455"
      },
      "execution_count": 39,
      "outputs": [
        {
          "output_type": "stream",
          "name": "stdout",
          "text": [
            "['watermelon', 'orange', 'cucumber', 'banana', 'apple']\n"
          ]
        }
      ]
    },
    {
      "cell_type": "code",
      "source": [
        "y = x.copy()"
      ],
      "metadata": {
        "id": "caS_hL4iBezT"
      },
      "execution_count": 40,
      "outputs": []
    },
    {
      "cell_type": "code",
      "source": [
        "print(y)"
      ],
      "metadata": {
        "colab": {
          "base_uri": "https://localhost:8080/"
        },
        "id": "RUU9b768BhYt",
        "outputId": "d0192ddb-3e36-4c93-ab0b-ffd0fe688618"
      },
      "execution_count": 41,
      "outputs": [
        {
          "output_type": "stream",
          "name": "stdout",
          "text": [
            "['watermelon', 'orange', 'cucumber', 'banana', 'apple']\n"
          ]
        }
      ]
    },
    {
      "cell_type": "code",
      "source": [
        "x[2] = \"abc\""
      ],
      "metadata": {
        "id": "pquvwZDpBjIQ"
      },
      "execution_count": 42,
      "outputs": []
    },
    {
      "cell_type": "code",
      "source": [
        "print(x)"
      ],
      "metadata": {
        "colab": {
          "base_uri": "https://localhost:8080/"
        },
        "id": "SIlO2pCFBllf",
        "outputId": "f15144ca-ff45-4168-d38f-44d560d47021"
      },
      "execution_count": 43,
      "outputs": [
        {
          "output_type": "stream",
          "name": "stdout",
          "text": [
            "['watermelon', 'orange', 'abc', 'banana', 'apple']\n"
          ]
        }
      ]
    },
    {
      "cell_type": "code",
      "source": [
        "print(y)"
      ],
      "metadata": {
        "colab": {
          "base_uri": "https://localhost:8080/"
        },
        "id": "qMvag7xMBnTs",
        "outputId": "fc5211a4-bb84-4296-fabe-5d650f20b621"
      },
      "execution_count": 44,
      "outputs": [
        {
          "output_type": "stream",
          "name": "stdout",
          "text": [
            "['watermelon', 'orange', 'cucumber', 'banana', 'apple']\n"
          ]
        }
      ]
    },
    {
      "cell_type": "code",
      "source": [
        "x = (\"apple\", 1 , 3.4, True)"
      ],
      "metadata": {
        "id": "LpLVTAyoB-i0"
      },
      "execution_count": 45,
      "outputs": []
    },
    {
      "cell_type": "code",
      "source": [
        "print(x[0])"
      ],
      "metadata": {
        "colab": {
          "base_uri": "https://localhost:8080/"
        },
        "id": "Y-IWNamSCCs9",
        "outputId": "414470ae-446d-4704-f4c2-2b17e25f8cd9"
      },
      "execution_count": 46,
      "outputs": [
        {
          "output_type": "stream",
          "name": "stdout",
          "text": [
            "apple\n"
          ]
        }
      ]
    },
    {
      "cell_type": "code",
      "source": [
        "print(x[1])"
      ],
      "metadata": {
        "colab": {
          "base_uri": "https://localhost:8080/"
        },
        "id": "Tw3j5XiDCKDT",
        "outputId": "db4f2119-dbd0-43a6-a27c-c886317e58aa"
      },
      "execution_count": 47,
      "outputs": [
        {
          "output_type": "stream",
          "name": "stdout",
          "text": [
            "1\n"
          ]
        }
      ]
    },
    {
      "cell_type": "code",
      "source": [
        "print(x[2])"
      ],
      "metadata": {
        "colab": {
          "base_uri": "https://localhost:8080/"
        },
        "id": "4-FBdWZKCOtB",
        "outputId": "873a034c-41f3-40fc-8cf8-d32b8224b336"
      },
      "execution_count": 48,
      "outputs": [
        {
          "output_type": "stream",
          "name": "stdout",
          "text": [
            "3.4\n"
          ]
        }
      ]
    },
    {
      "cell_type": "code",
      "source": [
        "print(x[0:3])"
      ],
      "metadata": {
        "colab": {
          "base_uri": "https://localhost:8080/"
        },
        "id": "pewFPHMXCTzQ",
        "outputId": "6198a556-e10c-4536-dd59-b0f0f96130a7"
      },
      "execution_count": 49,
      "outputs": [
        {
          "output_type": "stream",
          "name": "stdout",
          "text": [
            "('apple', 1, 3.4)\n"
          ]
        }
      ]
    },
    {
      "cell_type": "code",
      "source": [
        "print(x)"
      ],
      "metadata": {
        "colab": {
          "base_uri": "https://localhost:8080/"
        },
        "id": "7E2hie2mCdFt",
        "outputId": "e7c7d0b6-10ec-4e52-cee0-d88a5f3c8227"
      },
      "execution_count": 50,
      "outputs": [
        {
          "output_type": "stream",
          "name": "stdout",
          "text": [
            "('apple', 1, 3.4, True)\n"
          ]
        }
      ]
    },
    {
      "cell_type": "code",
      "source": [
        "y = list(x)"
      ],
      "metadata": {
        "id": "qqzmIIKmCswC"
      },
      "execution_count": 52,
      "outputs": []
    },
    {
      "cell_type": "code",
      "source": [
        "print(y)"
      ],
      "metadata": {
        "colab": {
          "base_uri": "https://localhost:8080/"
        },
        "id": "Oa-ntt22CyW9",
        "outputId": "2e4c0183-3769-46f7-aa21-8295d6a32a4a"
      },
      "execution_count": 53,
      "outputs": [
        {
          "output_type": "stream",
          "name": "stdout",
          "text": [
            "['apple', 1, 3.4, True]\n"
          ]
        }
      ]
    },
    {
      "cell_type": "code",
      "source": [
        "y[1] = 2"
      ],
      "metadata": {
        "id": "3inQmmJOC0zb"
      },
      "execution_count": 54,
      "outputs": []
    },
    {
      "cell_type": "code",
      "source": [
        "print(y)"
      ],
      "metadata": {
        "colab": {
          "base_uri": "https://localhost:8080/"
        },
        "id": "-Y2jR_N1C23b",
        "outputId": "326d754b-bc1e-4daa-a35e-a58f8f559139"
      },
      "execution_count": 55,
      "outputs": [
        {
          "output_type": "stream",
          "name": "stdout",
          "text": [
            "['apple', 2, 3.4, True]\n"
          ]
        }
      ]
    },
    {
      "cell_type": "code",
      "source": [
        "x = tuple(y)"
      ],
      "metadata": {
        "id": "Q-HK38faC5lJ"
      },
      "execution_count": 56,
      "outputs": []
    },
    {
      "cell_type": "code",
      "source": [
        "print(x)"
      ],
      "metadata": {
        "colab": {
          "base_uri": "https://localhost:8080/"
        },
        "id": "9Hz0dFyWC9Og",
        "outputId": "b847e4d7-5bca-4628-d1f9-a160d67d98ad"
      },
      "execution_count": 57,
      "outputs": [
        {
          "output_type": "stream",
          "name": "stdout",
          "text": [
            "('apple', 2, 3.4, True)\n"
          ]
        }
      ]
    },
    {
      "cell_type": "code",
      "source": [
        "y = list(x)\n",
        "print(y)"
      ],
      "metadata": {
        "colab": {
          "base_uri": "https://localhost:8080/"
        },
        "id": "L2M07AkfDBz0",
        "outputId": "658d9ff5-a774-4cc2-cb62-6c170b7d4738"
      },
      "execution_count": 58,
      "outputs": [
        {
          "output_type": "stream",
          "name": "stdout",
          "text": [
            "['apple', 2, 3.4, True]\n"
          ]
        }
      ]
    },
    {
      "cell_type": "code",
      "source": [
        "y.remove(\"apple\")"
      ],
      "metadata": {
        "id": "rluD0uZ_DKvT"
      },
      "execution_count": 59,
      "outputs": []
    },
    {
      "cell_type": "code",
      "source": [
        "print(y)"
      ],
      "metadata": {
        "colab": {
          "base_uri": "https://localhost:8080/"
        },
        "id": "AJEKz74GDNel",
        "outputId": "36904e62-b85a-4eeb-9102-0f5a8e23d523"
      },
      "execution_count": 60,
      "outputs": [
        {
          "output_type": "stream",
          "name": "stdout",
          "text": [
            "[2, 3.4, True]\n"
          ]
        }
      ]
    },
    {
      "cell_type": "code",
      "source": [
        "x = tuple(y)"
      ],
      "metadata": {
        "id": "xv9__pQKDPJj"
      },
      "execution_count": 62,
      "outputs": []
    },
    {
      "cell_type": "code",
      "source": [
        "print(x)"
      ],
      "metadata": {
        "colab": {
          "base_uri": "https://localhost:8080/"
        },
        "id": "t1EHWAyMDRp-",
        "outputId": "2c72faf3-36ef-40a9-823b-b9e236a541d7"
      },
      "execution_count": 63,
      "outputs": [
        {
          "output_type": "stream",
          "name": "stdout",
          "text": [
            "(2, 3.4, True)\n"
          ]
        }
      ]
    },
    {
      "cell_type": "code",
      "source": [
        "y = (1,2,3,4)"
      ],
      "metadata": {
        "id": "-fFFqvzVDZjD"
      },
      "execution_count": 64,
      "outputs": []
    },
    {
      "cell_type": "code",
      "source": [
        "z = x + y\n",
        "print(z)"
      ],
      "metadata": {
        "colab": {
          "base_uri": "https://localhost:8080/"
        },
        "id": "AVKdfpVRDcjo",
        "outputId": "c3af3b38-8ddf-41a0-dddf-312b4b05dc9a"
      },
      "execution_count": 65,
      "outputs": [
        {
          "output_type": "stream",
          "name": "stdout",
          "text": [
            "(2, 3.4, True, 1, 2, 3, 4)\n"
          ]
        }
      ]
    },
    {
      "cell_type": "code",
      "source": [
        "x = {\"apple\", 2, 3.12, False}"
      ],
      "metadata": {
        "id": "iHYrN30AD2eZ"
      },
      "execution_count": 74,
      "outputs": []
    },
    {
      "cell_type": "code",
      "source": [
        "print(x)"
      ],
      "metadata": {
        "colab": {
          "base_uri": "https://localhost:8080/"
        },
        "id": "2bgs1NMpD6zS",
        "outputId": "80598dce-53b2-41ed-d310-5f4abd27f436"
      },
      "execution_count": 70,
      "outputs": [
        {
          "output_type": "stream",
          "name": "stdout",
          "text": [
            "{False, 2, 3.12, 'apple'}\n"
          ]
        }
      ]
    },
    {
      "cell_type": "code",
      "source": [
        "y = {1,2,3,4,2,3}"
      ],
      "metadata": {
        "id": "G83OzJf3EDlo"
      },
      "execution_count": 71,
      "outputs": []
    },
    {
      "cell_type": "code",
      "source": [
        "print(y)"
      ],
      "metadata": {
        "colab": {
          "base_uri": "https://localhost:8080/"
        },
        "id": "dR2a2sGIEPgx",
        "outputId": "b6186fc4-8092-46e4-e6ae-16b60e989024"
      },
      "execution_count": 72,
      "outputs": [
        {
          "output_type": "stream",
          "name": "stdout",
          "text": [
            "{1, 2, 3, 4}\n"
          ]
        }
      ]
    },
    {
      "cell_type": "code",
      "source": [
        "y.add(5)\n",
        "\n",
        "print(y)"
      ],
      "metadata": {
        "colab": {
          "base_uri": "https://localhost:8080/"
        },
        "id": "5OzY0a7vEX4X",
        "outputId": "72029587-edd0-4e1e-9405-16fd5c7d1cf9"
      },
      "execution_count": 75,
      "outputs": [
        {
          "output_type": "stream",
          "name": "stdout",
          "text": [
            "{1, 2, 3, 4, 5}\n"
          ]
        }
      ]
    },
    {
      "cell_type": "code",
      "source": [
        "x.update(y)"
      ],
      "metadata": {
        "id": "f7_M0bbVElbs"
      },
      "execution_count": 76,
      "outputs": []
    },
    {
      "cell_type": "code",
      "source": [
        "print(x)"
      ],
      "metadata": {
        "colab": {
          "base_uri": "https://localhost:8080/"
        },
        "id": "bfvtKBstEnq5",
        "outputId": "d36f2d8c-aa0d-4428-a8d4-e2474ca4a8da"
      },
      "execution_count": 77,
      "outputs": [
        {
          "output_type": "stream",
          "name": "stdout",
          "text": [
            "{False, 1, 2, 3.12, 3, 4, 5, 'apple'}\n"
          ]
        }
      ]
    },
    {
      "cell_type": "code",
      "source": [
        "x.remove(3.12)"
      ],
      "metadata": {
        "id": "oDljRpsdEz0J"
      },
      "execution_count": 78,
      "outputs": []
    },
    {
      "cell_type": "code",
      "source": [
        "print(x)"
      ],
      "metadata": {
        "colab": {
          "base_uri": "https://localhost:8080/"
        },
        "id": "ta4gsXIXE2ch",
        "outputId": "100de0fa-f5db-43ef-e01c-27c9a354fba6"
      },
      "execution_count": 79,
      "outputs": [
        {
          "output_type": "stream",
          "name": "stdout",
          "text": [
            "{False, 1, 2, 3, 4, 5, 'apple'}\n"
          ]
        }
      ]
    },
    {
      "cell_type": "code",
      "source": [
        "x = {1,2,3,4,5,6}\n",
        "\n",
        "y = {5,6,7,8,9,10}"
      ],
      "metadata": {
        "id": "qCFWUAZfE_EQ"
      },
      "execution_count": 80,
      "outputs": []
    },
    {
      "cell_type": "code",
      "source": [
        "print(y.difference(x))"
      ],
      "metadata": {
        "colab": {
          "base_uri": "https://localhost:8080/"
        },
        "id": "FspsiF4dFDoU",
        "outputId": "022c5bff-ac5b-4827-ba7b-217c41ec678e"
      },
      "execution_count": 82,
      "outputs": [
        {
          "output_type": "stream",
          "name": "stdout",
          "text": [
            "{8, 9, 10, 7}\n"
          ]
        }
      ]
    },
    {
      "cell_type": "code",
      "source": [
        "print(x.intersection(y))"
      ],
      "metadata": {
        "colab": {
          "base_uri": "https://localhost:8080/"
        },
        "id": "lJjuD6pMFS5X",
        "outputId": "cc884243-b218-49ca-cc54-58cfaff1e702"
      },
      "execution_count": 83,
      "outputs": [
        {
          "output_type": "stream",
          "name": "stdout",
          "text": [
            "{5, 6}\n"
          ]
        }
      ]
    },
    {
      "cell_type": "code",
      "source": [
        "print(x.symmetric_difference(y))"
      ],
      "metadata": {
        "colab": {
          "base_uri": "https://localhost:8080/"
        },
        "id": "XQFpETY7FcY0",
        "outputId": "409d7079-81ff-43a7-8d13-8cbdb1766ed3"
      },
      "execution_count": 85,
      "outputs": [
        {
          "output_type": "stream",
          "name": "stdout",
          "text": [
            "{1, 2, 3, 4, 7, 8, 9, 10}\n"
          ]
        }
      ]
    },
    {
      "cell_type": "code",
      "source": [
        "x = {\"Name\" : \"John\",\"age\" : 20,\"Country\" : \"India\"}"
      ],
      "metadata": {
        "id": "QfR6x9AlF9N_"
      },
      "execution_count": 87,
      "outputs": []
    },
    {
      "cell_type": "code",
      "source": [
        "print(x)"
      ],
      "metadata": {
        "colab": {
          "base_uri": "https://localhost:8080/"
        },
        "id": "4Sf-BDM1GJys",
        "outputId": "bda44df6-8abf-416f-8ba8-ed117331dccd"
      },
      "execution_count": 88,
      "outputs": [
        {
          "output_type": "stream",
          "name": "stdout",
          "text": [
            "{'Name': 'John', 'age': 20, 'Country': 'India'}\n"
          ]
        }
      ]
    },
    {
      "cell_type": "code",
      "source": [
        "x = {\"Name\" : \"John\",\"age\" : 20,\"Country\" : \"India\", \"age\" : 25}"
      ],
      "metadata": {
        "id": "5SjXBrA_GVxr"
      },
      "execution_count": 89,
      "outputs": []
    },
    {
      "cell_type": "code",
      "source": [
        "print(x)"
      ],
      "metadata": {
        "colab": {
          "base_uri": "https://localhost:8080/"
        },
        "id": "QwqRXc31GY4k",
        "outputId": "b3202edb-3cfe-4617-ff82-f7db6d6ae1d3"
      },
      "execution_count": 90,
      "outputs": [
        {
          "output_type": "stream",
          "name": "stdout",
          "text": [
            "{'Name': 'John', 'age': 25, 'Country': 'India'}\n"
          ]
        }
      ]
    },
    {
      "cell_type": "code",
      "source": [
        "x = {\"Name\" : \"John\",\"age\" : 20,\"Country\" : \"India\", \"Languages\" : [\"english\", \"french\", \"japanese\"]}"
      ],
      "metadata": {
        "id": "Rl39XTt8Gl1V"
      },
      "execution_count": 91,
      "outputs": []
    },
    {
      "cell_type": "code",
      "source": [
        "print(x)"
      ],
      "metadata": {
        "colab": {
          "base_uri": "https://localhost:8080/"
        },
        "id": "FKA6WewJGu-T",
        "outputId": "ac249ac1-a8fc-44ca-a933-9c4ab1b81985"
      },
      "execution_count": 92,
      "outputs": [
        {
          "output_type": "stream",
          "name": "stdout",
          "text": [
            "{'Name': 'John', 'age': 20, 'Country': 'India', 'Languages': ['english', 'french', 'japanese']}\n"
          ]
        }
      ]
    },
    {
      "cell_type": "code",
      "source": [
        "print(x[\"Name\"])"
      ],
      "metadata": {
        "colab": {
          "base_uri": "https://localhost:8080/"
        },
        "id": "dq3VBPz8G-pK",
        "outputId": "f338ca9e-99fb-4b57-e812-a15c8c997445"
      },
      "execution_count": 93,
      "outputs": [
        {
          "output_type": "stream",
          "name": "stdout",
          "text": [
            "John\n"
          ]
        }
      ]
    },
    {
      "cell_type": "code",
      "source": [
        "print(x.get(\"Country\"))"
      ],
      "metadata": {
        "colab": {
          "base_uri": "https://localhost:8080/"
        },
        "id": "Wa3qOtiLHBGJ",
        "outputId": "a7d966a4-befd-46b9-9f11-d203d523fbce"
      },
      "execution_count": 94,
      "outputs": [
        {
          "output_type": "stream",
          "name": "stdout",
          "text": [
            "India\n"
          ]
        }
      ]
    },
    {
      "cell_type": "code",
      "source": [
        "print(x.keys())"
      ],
      "metadata": {
        "colab": {
          "base_uri": "https://localhost:8080/"
        },
        "id": "yak83qKHHFvt",
        "outputId": "2888436b-c0d2-434f-e97d-6a19a05e403f"
      },
      "execution_count": 95,
      "outputs": [
        {
          "output_type": "stream",
          "name": "stdout",
          "text": [
            "dict_keys(['Name', 'age', 'Country', 'Languages'])\n"
          ]
        }
      ]
    },
    {
      "cell_type": "code",
      "source": [
        "print(x.values())"
      ],
      "metadata": {
        "colab": {
          "base_uri": "https://localhost:8080/"
        },
        "id": "ez2QtLC-HRBh",
        "outputId": "c701e10d-48dd-4ea1-da17-b0ceb29daeca"
      },
      "execution_count": 96,
      "outputs": [
        {
          "output_type": "stream",
          "name": "stdout",
          "text": [
            "dict_values(['John', 20, 'India', ['english', 'french', 'japanese']])\n"
          ]
        }
      ]
    },
    {
      "cell_type": "code",
      "source": [
        "print(x.items())"
      ],
      "metadata": {
        "colab": {
          "base_uri": "https://localhost:8080/"
        },
        "id": "BjMAWqzPHTxP",
        "outputId": "0a4c8f04-2777-4273-dd4c-946da1153980"
      },
      "execution_count": 97,
      "outputs": [
        {
          "output_type": "stream",
          "name": "stdout",
          "text": [
            "dict_items([('Name', 'John'), ('age', 20), ('Country', 'India'), ('Languages', ['english', 'french', 'japanese'])])\n"
          ]
        }
      ]
    },
    {
      "cell_type": "code",
      "source": [
        "x[\"age\"]= 30"
      ],
      "metadata": {
        "id": "OwROQi_FHkH6"
      },
      "execution_count": 98,
      "outputs": []
    },
    {
      "cell_type": "code",
      "source": [
        "print(x)"
      ],
      "metadata": {
        "colab": {
          "base_uri": "https://localhost:8080/"
        },
        "id": "47c0tYKlHoH7",
        "outputId": "fa813d87-bb78-4e95-e317-157cecc01e9c"
      },
      "execution_count": 99,
      "outputs": [
        {
          "output_type": "stream",
          "name": "stdout",
          "text": [
            "{'Name': 'John', 'age': 30, 'Country': 'India', 'Languages': ['english', 'french', 'japanese']}\n"
          ]
        }
      ]
    },
    {
      "cell_type": "code",
      "source": [
        "x.update({\"Languages\":\"English\"})"
      ],
      "metadata": {
        "id": "hUVYn7VVHzcB"
      },
      "execution_count": 100,
      "outputs": []
    },
    {
      "cell_type": "code",
      "source": [
        "print(x)"
      ],
      "metadata": {
        "colab": {
          "base_uri": "https://localhost:8080/"
        },
        "id": "kaFINF5BH5Qw",
        "outputId": "5bbbc91e-c084-4e2b-ad97-7bcccf8a23b5"
      },
      "execution_count": 101,
      "outputs": [
        {
          "output_type": "stream",
          "name": "stdout",
          "text": [
            "{'Name': 'John', 'age': 30, 'Country': 'India', 'Languages': 'English'}\n"
          ]
        }
      ]
    },
    {
      "cell_type": "code",
      "source": [
        "x.pop(\"Country\")"
      ],
      "metadata": {
        "colab": {
          "base_uri": "https://localhost:8080/",
          "height": 36
        },
        "id": "wv8DrsxqIB3D",
        "outputId": "1eb65eae-efb4-4183-bcb1-825061686657"
      },
      "execution_count": 102,
      "outputs": [
        {
          "output_type": "execute_result",
          "data": {
            "text/plain": [
              "'India'"
            ],
            "application/vnd.google.colaboratory.intrinsic+json": {
              "type": "string"
            }
          },
          "metadata": {},
          "execution_count": 102
        }
      ]
    },
    {
      "cell_type": "code",
      "source": [
        "print(x)"
      ],
      "metadata": {
        "colab": {
          "base_uri": "https://localhost:8080/"
        },
        "id": "NfKCO-RZIE-o",
        "outputId": "d8b2ea95-e994-45d1-f5d2-e64fe0119f23"
      },
      "execution_count": 103,
      "outputs": [
        {
          "output_type": "stream",
          "name": "stdout",
          "text": [
            "{'Name': 'John', 'age': 30, 'Languages': 'English'}\n"
          ]
        }
      ]
    },
    {
      "cell_type": "code",
      "source": [
        "x = {\"Name\" : \"John\",\"age\" : 20,\"Country\" : \"India\", \"Languages\" : {\"Mother tounge\":\"English\", \"Pro\":\"French\", \"beginner\":\"Japanese\"}}"
      ],
      "metadata": {
        "id": "9j_5IdxUIIwm"
      },
      "execution_count": 104,
      "outputs": []
    },
    {
      "cell_type": "code",
      "source": [
        "print(x)"
      ],
      "metadata": {
        "colab": {
          "base_uri": "https://localhost:8080/"
        },
        "id": "pwS-4Ey9Itpd",
        "outputId": "8d3fe7e4-2803-4f6e-d4b4-6cb45749e2cf"
      },
      "execution_count": 105,
      "outputs": [
        {
          "output_type": "stream",
          "name": "stdout",
          "text": [
            "{'Name': 'John', 'age': 20, 'Country': 'India', 'Languages': {'Mother tounge': 'English', 'Pro': 'French', 'beginner': 'Japanese'}}\n"
          ]
        }
      ]
    }
  ]
}