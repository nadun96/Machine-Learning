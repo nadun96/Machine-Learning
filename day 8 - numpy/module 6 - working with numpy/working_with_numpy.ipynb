{
  "nbformat": 4,
  "nbformat_minor": 0,
  "metadata": {
    "colab": {
      "provenance": []
    },
    "kernelspec": {
      "name": "python3",
      "display_name": "Python 3"
    },
    "language_info": {
      "name": "python"
    }
  },
  "cells": [
    {
      "cell_type": "code",
      "execution_count": 30,
      "metadata": {
        "colab": {
          "base_uri": "https://localhost:8080/"
        },
        "id": "NdcqfUociUEk",
        "outputId": "81dcf5a5-6ab7-4355-9b45-797f49bb4441"
      },
      "outputs": [
        {
          "output_type": "stream",
          "name": "stdout",
          "text": [
            "Looking in indexes: https://pypi.org/simple, https://us-python.pkg.dev/colab-wheels/public/simple/\n",
            "Requirement already satisfied: numpy in /usr/local/lib/python3.8/dist-packages (1.22.4)\n"
          ]
        }
      ],
      "source": [
        "!pip install numpy"
      ]
    },
    {
      "cell_type": "code",
      "source": [
        "import numpy as np"
      ],
      "metadata": {
        "id": "uEingx5eksp8"
      },
      "execution_count": 31,
      "outputs": []
    },
    {
      "cell_type": "code",
      "source": [
        "x = [1,2,3,4,5]"
      ],
      "metadata": {
        "id": "2EvcWIxfk0kv"
      },
      "execution_count": 32,
      "outputs": []
    },
    {
      "cell_type": "code",
      "source": [
        "y = np.array(x)\n",
        "print(y)"
      ],
      "metadata": {
        "colab": {
          "base_uri": "https://localhost:8080/"
        },
        "id": "XIOSg079lD9g",
        "outputId": "231ae956-3fb7-4f94-ad8f-5c537a3e41cd"
      },
      "execution_count": 33,
      "outputs": [
        {
          "output_type": "stream",
          "name": "stdout",
          "text": [
            "[1 2 3 4 5]\n"
          ]
        }
      ]
    },
    {
      "cell_type": "code",
      "source": [
        "print(type(y))"
      ],
      "metadata": {
        "colab": {
          "base_uri": "https://localhost:8080/"
        },
        "id": "w67bHS3ilLLj",
        "outputId": "a2a966af-f576-4dd2-cf96-1437f827e3ac"
      },
      "execution_count": 34,
      "outputs": [
        {
          "output_type": "stream",
          "name": "stdout",
          "text": [
            "<class 'numpy.ndarray'>\n"
          ]
        }
      ]
    },
    {
      "cell_type": "code",
      "source": [
        "print(type(x))"
      ],
      "metadata": {
        "colab": {
          "base_uri": "https://localhost:8080/"
        },
        "id": "QSd9V-hGlQcr",
        "outputId": "65d27c24-44cd-4dae-8c27-8b6e96d90b0a"
      },
      "execution_count": 35,
      "outputs": [
        {
          "output_type": "stream",
          "name": "stdout",
          "text": [
            "<class 'list'>\n"
          ]
        }
      ]
    },
    {
      "cell_type": "code",
      "source": [
        "z = np.array(7)"
      ],
      "metadata": {
        "id": "qysH1frTlghM"
      },
      "execution_count": 36,
      "outputs": []
    },
    {
      "cell_type": "code",
      "source": [
        "print(z)"
      ],
      "metadata": {
        "colab": {
          "base_uri": "https://localhost:8080/"
        },
        "id": "Bl9v3-2uli4o",
        "outputId": "7b62d7cf-9263-4ae0-9b06-6c655ca7b183"
      },
      "execution_count": 37,
      "outputs": [
        {
          "output_type": "stream",
          "name": "stdout",
          "text": [
            "7\n"
          ]
        }
      ]
    },
    {
      "cell_type": "code",
      "source": [
        "print(type(z))"
      ],
      "metadata": {
        "colab": {
          "base_uri": "https://localhost:8080/"
        },
        "id": "PwveRbCJlj6g",
        "outputId": "258f08e6-b49b-4f0e-80cb-ca7aa71abd1d"
      },
      "execution_count": 38,
      "outputs": [
        {
          "output_type": "stream",
          "name": "stdout",
          "text": [
            "<class 'numpy.ndarray'>\n"
          ]
        }
      ]
    },
    {
      "cell_type": "code",
      "source": [
        "x = np.array([[1,2,3,4],[5,6,7,8]])"
      ],
      "metadata": {
        "id": "iLjzQ9cnl2Gk"
      },
      "execution_count": 39,
      "outputs": []
    },
    {
      "cell_type": "code",
      "source": [
        "print(x)"
      ],
      "metadata": {
        "colab": {
          "base_uri": "https://localhost:8080/"
        },
        "id": "TmMX8ksZl-kR",
        "outputId": "cbf0557a-1bec-4583-a7c4-e6698e4e2ebb"
      },
      "execution_count": 40,
      "outputs": [
        {
          "output_type": "stream",
          "name": "stdout",
          "text": [
            "[[1 2 3 4]\n",
            " [5 6 7 8]]\n"
          ]
        }
      ]
    },
    {
      "cell_type": "code",
      "source": [
        "x = np.array([[[1,2,3], [4,5,6]], [[7,8,9], [10,11,12]]])"
      ],
      "metadata": {
        "id": "IZrjPFccmZRo"
      },
      "execution_count": 51,
      "outputs": []
    },
    {
      "cell_type": "code",
      "source": [
        "print(x)"
      ],
      "metadata": {
        "colab": {
          "base_uri": "https://localhost:8080/"
        },
        "id": "J1dtFR3bmlQz",
        "outputId": "34bf5a31-50da-4299-bd54-ab0b826e5475"
      },
      "execution_count": 42,
      "outputs": [
        {
          "output_type": "stream",
          "name": "stdout",
          "text": [
            "[[[ 1  2  3]\n",
            "  [ 4  5  6]]\n",
            "\n",
            " [[ 7  8  9]\n",
            "  [10 11 12]]]\n"
          ]
        }
      ]
    },
    {
      "cell_type": "code",
      "source": [
        "x[1,0,1]"
      ],
      "metadata": {
        "colab": {
          "base_uri": "https://localhost:8080/"
        },
        "id": "FRwDDv2-peVN",
        "outputId": "dcbf7312-7cfc-4150-b07f-84af7bd7648d"
      },
      "execution_count": 53,
      "outputs": [
        {
          "output_type": "execute_result",
          "data": {
            "text/plain": [
              "8"
            ]
          },
          "metadata": {},
          "execution_count": 53
        }
      ]
    },
    {
      "cell_type": "code",
      "source": [
        "x = np.array([1,2,3,4,5])"
      ],
      "metadata": {
        "id": "YQ0xx6T1m1MA"
      },
      "execution_count": 43,
      "outputs": []
    },
    {
      "cell_type": "code",
      "source": [
        "x[2]"
      ],
      "metadata": {
        "colab": {
          "base_uri": "https://localhost:8080/"
        },
        "id": "msgvfEFWm3ds",
        "outputId": "3296feb9-06c6-459f-8703-96b39b847677"
      },
      "execution_count": 44,
      "outputs": [
        {
          "output_type": "execute_result",
          "data": {
            "text/plain": [
              "3"
            ]
          },
          "metadata": {},
          "execution_count": 44
        }
      ]
    },
    {
      "cell_type": "code",
      "source": [
        "x = np.array([[1,2,3,4],[5,6,7,8]])"
      ],
      "metadata": {
        "id": "m9VlsZ-wn4R4"
      },
      "execution_count": 47,
      "outputs": []
    },
    {
      "cell_type": "code",
      "source": [
        "x[1,1]"
      ],
      "metadata": {
        "colab": {
          "base_uri": "https://localhost:8080/"
        },
        "id": "MAsrAwhupG20",
        "outputId": "569ecd81-db8e-4e66-c4b9-efbbbc1d9305"
      },
      "execution_count": 48,
      "outputs": [
        {
          "output_type": "execute_result",
          "data": {
            "text/plain": [
              "6"
            ]
          },
          "metadata": {},
          "execution_count": 48
        }
      ]
    },
    {
      "cell_type": "code",
      "source": [
        "x[0,3]"
      ],
      "metadata": {
        "colab": {
          "base_uri": "https://localhost:8080/"
        },
        "id": "uxnZ4FGvpNhi",
        "outputId": "e447e794-4eae-400f-e88b-1c547a52519b"
      },
      "execution_count": 49,
      "outputs": [
        {
          "output_type": "execute_result",
          "data": {
            "text/plain": [
              "4"
            ]
          },
          "metadata": {},
          "execution_count": 49
        }
      ]
    },
    {
      "cell_type": "code",
      "source": [
        "oned = np.array([1,2,3,4,5,6,7,78])\n",
        "\n",
        "oned[1:7]"
      ],
      "metadata": {
        "colab": {
          "base_uri": "https://localhost:8080/"
        },
        "id": "a6k5PDq3p0PX",
        "outputId": "717bbc82-8acd-444d-896a-da1b27fece38"
      },
      "execution_count": 56,
      "outputs": [
        {
          "output_type": "execute_result",
          "data": {
            "text/plain": [
              "array([2, 3, 4, 5, 6, 7])"
            ]
          },
          "metadata": {},
          "execution_count": 56
        }
      ]
    },
    {
      "cell_type": "code",
      "source": [
        "twod = np.array([[1,2,3,4],[5,6,7,8]])"
      ],
      "metadata": {
        "id": "0xrvK6RiqO87"
      },
      "execution_count": 57,
      "outputs": []
    },
    {
      "cell_type": "code",
      "source": [
        "twod[0:2, 1:4]"
      ],
      "metadata": {
        "colab": {
          "base_uri": "https://localhost:8080/"
        },
        "id": "cWxyW7PMqvm0",
        "outputId": "86232802-e638-4a20-f168-015e07c1f195"
      },
      "execution_count": 62,
      "outputs": [
        {
          "output_type": "execute_result",
          "data": {
            "text/plain": [
              "array([[2, 3, 4],\n",
              "       [6, 7, 8]])"
            ]
          },
          "metadata": {},
          "execution_count": 62
        }
      ]
    },
    {
      "cell_type": "code",
      "source": [
        "twod[0, 1:5]"
      ],
      "metadata": {
        "colab": {
          "base_uri": "https://localhost:8080/"
        },
        "id": "b7z3HYutqWaM",
        "outputId": "81403e11-57cb-4058-a28f-9be39488ad5e"
      },
      "execution_count": 60,
      "outputs": [
        {
          "output_type": "execute_result",
          "data": {
            "text/plain": [
              "array([2, 3, 4])"
            ]
          },
          "metadata": {},
          "execution_count": 60
        }
      ]
    },
    {
      "cell_type": "code",
      "source": [
        "twod[0:2, 1]"
      ],
      "metadata": {
        "colab": {
          "base_uri": "https://localhost:8080/"
        },
        "id": "N2ztaBGaqrlQ",
        "outputId": "46e3e67b-71ec-4901-c5ed-ade8d4a5ebe6"
      },
      "execution_count": 61,
      "outputs": [
        {
          "output_type": "execute_result",
          "data": {
            "text/plain": [
              "array([2, 6])"
            ]
          },
          "metadata": {},
          "execution_count": 61
        }
      ]
    },
    {
      "cell_type": "code",
      "source": [
        "x = np.array([1,2,3,4,5])\n",
        "y = x.copy()\n",
        "z = x.view()\n",
        "\n",
        "x[0] = 18"
      ],
      "metadata": {
        "id": "3x72xEEJrElu"
      },
      "execution_count": 63,
      "outputs": []
    },
    {
      "cell_type": "code",
      "source": [
        "print(x)"
      ],
      "metadata": {
        "colab": {
          "base_uri": "https://localhost:8080/"
        },
        "id": "tMieF01krNkT",
        "outputId": "ac142720-13dd-4eea-b42b-34548208b1b8"
      },
      "execution_count": 64,
      "outputs": [
        {
          "output_type": "stream",
          "name": "stdout",
          "text": [
            "[18  2  3  4  5]\n"
          ]
        }
      ]
    },
    {
      "cell_type": "code",
      "source": [
        "print(y)"
      ],
      "metadata": {
        "colab": {
          "base_uri": "https://localhost:8080/"
        },
        "id": "1t-5ff_rrQOh",
        "outputId": "11dfc297-3ae7-4d48-8dd2-28feaba751d3"
      },
      "execution_count": 65,
      "outputs": [
        {
          "output_type": "stream",
          "name": "stdout",
          "text": [
            "[1 2 3 4 5]\n"
          ]
        }
      ]
    },
    {
      "cell_type": "code",
      "source": [
        "print(z)"
      ],
      "metadata": {
        "colab": {
          "base_uri": "https://localhost:8080/"
        },
        "id": "zdh3a2iUrUzj",
        "outputId": "62ae2eb4-02b1-4928-fc13-dfe562d88272"
      },
      "execution_count": 66,
      "outputs": [
        {
          "output_type": "stream",
          "name": "stdout",
          "text": [
            "[18  2  3  4  5]\n"
          ]
        }
      ]
    },
    {
      "cell_type": "code",
      "source": [
        "print(z.shape)"
      ],
      "metadata": {
        "colab": {
          "base_uri": "https://localhost:8080/"
        },
        "id": "X9ne-GAnrc9b",
        "outputId": "37a43e13-7701-45cd-9b4b-630919123227"
      },
      "execution_count": 67,
      "outputs": [
        {
          "output_type": "stream",
          "name": "stdout",
          "text": [
            "(5,)\n"
          ]
        }
      ]
    },
    {
      "cell_type": "code",
      "source": [
        "x = np.array([[1,2,3,4],[5,6,7,8]])"
      ],
      "metadata": {
        "id": "WWXmtGQqrhbq"
      },
      "execution_count": 68,
      "outputs": []
    },
    {
      "cell_type": "code",
      "source": [
        "x.shape"
      ],
      "metadata": {
        "colab": {
          "base_uri": "https://localhost:8080/"
        },
        "id": "Yj5g1Eiyri1Z",
        "outputId": "515acea8-56bc-4d93-9799-7988c30c588b"
      },
      "execution_count": 69,
      "outputs": [
        {
          "output_type": "execute_result",
          "data": {
            "text/plain": [
              "(2, 4)"
            ]
          },
          "metadata": {},
          "execution_count": 69
        }
      ]
    },
    {
      "cell_type": "code",
      "source": [
        "x = np.array([[[1,2,3], [4,5,6]], [[7,8,9], [10,11,12]]])"
      ],
      "metadata": {
        "id": "Oo2un3U1rmE8"
      },
      "execution_count": 70,
      "outputs": []
    },
    {
      "cell_type": "code",
      "source": [
        "x.shape"
      ],
      "metadata": {
        "colab": {
          "base_uri": "https://localhost:8080/"
        },
        "id": "Eb6YbN5Irn3R",
        "outputId": "e1eafd6c-fd79-4fa0-b2ee-3fe33642277c"
      },
      "execution_count": 71,
      "outputs": [
        {
          "output_type": "execute_result",
          "data": {
            "text/plain": [
              "(2, 2, 3)"
            ]
          },
          "metadata": {},
          "execution_count": 71
        }
      ]
    },
    {
      "cell_type": "code",
      "source": [
        "x = np.array([\"a\", \"b\", \"c\", \"d\", \"e\", \"f\", \"g\", \"h\",\"i\", \"j\"])\n",
        "y = x.reshape(5,2)\n",
        "y"
      ],
      "metadata": {
        "colab": {
          "base_uri": "https://localhost:8080/"
        },
        "id": "aSoWpwZLr3fV",
        "outputId": "f498a879-def3-4492-b8ee-2e19e032620b"
      },
      "execution_count": 73,
      "outputs": [
        {
          "output_type": "execute_result",
          "data": {
            "text/plain": [
              "array([['a', 'b'],\n",
              "       ['c', 'd'],\n",
              "       ['e', 'f'],\n",
              "       ['g', 'h'],\n",
              "       ['i', 'j']], dtype='<U1')"
            ]
          },
          "metadata": {},
          "execution_count": 73
        }
      ]
    },
    {
      "cell_type": "code",
      "source": [
        "x = np.array([\"a\", \"b\", \"c\", \"d\", \"e\", \"f\", \"g\", \"h\",\"i\", \"j\", \"k\", \"l\"])\n",
        "y = x.reshape(2,3,2)\n",
        "y"
      ],
      "metadata": {
        "colab": {
          "base_uri": "https://localhost:8080/"
        },
        "id": "6VF9ZigIsNYJ",
        "outputId": "4bd780e6-a47d-48db-bcc7-0a7f17a7e853"
      },
      "execution_count": 75,
      "outputs": [
        {
          "output_type": "execute_result",
          "data": {
            "text/plain": [
              "array([[['a', 'b'],\n",
              "        ['c', 'd'],\n",
              "        ['e', 'f']],\n",
              "\n",
              "       [['g', 'h'],\n",
              "        ['i', 'j'],\n",
              "        ['k', 'l']]], dtype='<U1')"
            ]
          },
          "metadata": {},
          "execution_count": 75
        }
      ]
    },
    {
      "cell_type": "code",
      "source": [
        "print(y)"
      ],
      "metadata": {
        "colab": {
          "base_uri": "https://localhost:8080/"
        },
        "id": "RemnLivlse3X",
        "outputId": "5b326222-0832-4e5a-fea2-04dc67189e97"
      },
      "execution_count": 76,
      "outputs": [
        {
          "output_type": "stream",
          "name": "stdout",
          "text": [
            "[[['a' 'b']\n",
            "  ['c' 'd']\n",
            "  ['e' 'f']]\n",
            "\n",
            " [['g' 'h']\n",
            "  ['i' 'j']\n",
            "  ['k' 'l']]]\n"
          ]
        }
      ]
    },
    {
      "cell_type": "code",
      "source": [
        "y.shape"
      ],
      "metadata": {
        "colab": {
          "base_uri": "https://localhost:8080/"
        },
        "id": "oDHdM6SHsgK_",
        "outputId": "ed644750-9d44-4e11-e252-1fd452df9e3a"
      },
      "execution_count": 77,
      "outputs": [
        {
          "output_type": "execute_result",
          "data": {
            "text/plain": [
              "(2, 3, 2)"
            ]
          },
          "metadata": {},
          "execution_count": 77
        }
      ]
    },
    {
      "cell_type": "code",
      "source": [
        "z = y.reshape(-1)"
      ],
      "metadata": {
        "id": "YhDdkEPgshfl"
      },
      "execution_count": 78,
      "outputs": []
    },
    {
      "cell_type": "code",
      "source": [
        "print(z)\n",
        "print(z.shape)"
      ],
      "metadata": {
        "colab": {
          "base_uri": "https://localhost:8080/"
        },
        "id": "33McWlhMskEj",
        "outputId": "23e9c066-c782-4536-9370-421a0d4ef189"
      },
      "execution_count": 79,
      "outputs": [
        {
          "output_type": "stream",
          "name": "stdout",
          "text": [
            "['a' 'b' 'c' 'd' 'e' 'f' 'g' 'h' 'i' 'j' 'k' 'l']\n",
            "(12,)\n"
          ]
        }
      ]
    },
    {
      "cell_type": "code",
      "source": [
        "for ele in z:\n",
        "  print(ele)"
      ],
      "metadata": {
        "colab": {
          "base_uri": "https://localhost:8080/"
        },
        "id": "6qHBGz9ZstLh",
        "outputId": "b7a780a6-7642-47c2-9ceb-25e0f93f643a"
      },
      "execution_count": 83,
      "outputs": [
        {
          "output_type": "stream",
          "name": "stdout",
          "text": [
            "a\n",
            "b\n",
            "c\n",
            "d\n",
            "e\n",
            "f\n",
            "g\n",
            "h\n",
            "i\n",
            "j\n",
            "k\n",
            "l\n"
          ]
        }
      ]
    },
    {
      "cell_type": "code",
      "source": [
        "x = np.array([[1,2,3,4],[5,6,7,8]])\n",
        "for ele in x:\n",
        "  print(ele)\n",
        "  for element in ele:\n",
        "    print(element)\n"
      ],
      "metadata": {
        "colab": {
          "base_uri": "https://localhost:8080/"
        },
        "id": "H0gAnRbxs1ZD",
        "outputId": "1b3e2c92-74f3-4336-b41c-57de801b8fcb"
      },
      "execution_count": 86,
      "outputs": [
        {
          "output_type": "stream",
          "name": "stdout",
          "text": [
            "[1 2 3 4]\n",
            "1\n",
            "2\n",
            "3\n",
            "4\n",
            "[5 6 7 8]\n",
            "5\n",
            "6\n",
            "7\n",
            "8\n"
          ]
        }
      ]
    },
    {
      "cell_type": "code",
      "source": [
        "x = np.array([\"a\", \"b\", \"c\", \"d\", \"e\", \"f\", \"g\", \"h\",\"i\", \"j\", \"k\", \"l\"])\n",
        "y = x.reshape(2,3,2)\n",
        "y"
      ],
      "metadata": {
        "colab": {
          "base_uri": "https://localhost:8080/"
        },
        "id": "HgzOjB7atXg7",
        "outputId": "d87626f7-65e0-43d2-ae50-e8ff91f8347b"
      },
      "execution_count": 87,
      "outputs": [
        {
          "output_type": "execute_result",
          "data": {
            "text/plain": [
              "array([[['a', 'b'],\n",
              "        ['c', 'd'],\n",
              "        ['e', 'f']],\n",
              "\n",
              "       [['g', 'h'],\n",
              "        ['i', 'j'],\n",
              "        ['k', 'l']]], dtype='<U1')"
            ]
          },
          "metadata": {},
          "execution_count": 87
        }
      ]
    },
    {
      "cell_type": "code",
      "source": [
        "for a in y:\n",
        "  print(a)\n",
        "  print(\"____\")\n",
        "  for b in a:\n",
        "    print(b)\n",
        "    print(\"---\")\n",
        "    for c in b:\n",
        "      print(c)\n",
        "      print(\"$$$\")"
      ],
      "metadata": {
        "colab": {
          "base_uri": "https://localhost:8080/"
        },
        "id": "SfZgU2HOtYk5",
        "outputId": "1f3318fd-1ab9-491f-a354-c5eba277405e"
      },
      "execution_count": 91,
      "outputs": [
        {
          "output_type": "stream",
          "name": "stdout",
          "text": [
            "[['a' 'b']\n",
            " ['c' 'd']\n",
            " ['e' 'f']]\n",
            "____\n",
            "['a' 'b']\n",
            "---\n",
            "a\n",
            "$$$\n",
            "b\n",
            "$$$\n",
            "['c' 'd']\n",
            "---\n",
            "c\n",
            "$$$\n",
            "d\n",
            "$$$\n",
            "['e' 'f']\n",
            "---\n",
            "e\n",
            "$$$\n",
            "f\n",
            "$$$\n",
            "[['g' 'h']\n",
            " ['i' 'j']\n",
            " ['k' 'l']]\n",
            "____\n",
            "['g' 'h']\n",
            "---\n",
            "g\n",
            "$$$\n",
            "h\n",
            "$$$\n",
            "['i' 'j']\n",
            "---\n",
            "i\n",
            "$$$\n",
            "j\n",
            "$$$\n",
            "['k' 'l']\n",
            "---\n",
            "k\n",
            "$$$\n",
            "l\n",
            "$$$\n"
          ]
        }
      ]
    },
    {
      "cell_type": "code",
      "source": [
        "for a in y:\n",
        "  for b in a:\n",
        "    for c in b:\n",
        "      print(c)\n",
        "  "
      ],
      "metadata": {
        "colab": {
          "base_uri": "https://localhost:8080/"
        },
        "id": "tOQimAmstt4Y",
        "outputId": "8d2a0fad-933b-48a1-ae12-0f81c29ee943"
      },
      "execution_count": 92,
      "outputs": [
        {
          "output_type": "stream",
          "name": "stdout",
          "text": [
            "a\n",
            "b\n",
            "c\n",
            "d\n",
            "e\n",
            "f\n",
            "g\n",
            "h\n",
            "i\n",
            "j\n",
            "k\n",
            "l\n"
          ]
        }
      ]
    },
    {
      "cell_type": "markdown",
      "source": [],
      "metadata": {
        "id": "YiL_XvTNt5Aj"
      }
    },
    {
      "cell_type": "code",
      "source": [
        "x = np.array([1,2,3])\n",
        "y = np.array([4,5,6])\n",
        "z = np.concatenate((x,y))\n",
        "z"
      ],
      "metadata": {
        "colab": {
          "base_uri": "https://localhost:8080/"
        },
        "id": "NLaG9wzAt5LB",
        "outputId": "02524c19-ea0f-4575-f9fb-e8e2820d2fd2"
      },
      "execution_count": 93,
      "outputs": [
        {
          "output_type": "execute_result",
          "data": {
            "text/plain": [
              "array([1, 2, 3, 4, 5, 6])"
            ]
          },
          "metadata": {},
          "execution_count": 93
        }
      ]
    },
    {
      "cell_type": "code",
      "source": [
        "x = np.array([[1,2,3]])\n",
        "y = np.array([[4,5,6]])\n",
        "z = np.concatenate((x,y), axis=0)\n",
        "z"
      ],
      "metadata": {
        "colab": {
          "base_uri": "https://localhost:8080/"
        },
        "id": "hoMzxgutuGIM",
        "outputId": "170c2a94-c061-46f3-cb44-ab430e2de8ee"
      },
      "execution_count": 95,
      "outputs": [
        {
          "output_type": "execute_result",
          "data": {
            "text/plain": [
              "array([[1, 2, 3],\n",
              "       [4, 5, 6]])"
            ]
          },
          "metadata": {},
          "execution_count": 95
        }
      ]
    },
    {
      "cell_type": "code",
      "source": [
        "x = np.array([[1,2,3]])\n",
        "y = np.array([[4,5,6]])\n",
        "z = np.concatenate((x,y), axis=1)\n",
        "z"
      ],
      "metadata": {
        "colab": {
          "base_uri": "https://localhost:8080/"
        },
        "id": "NRLrE_EkuN6J",
        "outputId": "31563f4d-2662-4c65-9c9e-6a9b13b22aa5"
      },
      "execution_count": 96,
      "outputs": [
        {
          "output_type": "execute_result",
          "data": {
            "text/plain": [
              "array([[1, 2, 3, 4, 5, 6]])"
            ]
          },
          "metadata": {},
          "execution_count": 96
        }
      ]
    },
    {
      "cell_type": "code",
      "source": [
        "x = np.array([1,2,3])\n",
        "y = np.array([4,5,6])\n",
        "z = np.hstack((x,y))\n",
        "z"
      ],
      "metadata": {
        "colab": {
          "base_uri": "https://localhost:8080/"
        },
        "id": "OkMGqy25ubxw",
        "outputId": "914795bd-f4f3-4950-a201-338d45d6862c"
      },
      "execution_count": 97,
      "outputs": [
        {
          "output_type": "execute_result",
          "data": {
            "text/plain": [
              "array([1, 2, 3, 4, 5, 6])"
            ]
          },
          "metadata": {},
          "execution_count": 97
        }
      ]
    },
    {
      "cell_type": "code",
      "source": [
        "x = np.array([1,2,3])\n",
        "y = np.array([4,5,6])\n",
        "z = np.vstack((x,y))\n",
        "z"
      ],
      "metadata": {
        "colab": {
          "base_uri": "https://localhost:8080/"
        },
        "id": "sNmoB4F7ulGt",
        "outputId": "f54a4155-1ac3-4897-c3dc-8c412f213696"
      },
      "execution_count": 98,
      "outputs": [
        {
          "output_type": "execute_result",
          "data": {
            "text/plain": [
              "array([[1, 2, 3],\n",
              "       [4, 5, 6]])"
            ]
          },
          "metadata": {},
          "execution_count": 98
        }
      ]
    },
    {
      "cell_type": "code",
      "source": [
        "x = np.array([1,2,3])\n",
        "y = np.array([4,5,6])\n",
        "z = np.dstack((x,y))\n",
        "z"
      ],
      "metadata": {
        "colab": {
          "base_uri": "https://localhost:8080/"
        },
        "id": "I6nOsGBVuq1z",
        "outputId": "5b8d03ad-bfba-4455-af0d-769c5d6a93d5"
      },
      "execution_count": 105,
      "outputs": [
        {
          "output_type": "execute_result",
          "data": {
            "text/plain": [
              "array([[[1, 4],\n",
              "        [2, 5],\n",
              "        [3, 6]]])"
            ]
          },
          "metadata": {},
          "execution_count": 105
        }
      ]
    },
    {
      "cell_type": "code",
      "source": [
        "x = np.array([1,2,3])\n",
        "y = np.array([4,5,6])\n",
        "z = np.hstack((x,y))\n",
        "z"
      ],
      "metadata": {
        "colab": {
          "base_uri": "https://localhost:8080/"
        },
        "id": "dGzyAeeTu3HO",
        "outputId": "fe504b08-8349-4b02-ac8f-15fa53c78194"
      },
      "execution_count": 100,
      "outputs": [
        {
          "output_type": "execute_result",
          "data": {
            "text/plain": [
              "array([1, 2, 3, 4, 5, 6])"
            ]
          },
          "metadata": {},
          "execution_count": 100
        }
      ]
    },
    {
      "cell_type": "code",
      "source": [
        "y = np.array_split(z, 3)"
      ],
      "metadata": {
        "id": "-VONPTEru5ZR"
      },
      "execution_count": 103,
      "outputs": []
    },
    {
      "cell_type": "code",
      "source": [
        "y"
      ],
      "metadata": {
        "colab": {
          "base_uri": "https://localhost:8080/"
        },
        "id": "2PHLYzR4u-Qo",
        "outputId": "7a4dead7-1161-43c0-bd4a-fe5b55b669d7"
      },
      "execution_count": 104,
      "outputs": [
        {
          "output_type": "execute_result",
          "data": {
            "text/plain": [
              "[array([1, 2]), array([3, 4]), array([5, 6])]"
            ]
          },
          "metadata": {},
          "execution_count": 104
        }
      ]
    },
    {
      "cell_type": "code",
      "source": [
        "x = np.array([1,2,3])\n",
        "y = np.array([4,5,6])\n",
        "z = np.dstack((x,y))\n",
        "z"
      ],
      "metadata": {
        "colab": {
          "base_uri": "https://localhost:8080/"
        },
        "id": "OJ270RNovS3o",
        "outputId": "3724deeb-702e-4138-9659-ce4976bf8992"
      },
      "execution_count": 106,
      "outputs": [
        {
          "output_type": "execute_result",
          "data": {
            "text/plain": [
              "array([[[1, 4],\n",
              "        [2, 5],\n",
              "        [3, 6]]])"
            ]
          },
          "metadata": {},
          "execution_count": 106
        }
      ]
    },
    {
      "cell_type": "code",
      "source": [
        "x = np.array([[1,2], [3,4], [5,6], [7,8], [9,10],[11,12]])\n",
        "y = np.array_split(x, 3)"
      ],
      "metadata": {
        "id": "60nfQ2BOvLPB"
      },
      "execution_count": 107,
      "outputs": []
    },
    {
      "cell_type": "code",
      "source": [
        "y"
      ],
      "metadata": {
        "colab": {
          "base_uri": "https://localhost:8080/"
        },
        "id": "rBf2a1Yfva96",
        "outputId": "fa63f9c1-c5bb-4cfa-8b69-05ac055d43d7"
      },
      "execution_count": 108,
      "outputs": [
        {
          "output_type": "execute_result",
          "data": {
            "text/plain": [
              "[array([[1, 2],\n",
              "        [3, 4]]), array([[5, 6],\n",
              "        [7, 8]]), array([[ 9, 10],\n",
              "        [11, 12]])]"
            ]
          },
          "metadata": {},
          "execution_count": 108
        }
      ]
    },
    {
      "cell_type": "code",
      "source": [
        "x = np.array([[1,2], [3,4], [5,6], [7,8], [9,10],[11,12]])\n",
        "y = np.array_split(x, 4, axis=1)\n",
        "y"
      ],
      "metadata": {
        "colab": {
          "base_uri": "https://localhost:8080/"
        },
        "id": "u4a7kWxuvilA",
        "outputId": "bd463731-85f1-4e46-8eea-68ca6ed92517"
      },
      "execution_count": 111,
      "outputs": [
        {
          "output_type": "execute_result",
          "data": {
            "text/plain": [
              "[array([[ 1],\n",
              "        [ 3],\n",
              "        [ 5],\n",
              "        [ 7],\n",
              "        [ 9],\n",
              "        [11]]), array([[ 2],\n",
              "        [ 4],\n",
              "        [ 6],\n",
              "        [ 8],\n",
              "        [10],\n",
              "        [12]]), array([], shape=(6, 0), dtype=int64), array([], shape=(6, 0), dtype=int64)]"
            ]
          },
          "metadata": {},
          "execution_count": 111
        }
      ]
    },
    {
      "cell_type": "code",
      "source": [
        "x = np.array([[1,2], [3,4], [5,6], [7,8], [9,10],[11,12]])\n",
        "h = np.hsplit(x,2)\n",
        "print(h)"
      ],
      "metadata": {
        "colab": {
          "base_uri": "https://localhost:8080/"
        },
        "id": "a5yiGyBYvxgI",
        "outputId": "c628127b-85af-49ca-9985-50605404e935"
      },
      "execution_count": 112,
      "outputs": [
        {
          "output_type": "stream",
          "name": "stdout",
          "text": [
            "[array([[ 1],\n",
            "       [ 3],\n",
            "       [ 5],\n",
            "       [ 7],\n",
            "       [ 9],\n",
            "       [11]]), array([[ 2],\n",
            "       [ 4],\n",
            "       [ 6],\n",
            "       [ 8],\n",
            "       [10],\n",
            "       [12]])]\n"
          ]
        }
      ]
    },
    {
      "cell_type": "code",
      "source": [
        "x = np.array([[1,2], [3,4], [5,6], [7,8], [9,10],[11,12]])\n",
        "v = np.vsplit(x,2)\n",
        "print(v)"
      ],
      "metadata": {
        "colab": {
          "base_uri": "https://localhost:8080/"
        },
        "id": "ND1y3z5Xv43U",
        "outputId": "dfda2920-2876-40ab-9f81-5c1c53f6b674"
      },
      "execution_count": 114,
      "outputs": [
        {
          "output_type": "stream",
          "name": "stdout",
          "text": [
            "[array([[1, 2],\n",
            "       [3, 4],\n",
            "       [5, 6]]), array([[ 7,  8],\n",
            "       [ 9, 10],\n",
            "       [11, 12]])]\n"
          ]
        }
      ]
    },
    {
      "cell_type": "code",
      "source": [
        "a = np.array([[[1,2],[3,4],[5,6]], [[7,8],[9,10],[11,12]]])"
      ],
      "metadata": {
        "id": "P2e4Koitv-Ro"
      },
      "execution_count": 115,
      "outputs": []
    },
    {
      "cell_type": "code",
      "source": [
        "d = np.dsplit(a, 2)"
      ],
      "metadata": {
        "id": "loZ_mfAnwL_J"
      },
      "execution_count": 116,
      "outputs": []
    },
    {
      "cell_type": "code",
      "source": [
        "d"
      ],
      "metadata": {
        "colab": {
          "base_uri": "https://localhost:8080/"
        },
        "id": "N5jbVAyUwOcn",
        "outputId": "ae03d303-f766-4260-99ce-338ac1989dd3"
      },
      "execution_count": 117,
      "outputs": [
        {
          "output_type": "execute_result",
          "data": {
            "text/plain": [
              "[array([[[ 1],\n",
              "         [ 3],\n",
              "         [ 5]],\n",
              " \n",
              "        [[ 7],\n",
              "         [ 9],\n",
              "         [11]]]), array([[[ 2],\n",
              "         [ 4],\n",
              "         [ 6]],\n",
              " \n",
              "        [[ 8],\n",
              "         [10],\n",
              "         [12]]])]"
            ]
          },
          "metadata": {},
          "execution_count": 117
        }
      ]
    },
    {
      "cell_type": "code",
      "source": [
        "x = np.array([1,2,3,4,5,6,7,1,2,3])"
      ],
      "metadata": {
        "id": "Gk9AZYAdwX0i"
      },
      "execution_count": 119,
      "outputs": []
    },
    {
      "cell_type": "code",
      "source": [
        "y= np.where(x == 3)"
      ],
      "metadata": {
        "id": "2Xq4JZvtwcDW"
      },
      "execution_count": 122,
      "outputs": []
    },
    {
      "cell_type": "code",
      "source": [
        "print(y)"
      ],
      "metadata": {
        "colab": {
          "base_uri": "https://localhost:8080/"
        },
        "id": "Km5FEc7swhAp",
        "outputId": "26ef3eee-fe6c-481b-e933-5d3cad3bbb7f"
      },
      "execution_count": 123,
      "outputs": [
        {
          "output_type": "stream",
          "name": "stdout",
          "text": [
            "(array([2, 9]),)\n"
          ]
        }
      ]
    },
    {
      "cell_type": "code",
      "source": [
        "x = np.array([3,532,2,313,5,772,3,34])\n",
        "y = np.sort(x)\n",
        "y"
      ],
      "metadata": {
        "colab": {
          "base_uri": "https://localhost:8080/"
        },
        "id": "FYfJkpKtwtDt",
        "outputId": "a09cfa48-8aa2-491b-ee42-64871fe56462"
      },
      "execution_count": 124,
      "outputs": [
        {
          "output_type": "execute_result",
          "data": {
            "text/plain": [
              "array([  2,   3,   3,   5,  34, 313, 532, 772])"
            ]
          },
          "metadata": {},
          "execution_count": 124
        }
      ]
    },
    {
      "cell_type": "code",
      "source": [
        "x = np.array([[3,532,2,313],[5,772,3,34]])\n",
        "y = np.sort(x)\n",
        "y"
      ],
      "metadata": {
        "colab": {
          "base_uri": "https://localhost:8080/"
        },
        "id": "jI4OGckXw4hV",
        "outputId": "97147716-abcb-42fb-b53a-dfcc76e51c7b"
      },
      "execution_count": 125,
      "outputs": [
        {
          "output_type": "execute_result",
          "data": {
            "text/plain": [
              "array([[  2,   3, 313, 532],\n",
              "       [  3,   5,  34, 772]])"
            ]
          },
          "metadata": {},
          "execution_count": 125
        }
      ]
    },
    {
      "cell_type": "code",
      "source": [
        "x = np.zeros((4,5), dtype=\"i\")\n",
        "x"
      ],
      "metadata": {
        "colab": {
          "base_uri": "https://localhost:8080/"
        },
        "id": "6D-L0asoxFTU",
        "outputId": "346dc138-3711-4d69-96c1-ca9a74b8b555"
      },
      "execution_count": 126,
      "outputs": [
        {
          "output_type": "execute_result",
          "data": {
            "text/plain": [
              "array([[0, 0, 0, 0, 0],\n",
              "       [0, 0, 0, 0, 0],\n",
              "       [0, 0, 0, 0, 0],\n",
              "       [0, 0, 0, 0, 0]], dtype=int32)"
            ]
          },
          "metadata": {},
          "execution_count": 126
        }
      ]
    },
    {
      "cell_type": "code",
      "source": [
        "x = np.ones((2,5), dtype=\"i\")\n",
        "x"
      ],
      "metadata": {
        "colab": {
          "base_uri": "https://localhost:8080/"
        },
        "id": "wM0GOkD9xON-",
        "outputId": "c3df015f-7654-41c9-92e9-5f98f0a405fa"
      },
      "execution_count": 127,
      "outputs": [
        {
          "output_type": "execute_result",
          "data": {
            "text/plain": [
              "array([[1, 1, 1, 1, 1],\n",
              "       [1, 1, 1, 1, 1]], dtype=int32)"
            ]
          },
          "metadata": {},
          "execution_count": 127
        }
      ]
    },
    {
      "cell_type": "code",
      "source": [
        "x = np.full((12,5),5)\n",
        "x"
      ],
      "metadata": {
        "colab": {
          "base_uri": "https://localhost:8080/"
        },
        "id": "q05gfWw9xbhb",
        "outputId": "987edfa1-5c45-4591-ede3-63b270f33192"
      },
      "execution_count": 129,
      "outputs": [
        {
          "output_type": "execute_result",
          "data": {
            "text/plain": [
              "array([[5, 5, 5, 5, 5],\n",
              "       [5, 5, 5, 5, 5],\n",
              "       [5, 5, 5, 5, 5],\n",
              "       [5, 5, 5, 5, 5],\n",
              "       [5, 5, 5, 5, 5],\n",
              "       [5, 5, 5, 5, 5],\n",
              "       [5, 5, 5, 5, 5],\n",
              "       [5, 5, 5, 5, 5],\n",
              "       [5, 5, 5, 5, 5],\n",
              "       [5, 5, 5, 5, 5],\n",
              "       [5, 5, 5, 5, 5],\n",
              "       [5, 5, 5, 5, 5]])"
            ]
          },
          "metadata": {},
          "execution_count": 129
        }
      ]
    },
    {
      "cell_type": "code",
      "source": [
        "x = np.arange(2,10,3)\n",
        "x"
      ],
      "metadata": {
        "colab": {
          "base_uri": "https://localhost:8080/"
        },
        "id": "QLADr369xp9U",
        "outputId": "5b54c4b0-8b02-4770-e1b6-6551d8977d24"
      },
      "execution_count": 131,
      "outputs": [
        {
          "output_type": "execute_result",
          "data": {
            "text/plain": [
              "array([2, 5, 8])"
            ]
          },
          "metadata": {},
          "execution_count": 131
        }
      ]
    },
    {
      "cell_type": "code",
      "source": [
        "a = np.array([1,2,3,4])\n",
        "b = np.array([5,6,7,8])\n",
        "print(np.add(a,b))"
      ],
      "metadata": {
        "colab": {
          "base_uri": "https://localhost:8080/"
        },
        "id": "8Ggt6NlWx5rW",
        "outputId": "a437f39e-6ce9-49aa-f7ff-978c21e39281"
      },
      "execution_count": 132,
      "outputs": [
        {
          "output_type": "stream",
          "name": "stdout",
          "text": [
            "[ 6  8 10 12]\n"
          ]
        }
      ]
    },
    {
      "cell_type": "code",
      "source": [
        "print(np.subtract(a,b))\n",
        "print(np.multiply(a,b))\n",
        "print(np.divide(a,b))"
      ],
      "metadata": {
        "colab": {
          "base_uri": "https://localhost:8080/"
        },
        "id": "7CjxPTcIyEL0",
        "outputId": "7e5f41a2-01bf-4864-8fd6-144e88e95ec7"
      },
      "execution_count": 133,
      "outputs": [
        {
          "output_type": "stream",
          "name": "stdout",
          "text": [
            "[-4 -4 -4 -4]\n",
            "[ 5 12 21 32]\n",
            "[0.2        0.33333333 0.42857143 0.5       ]\n"
          ]
        }
      ]
    },
    {
      "cell_type": "code",
      "source": [
        "x = np.array([[1,2,3,4,5],[6,7,8,9,10]])\n",
        "print(np.sum(x, axis=0))"
      ],
      "metadata": {
        "colab": {
          "base_uri": "https://localhost:8080/"
        },
        "id": "-8RlbgAhyN7n",
        "outputId": "3ea1ea51-a43c-4e7a-df85-a4012638f442"
      },
      "execution_count": 134,
      "outputs": [
        {
          "output_type": "stream",
          "name": "stdout",
          "text": [
            "[ 7  9 11 13 15]\n"
          ]
        }
      ]
    },
    {
      "cell_type": "code",
      "source": [
        "print(np.sum(x, axis=1))"
      ],
      "metadata": {
        "colab": {
          "base_uri": "https://localhost:8080/"
        },
        "id": "hnvf-zH5ybkC",
        "outputId": "aa767a2f-a1df-4c16-e3b5-444390533140"
      },
      "execution_count": 135,
      "outputs": [
        {
          "output_type": "stream",
          "name": "stdout",
          "text": [
            "[15 40]\n"
          ]
        }
      ]
    },
    {
      "cell_type": "code",
      "source": [
        "print(np.mean(x, axis=1))"
      ],
      "metadata": {
        "colab": {
          "base_uri": "https://localhost:8080/"
        },
        "id": "foJYVpHbykpK",
        "outputId": "ccf2329c-06a9-4eb3-acad-bfb9f8458a29"
      },
      "execution_count": 137,
      "outputs": [
        {
          "output_type": "stream",
          "name": "stdout",
          "text": [
            "[3. 8.]\n"
          ]
        }
      ]
    },
    {
      "cell_type": "code",
      "source": [
        "print(np.mean(x, axis=0))"
      ],
      "metadata": {
        "colab": {
          "base_uri": "https://localhost:8080/"
        },
        "id": "FgSf2GbHysij",
        "outputId": "55cfaae1-9a40-4fe4-a2d4-7491d7444d8b"
      },
      "execution_count": 138,
      "outputs": [
        {
          "output_type": "stream",
          "name": "stdout",
          "text": [
            "[3.5 4.5 5.5 6.5 7.5]\n"
          ]
        }
      ]
    },
    {
      "cell_type": "code",
      "source": [
        "x = np.random.random((4,4))\n",
        "x"
      ],
      "metadata": {
        "colab": {
          "base_uri": "https://localhost:8080/"
        },
        "id": "JlKcskuLy5zN",
        "outputId": "3aa5866b-aaf8-4052-9adb-c78e8c3e3052"
      },
      "execution_count": 139,
      "outputs": [
        {
          "output_type": "execute_result",
          "data": {
            "text/plain": [
              "array([[0.40369531, 0.34239921, 0.0145844 , 0.20481897],\n",
              "       [0.03666259, 0.30558412, 0.31384668, 0.43502155],\n",
              "       [0.26041184, 0.01805949, 0.21081191, 0.94810209],\n",
              "       [0.41104924, 0.84412041, 0.82969086, 0.59518718]])"
            ]
          },
          "metadata": {},
          "execution_count": 139
        }
      ]
    },
    {
      "cell_type": "code",
      "source": [
        "y = np.random.randint(10,100, (4,4))\n",
        "y"
      ],
      "metadata": {
        "colab": {
          "base_uri": "https://localhost:8080/"
        },
        "id": "7Ay90IIOzAJy",
        "outputId": "1b4cc695-3219-4a78-e6d5-4fc8cac01261"
      },
      "execution_count": 140,
      "outputs": [
        {
          "output_type": "execute_result",
          "data": {
            "text/plain": [
              "array([[87, 61, 53, 64],\n",
              "       [63, 51, 50, 27],\n",
              "       [33, 27, 18, 74],\n",
              "       [97, 36, 71, 64]])"
            ]
          },
          "metadata": {},
          "execution_count": 140
        }
      ]
    },
    {
      "cell_type": "code",
      "source": [
        "x = np.linspace(10,30,5)\n",
        "x"
      ],
      "metadata": {
        "colab": {
          "base_uri": "https://localhost:8080/"
        },
        "id": "qODZMHTHzUyW",
        "outputId": "cb8409fb-817a-48d5-c060-77a8d7e3d3a4"
      },
      "execution_count": 141,
      "outputs": [
        {
          "output_type": "execute_result",
          "data": {
            "text/plain": [
              "array([10., 15., 20., 25., 30.])"
            ]
          },
          "metadata": {},
          "execution_count": 141
        }
      ]
    }
  ]
}