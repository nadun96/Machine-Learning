{
  "cells": [
    {
      "cell_type": "code",
      "execution_count": 2,
      "metadata": {
        "id": "jXmhpltogr5B"
      },
      "outputs": [],
      "source": [
        "import pandas as pd"
      ]
    },
    {
      "cell_type": "code",
      "execution_count": 4,
      "metadata": {
        "colab": {
          "base_uri": "https://localhost:8080/"
        },
        "id": "L65954PPiXyi",
        "outputId": "7aa44487-c969-431c-adaa-00d1651244ed"
      },
      "outputs": [
        {
          "name": "stdout",
          "output_type": "stream",
          "text": [
            "Sales_April_2019.csv\n",
            "Sales_August_2019.csv\n",
            "Sales_December_2019.csv\n",
            "Sales_February_2019.csv\n",
            "Sales_January_2019.csv\n",
            "Sales_July_2019.csv\n",
            "Sales_June_2019.csv\n",
            "Sales_March_2019.csv\n",
            "Sales_May_2019.csv\n",
            "Sales_November_2019.csv\n",
            "Sales_October_2019.csv\n",
            "Sales_September_2019.csv\n"
          ]
        }
      ],
      "source": [
        "import os\n",
        "for x in os.listdir(\"E:\\Portfolio\\Pantech\\Machine Learning\\day 07 -  sales data analysis\\sales\"):\n",
        "  if \"Sales\" in x:\n",
        "    print(x)"
      ]
    },
    {
      "cell_type": "code",
      "execution_count": 8,
      "metadata": {
        "id": "ZNlJERfLirIA"
      },
      "outputs": [],
      "source": [
        "dataset = pd.DataFrame()\n",
        "for x in os.listdir(\"E:\\Portfolio\\Pantech\\Machine Learning\\day 07 -  sales data analysis\\sales\"):\n",
        "  if \"Sales\" in x:\n",
        "    d = pd.read_csv(f\"E:\\Portfolio\\Pantech\\Machine Learning\\day 07 -  sales data analysis\\sales\\{x}\")\n",
        "    dataset = pd.concat([dataset, d])\n"
      ]
    },
    {
      "cell_type": "code",
      "execution_count": 8,
      "metadata": {
        "colab": {
          "base_uri": "https://localhost:8080/"
        },
        "id": "tA9IpPfJjSH7",
        "outputId": "723f41fd-a854-45e9-eeec-7fa90b853507"
      },
      "outputs": [
        {
          "name": "stdout",
          "output_type": "stream",
          "text": [
            "<class 'pandas.core.frame.DataFrame'>\n",
            "Int64Index: 186850 entries, 0 to 12035\n",
            "Data columns (total 6 columns):\n",
            " #   Column            Non-Null Count   Dtype \n",
            "---  ------            --------------   ----- \n",
            " 0   Order ID          186305 non-null  object\n",
            " 1   Product           186305 non-null  object\n",
            " 2   Quantity Ordered  186305 non-null  object\n",
            " 3   Price Each        186305 non-null  object\n",
            " 4   Order Date        186305 non-null  object\n",
            " 5   Purchase Address  186305 non-null  object\n",
            "dtypes: object(6)\n",
            "memory usage: 10.0+ MB\n"
          ]
        }
      ],
      "source": [
        "dataset.info()"
      ]
    },
    {
      "cell_type": "code",
      "execution_count": 9,
      "metadata": {
        "colab": {
          "base_uri": "https://localhost:8080/"
        },
        "id": "ROFKWY8Rjfzy",
        "outputId": "f2342245-add9-49b4-ccd5-2e9115c0576f"
      },
      "outputs": [
        {
          "data": {
            "text/plain": [
              "Order ID            0.291678\n",
              "Product             0.291678\n",
              "Quantity Ordered    0.291678\n",
              "Price Each          0.291678\n",
              "Order Date          0.291678\n",
              "Purchase Address    0.291678\n",
              "dtype: float64"
            ]
          },
          "execution_count": 9,
          "metadata": {},
          "output_type": "execute_result"
        }
      ],
      "source": [
        "dataset.isnull().sum()/dataset.shape[0]*100"
      ]
    },
    {
      "cell_type": "code",
      "execution_count": 10,
      "metadata": {
        "colab": {
          "base_uri": "https://localhost:8080/"
        },
        "id": "SHbidkcvjj5Z",
        "outputId": "f5fd544d-70a7-4a2d-ff4e-ce3e66ea3ff4"
      },
      "outputs": [
        {
          "data": {
            "text/plain": [
              "(186850, 6)"
            ]
          },
          "execution_count": 10,
          "metadata": {},
          "output_type": "execute_result"
        }
      ],
      "source": [
        "dataset.shape"
      ]
    },
    {
      "cell_type": "code",
      "execution_count": 11,
      "metadata": {
        "id": "4QVmL9H1jn-B"
      },
      "outputs": [],
      "source": [
        "dataset.dropna(axis=0, inplace=True)"
      ]
    },
    {
      "cell_type": "code",
      "execution_count": 12,
      "metadata": {
        "colab": {
          "base_uri": "https://localhost:8080/",
          "height": 424
        },
        "id": "-gTz-dUtj0d7",
        "outputId": "34e7855c-77cc-44ab-f6b4-3a9421692bcc"
      },
      "outputs": [
        {
          "data": {
            "text/html": [
              "<div>\n",
              "<style scoped>\n",
              "    .dataframe tbody tr th:only-of-type {\n",
              "        vertical-align: middle;\n",
              "    }\n",
              "\n",
              "    .dataframe tbody tr th {\n",
              "        vertical-align: top;\n",
              "    }\n",
              "\n",
              "    .dataframe thead th {\n",
              "        text-align: right;\n",
              "    }\n",
              "</style>\n",
              "<table border=\"1\" class=\"dataframe\">\n",
              "  <thead>\n",
              "    <tr style=\"text-align: right;\">\n",
              "      <th></th>\n",
              "      <th>Order ID</th>\n",
              "      <th>Product</th>\n",
              "      <th>Quantity Ordered</th>\n",
              "      <th>Price Each</th>\n",
              "      <th>Order Date</th>\n",
              "      <th>Purchase Address</th>\n",
              "    </tr>\n",
              "  </thead>\n",
              "  <tbody>\n",
              "    <tr>\n",
              "      <th>0</th>\n",
              "      <td>176558</td>\n",
              "      <td>USB-C Charging Cable</td>\n",
              "      <td>2</td>\n",
              "      <td>11.95</td>\n",
              "      <td>04/19/19 08:46</td>\n",
              "      <td>917 1st St, Dallas, TX 75001</td>\n",
              "    </tr>\n",
              "    <tr>\n",
              "      <th>2</th>\n",
              "      <td>176559</td>\n",
              "      <td>Bose SoundSport Headphones</td>\n",
              "      <td>1</td>\n",
              "      <td>99.99</td>\n",
              "      <td>04/07/19 22:30</td>\n",
              "      <td>682 Chestnut St, Boston, MA 02215</td>\n",
              "    </tr>\n",
              "    <tr>\n",
              "      <th>3</th>\n",
              "      <td>176560</td>\n",
              "      <td>Google Phone</td>\n",
              "      <td>1</td>\n",
              "      <td>600</td>\n",
              "      <td>04/12/19 14:38</td>\n",
              "      <td>669 Spruce St, Los Angeles, CA 90001</td>\n",
              "    </tr>\n",
              "    <tr>\n",
              "      <th>4</th>\n",
              "      <td>176560</td>\n",
              "      <td>Wired Headphones</td>\n",
              "      <td>1</td>\n",
              "      <td>11.99</td>\n",
              "      <td>04/12/19 14:38</td>\n",
              "      <td>669 Spruce St, Los Angeles, CA 90001</td>\n",
              "    </tr>\n",
              "    <tr>\n",
              "      <th>5</th>\n",
              "      <td>176561</td>\n",
              "      <td>Wired Headphones</td>\n",
              "      <td>1</td>\n",
              "      <td>11.99</td>\n",
              "      <td>04/30/19 09:27</td>\n",
              "      <td>333 8th St, Los Angeles, CA 90001</td>\n",
              "    </tr>\n",
              "    <tr>\n",
              "      <th>...</th>\n",
              "      <td>...</td>\n",
              "      <td>...</td>\n",
              "      <td>...</td>\n",
              "      <td>...</td>\n",
              "      <td>...</td>\n",
              "      <td>...</td>\n",
              "    </tr>\n",
              "    <tr>\n",
              "      <th>11681</th>\n",
              "      <td>259353</td>\n",
              "      <td>AAA Batteries (4-pack)</td>\n",
              "      <td>3</td>\n",
              "      <td>2.99</td>\n",
              "      <td>09/17/19 20:56</td>\n",
              "      <td>840 Highland St, Los Angeles, CA 90001</td>\n",
              "    </tr>\n",
              "    <tr>\n",
              "      <th>11682</th>\n",
              "      <td>259354</td>\n",
              "      <td>iPhone</td>\n",
              "      <td>1</td>\n",
              "      <td>700</td>\n",
              "      <td>09/01/19 16:00</td>\n",
              "      <td>216 Dogwood St, San Francisco, CA 94016</td>\n",
              "    </tr>\n",
              "    <tr>\n",
              "      <th>11683</th>\n",
              "      <td>259355</td>\n",
              "      <td>iPhone</td>\n",
              "      <td>1</td>\n",
              "      <td>700</td>\n",
              "      <td>09/23/19 07:39</td>\n",
              "      <td>220 12th St, San Francisco, CA 94016</td>\n",
              "    </tr>\n",
              "    <tr>\n",
              "      <th>11684</th>\n",
              "      <td>259356</td>\n",
              "      <td>34in Ultrawide Monitor</td>\n",
              "      <td>1</td>\n",
              "      <td>379.99</td>\n",
              "      <td>09/19/19 17:30</td>\n",
              "      <td>511 Forest St, San Francisco, CA 94016</td>\n",
              "    </tr>\n",
              "    <tr>\n",
              "      <th>11685</th>\n",
              "      <td>259357</td>\n",
              "      <td>USB-C Charging Cable</td>\n",
              "      <td>1</td>\n",
              "      <td>11.95</td>\n",
              "      <td>09/30/19 00:18</td>\n",
              "      <td>250 Meadow St, San Francisco, CA 94016</td>\n",
              "    </tr>\n",
              "  </tbody>\n",
              "</table>\n",
              "<p>186305 rows × 6 columns</p>\n",
              "</div>"
            ],
            "text/plain": [
              "      Order ID                     Product Quantity Ordered Price Each  \\\n",
              "0       176558        USB-C Charging Cable                2      11.95   \n",
              "2       176559  Bose SoundSport Headphones                1      99.99   \n",
              "3       176560                Google Phone                1        600   \n",
              "4       176560            Wired Headphones                1      11.99   \n",
              "5       176561            Wired Headphones                1      11.99   \n",
              "...        ...                         ...              ...        ...   \n",
              "11681   259353      AAA Batteries (4-pack)                3       2.99   \n",
              "11682   259354                      iPhone                1        700   \n",
              "11683   259355                      iPhone                1        700   \n",
              "11684   259356      34in Ultrawide Monitor                1     379.99   \n",
              "11685   259357        USB-C Charging Cable                1      11.95   \n",
              "\n",
              "           Order Date                         Purchase Address  \n",
              "0      04/19/19 08:46             917 1st St, Dallas, TX 75001  \n",
              "2      04/07/19 22:30        682 Chestnut St, Boston, MA 02215  \n",
              "3      04/12/19 14:38     669 Spruce St, Los Angeles, CA 90001  \n",
              "4      04/12/19 14:38     669 Spruce St, Los Angeles, CA 90001  \n",
              "5      04/30/19 09:27        333 8th St, Los Angeles, CA 90001  \n",
              "...               ...                                      ...  \n",
              "11681  09/17/19 20:56   840 Highland St, Los Angeles, CA 90001  \n",
              "11682  09/01/19 16:00  216 Dogwood St, San Francisco, CA 94016  \n",
              "11683  09/23/19 07:39     220 12th St, San Francisco, CA 94016  \n",
              "11684  09/19/19 17:30   511 Forest St, San Francisco, CA 94016  \n",
              "11685  09/30/19 00:18   250 Meadow St, San Francisco, CA 94016  \n",
              "\n",
              "[186305 rows x 6 columns]"
            ]
          },
          "execution_count": 12,
          "metadata": {},
          "output_type": "execute_result"
        }
      ],
      "source": [
        "dataset"
      ]
    },
    {
      "cell_type": "code",
      "execution_count": 14,
      "metadata": {
        "id": "rvPUdSXAj1r5"
      },
      "outputs": [],
      "source": [
        "dataset.to_csv(\"E:\\Portfolio\\Pantech\\Machine Learning\\day 07 -  sales data analysis\\sales\\Output.csv\", index=False)"
      ]
    },
    {
      "cell_type": "code",
      "execution_count": 16,
      "metadata": {
        "id": "3ECglgixm-Uy"
      },
      "outputs": [],
      "source": [
        "dataset = pd.read_csv(\"E:\\Portfolio\\Pantech\\Machine Learning\\day 07 -  sales data analysis\\sales\\Output.csv\")"
      ]
    },
    {
      "cell_type": "code",
      "execution_count": 17,
      "metadata": {
        "colab": {
          "base_uri": "https://localhost:8080/",
          "height": 206
        },
        "id": "GnqTXe5DnCGy",
        "outputId": "7c0ae7ee-ce81-41f8-c2ab-860f67e209cf"
      },
      "outputs": [
        {
          "data": {
            "text/html": [
              "<div>\n",
              "<style scoped>\n",
              "    .dataframe tbody tr th:only-of-type {\n",
              "        vertical-align: middle;\n",
              "    }\n",
              "\n",
              "    .dataframe tbody tr th {\n",
              "        vertical-align: top;\n",
              "    }\n",
              "\n",
              "    .dataframe thead th {\n",
              "        text-align: right;\n",
              "    }\n",
              "</style>\n",
              "<table border=\"1\" class=\"dataframe\">\n",
              "  <thead>\n",
              "    <tr style=\"text-align: right;\">\n",
              "      <th></th>\n",
              "      <th>Order ID</th>\n",
              "      <th>Product</th>\n",
              "      <th>Quantity Ordered</th>\n",
              "      <th>Price Each</th>\n",
              "      <th>Order Date</th>\n",
              "      <th>Purchase Address</th>\n",
              "    </tr>\n",
              "  </thead>\n",
              "  <tbody>\n",
              "    <tr>\n",
              "      <th>0</th>\n",
              "      <td>176558</td>\n",
              "      <td>USB-C Charging Cable</td>\n",
              "      <td>2</td>\n",
              "      <td>11.95</td>\n",
              "      <td>04/19/19 08:46</td>\n",
              "      <td>917 1st St, Dallas, TX 75001</td>\n",
              "    </tr>\n",
              "    <tr>\n",
              "      <th>1</th>\n",
              "      <td>176559</td>\n",
              "      <td>Bose SoundSport Headphones</td>\n",
              "      <td>1</td>\n",
              "      <td>99.99</td>\n",
              "      <td>04/07/19 22:30</td>\n",
              "      <td>682 Chestnut St, Boston, MA 02215</td>\n",
              "    </tr>\n",
              "    <tr>\n",
              "      <th>2</th>\n",
              "      <td>176560</td>\n",
              "      <td>Google Phone</td>\n",
              "      <td>1</td>\n",
              "      <td>600</td>\n",
              "      <td>04/12/19 14:38</td>\n",
              "      <td>669 Spruce St, Los Angeles, CA 90001</td>\n",
              "    </tr>\n",
              "    <tr>\n",
              "      <th>3</th>\n",
              "      <td>176560</td>\n",
              "      <td>Wired Headphones</td>\n",
              "      <td>1</td>\n",
              "      <td>11.99</td>\n",
              "      <td>04/12/19 14:38</td>\n",
              "      <td>669 Spruce St, Los Angeles, CA 90001</td>\n",
              "    </tr>\n",
              "    <tr>\n",
              "      <th>4</th>\n",
              "      <td>176561</td>\n",
              "      <td>Wired Headphones</td>\n",
              "      <td>1</td>\n",
              "      <td>11.99</td>\n",
              "      <td>04/30/19 09:27</td>\n",
              "      <td>333 8th St, Los Angeles, CA 90001</td>\n",
              "    </tr>\n",
              "  </tbody>\n",
              "</table>\n",
              "</div>"
            ],
            "text/plain": [
              "  Order ID                     Product Quantity Ordered Price Each  \\\n",
              "0   176558        USB-C Charging Cable                2      11.95   \n",
              "1   176559  Bose SoundSport Headphones                1      99.99   \n",
              "2   176560                Google Phone                1        600   \n",
              "3   176560            Wired Headphones                1      11.99   \n",
              "4   176561            Wired Headphones                1      11.99   \n",
              "\n",
              "       Order Date                      Purchase Address  \n",
              "0  04/19/19 08:46          917 1st St, Dallas, TX 75001  \n",
              "1  04/07/19 22:30     682 Chestnut St, Boston, MA 02215  \n",
              "2  04/12/19 14:38  669 Spruce St, Los Angeles, CA 90001  \n",
              "3  04/12/19 14:38  669 Spruce St, Los Angeles, CA 90001  \n",
              "4  04/30/19 09:27     333 8th St, Los Angeles, CA 90001  "
            ]
          },
          "execution_count": 17,
          "metadata": {},
          "output_type": "execute_result"
        }
      ],
      "source": [
        "dataset.head()"
      ]
    },
    {
      "cell_type": "code",
      "execution_count": 18,
      "metadata": {
        "colab": {
          "base_uri": "https://localhost:8080/"
        },
        "id": "jCUrIhhqnJWc",
        "outputId": "00d51914-609a-4b27-b268-2861e6540475"
      },
      "outputs": [
        {
          "data": {
            "text/plain": [
              "Product\n",
              "USB-C Charging Cable          21903\n",
              "Lightning Charging Cable      21658\n",
              "AAA Batteries (4-pack)        20641\n",
              "AA Batteries (4-pack)         20577\n",
              "Wired Headphones              18882\n",
              "Apple Airpods Headphones      15549\n",
              "Bose SoundSport Headphones    13325\n",
              "27in FHD Monitor               7507\n",
              "iPhone                         6842\n",
              "27in 4K Gaming Monitor         6230\n",
              "34in Ultrawide Monitor         6181\n",
              "Google Phone                   5525\n",
              "Flatscreen TV                  4800\n",
              "Macbook Pro Laptop             4724\n",
              "ThinkPad Laptop                4128\n",
              "20in Monitor                   4101\n",
              "Vareebadd Phone                2065\n",
              "LG Washing Machine              666\n",
              "LG Dryer                        646\n",
              "Product                         355\n",
              "Name: count, dtype: int64"
            ]
          },
          "execution_count": 18,
          "metadata": {},
          "output_type": "execute_result"
        }
      ],
      "source": [
        "dataset[\"Product\"].value_counts()"
      ]
    },
    {
      "cell_type": "code",
      "execution_count": 20,
      "metadata": {
        "id": "Isu8pkM8nRwB"
      },
      "outputs": [],
      "source": [
        "dataset = dataset[dataset[\"Product\"] != \"Product\"]"
      ]
    },
    {
      "cell_type": "code",
      "execution_count": 21,
      "metadata": {
        "colab": {
          "base_uri": "https://localhost:8080/"
        },
        "id": "g5qtVeUvnrgT",
        "outputId": "ae6d0d44-a1c6-4fbe-c935-ecf5592be8b7"
      },
      "outputs": [
        {
          "data": {
            "text/plain": [
              "(185950, 6)"
            ]
          },
          "execution_count": 21,
          "metadata": {},
          "output_type": "execute_result"
        }
      ],
      "source": [
        "dataset.shape"
      ]
    },
    {
      "cell_type": "code",
      "execution_count": 23,
      "metadata": {
        "colab": {
          "base_uri": "https://localhost:8080/",
          "height": 206
        },
        "id": "p7ajIMvRns7y",
        "outputId": "4ba72210-a46e-4c66-f684-bcfcfa8791ce"
      },
      "outputs": [
        {
          "data": {
            "text/html": [
              "<div>\n",
              "<style scoped>\n",
              "    .dataframe tbody tr th:only-of-type {\n",
              "        vertical-align: middle;\n",
              "    }\n",
              "\n",
              "    .dataframe tbody tr th {\n",
              "        vertical-align: top;\n",
              "    }\n",
              "\n",
              "    .dataframe thead th {\n",
              "        text-align: right;\n",
              "    }\n",
              "</style>\n",
              "<table border=\"1\" class=\"dataframe\">\n",
              "  <thead>\n",
              "    <tr style=\"text-align: right;\">\n",
              "      <th></th>\n",
              "      <th>Order ID</th>\n",
              "      <th>Product</th>\n",
              "      <th>Quantity Ordered</th>\n",
              "      <th>Price Each</th>\n",
              "      <th>Order Date</th>\n",
              "      <th>Purchase Address</th>\n",
              "    </tr>\n",
              "  </thead>\n",
              "  <tbody>\n",
              "    <tr>\n",
              "      <th>0</th>\n",
              "      <td>176558</td>\n",
              "      <td>USB-C Charging Cable</td>\n",
              "      <td>2</td>\n",
              "      <td>11.95</td>\n",
              "      <td>04/19/19 08:46</td>\n",
              "      <td>917 1st St, Dallas, TX 75001</td>\n",
              "    </tr>\n",
              "    <tr>\n",
              "      <th>1</th>\n",
              "      <td>176559</td>\n",
              "      <td>Bose SoundSport Headphones</td>\n",
              "      <td>1</td>\n",
              "      <td>99.99</td>\n",
              "      <td>04/07/19 22:30</td>\n",
              "      <td>682 Chestnut St, Boston, MA 02215</td>\n",
              "    </tr>\n",
              "    <tr>\n",
              "      <th>2</th>\n",
              "      <td>176560</td>\n",
              "      <td>Google Phone</td>\n",
              "      <td>1</td>\n",
              "      <td>600</td>\n",
              "      <td>04/12/19 14:38</td>\n",
              "      <td>669 Spruce St, Los Angeles, CA 90001</td>\n",
              "    </tr>\n",
              "    <tr>\n",
              "      <th>3</th>\n",
              "      <td>176560</td>\n",
              "      <td>Wired Headphones</td>\n",
              "      <td>1</td>\n",
              "      <td>11.99</td>\n",
              "      <td>04/12/19 14:38</td>\n",
              "      <td>669 Spruce St, Los Angeles, CA 90001</td>\n",
              "    </tr>\n",
              "    <tr>\n",
              "      <th>4</th>\n",
              "      <td>176561</td>\n",
              "      <td>Wired Headphones</td>\n",
              "      <td>1</td>\n",
              "      <td>11.99</td>\n",
              "      <td>04/30/19 09:27</td>\n",
              "      <td>333 8th St, Los Angeles, CA 90001</td>\n",
              "    </tr>\n",
              "  </tbody>\n",
              "</table>\n",
              "</div>"
            ],
            "text/plain": [
              "  Order ID                     Product Quantity Ordered Price Each  \\\n",
              "0   176558        USB-C Charging Cable                2      11.95   \n",
              "1   176559  Bose SoundSport Headphones                1      99.99   \n",
              "2   176560                Google Phone                1        600   \n",
              "3   176560            Wired Headphones                1      11.99   \n",
              "4   176561            Wired Headphones                1      11.99   \n",
              "\n",
              "       Order Date                      Purchase Address  \n",
              "0  04/19/19 08:46          917 1st St, Dallas, TX 75001  \n",
              "1  04/07/19 22:30     682 Chestnut St, Boston, MA 02215  \n",
              "2  04/12/19 14:38  669 Spruce St, Los Angeles, CA 90001  \n",
              "3  04/12/19 14:38  669 Spruce St, Los Angeles, CA 90001  \n",
              "4  04/30/19 09:27     333 8th St, Los Angeles, CA 90001  "
            ]
          },
          "execution_count": 23,
          "metadata": {},
          "output_type": "execute_result"
        }
      ],
      "source": [
        "dataset.head()"
      ]
    },
    {
      "cell_type": "code",
      "execution_count": 24,
      "metadata": {
        "id": "J_t8ZaCNoE86"
      },
      "outputs": [],
      "source": [
        "dataset[\"Quantity Ordered\"] = pd.to_numeric(dataset[\"Quantity Ordered\"])\n"
      ]
    },
    {
      "cell_type": "code",
      "execution_count": 25,
      "metadata": {
        "id": "wqrtaq_coQXD"
      },
      "outputs": [],
      "source": [
        "dataset[\"Price Each\"] = pd.to_numeric(dataset[\"Price Each\"])\n"
      ]
    },
    {
      "cell_type": "code",
      "execution_count": 26,
      "metadata": {
        "colab": {
          "base_uri": "https://localhost:8080/"
        },
        "id": "obm8sf8doBJL",
        "outputId": "14160d51-2d8a-40ee-d031-82a5965d5d59"
      },
      "outputs": [
        {
          "name": "stdout",
          "output_type": "stream",
          "text": [
            "<class 'pandas.core.frame.DataFrame'>\n",
            "Index: 185950 entries, 0 to 186304\n",
            "Data columns (total 6 columns):\n",
            " #   Column            Non-Null Count   Dtype  \n",
            "---  ------            --------------   -----  \n",
            " 0   Order ID          185950 non-null  object \n",
            " 1   Product           185950 non-null  object \n",
            " 2   Quantity Ordered  185950 non-null  int64  \n",
            " 3   Price Each        185950 non-null  float64\n",
            " 4   Order Date        185950 non-null  object \n",
            " 5   Purchase Address  185950 non-null  object \n",
            "dtypes: float64(1), int64(1), object(4)\n",
            "memory usage: 9.9+ MB\n"
          ]
        }
      ],
      "source": [
        "dataset.info()"
      ]
    },
    {
      "cell_type": "code",
      "execution_count": 27,
      "metadata": {
        "id": "xowJsTYyoV5z"
      },
      "outputs": [],
      "source": [
        "dataset[\"Sales\"] = dataset[\"Price Each\"] * dataset[\"Quantity Ordered\"]"
      ]
    },
    {
      "cell_type": "code",
      "execution_count": 28,
      "metadata": {
        "colab": {
          "base_uri": "https://localhost:8080/",
          "height": 206
        },
        "id": "UA-XFXhbobtK",
        "outputId": "7e38df17-58cb-4d6e-b5c7-2a52b77f8806"
      },
      "outputs": [
        {
          "data": {
            "text/html": [
              "<div>\n",
              "<style scoped>\n",
              "    .dataframe tbody tr th:only-of-type {\n",
              "        vertical-align: middle;\n",
              "    }\n",
              "\n",
              "    .dataframe tbody tr th {\n",
              "        vertical-align: top;\n",
              "    }\n",
              "\n",
              "    .dataframe thead th {\n",
              "        text-align: right;\n",
              "    }\n",
              "</style>\n",
              "<table border=\"1\" class=\"dataframe\">\n",
              "  <thead>\n",
              "    <tr style=\"text-align: right;\">\n",
              "      <th></th>\n",
              "      <th>Order ID</th>\n",
              "      <th>Product</th>\n",
              "      <th>Quantity Ordered</th>\n",
              "      <th>Price Each</th>\n",
              "      <th>Order Date</th>\n",
              "      <th>Purchase Address</th>\n",
              "      <th>Sales</th>\n",
              "    </tr>\n",
              "  </thead>\n",
              "  <tbody>\n",
              "    <tr>\n",
              "      <th>0</th>\n",
              "      <td>176558</td>\n",
              "      <td>USB-C Charging Cable</td>\n",
              "      <td>2</td>\n",
              "      <td>11.95</td>\n",
              "      <td>04/19/19 08:46</td>\n",
              "      <td>917 1st St, Dallas, TX 75001</td>\n",
              "      <td>23.90</td>\n",
              "    </tr>\n",
              "    <tr>\n",
              "      <th>1</th>\n",
              "      <td>176559</td>\n",
              "      <td>Bose SoundSport Headphones</td>\n",
              "      <td>1</td>\n",
              "      <td>99.99</td>\n",
              "      <td>04/07/19 22:30</td>\n",
              "      <td>682 Chestnut St, Boston, MA 02215</td>\n",
              "      <td>99.99</td>\n",
              "    </tr>\n",
              "    <tr>\n",
              "      <th>2</th>\n",
              "      <td>176560</td>\n",
              "      <td>Google Phone</td>\n",
              "      <td>1</td>\n",
              "      <td>600.00</td>\n",
              "      <td>04/12/19 14:38</td>\n",
              "      <td>669 Spruce St, Los Angeles, CA 90001</td>\n",
              "      <td>600.00</td>\n",
              "    </tr>\n",
              "    <tr>\n",
              "      <th>3</th>\n",
              "      <td>176560</td>\n",
              "      <td>Wired Headphones</td>\n",
              "      <td>1</td>\n",
              "      <td>11.99</td>\n",
              "      <td>04/12/19 14:38</td>\n",
              "      <td>669 Spruce St, Los Angeles, CA 90001</td>\n",
              "      <td>11.99</td>\n",
              "    </tr>\n",
              "    <tr>\n",
              "      <th>4</th>\n",
              "      <td>176561</td>\n",
              "      <td>Wired Headphones</td>\n",
              "      <td>1</td>\n",
              "      <td>11.99</td>\n",
              "      <td>04/30/19 09:27</td>\n",
              "      <td>333 8th St, Los Angeles, CA 90001</td>\n",
              "      <td>11.99</td>\n",
              "    </tr>\n",
              "  </tbody>\n",
              "</table>\n",
              "</div>"
            ],
            "text/plain": [
              "  Order ID                     Product  Quantity Ordered  Price Each  \\\n",
              "0   176558        USB-C Charging Cable                 2       11.95   \n",
              "1   176559  Bose SoundSport Headphones                 1       99.99   \n",
              "2   176560                Google Phone                 1      600.00   \n",
              "3   176560            Wired Headphones                 1       11.99   \n",
              "4   176561            Wired Headphones                 1       11.99   \n",
              "\n",
              "       Order Date                      Purchase Address   Sales  \n",
              "0  04/19/19 08:46          917 1st St, Dallas, TX 75001   23.90  \n",
              "1  04/07/19 22:30     682 Chestnut St, Boston, MA 02215   99.99  \n",
              "2  04/12/19 14:38  669 Spruce St, Los Angeles, CA 90001  600.00  \n",
              "3  04/12/19 14:38  669 Spruce St, Los Angeles, CA 90001   11.99  \n",
              "4  04/30/19 09:27     333 8th St, Los Angeles, CA 90001   11.99  "
            ]
          },
          "execution_count": 28,
          "metadata": {},
          "output_type": "execute_result"
        }
      ],
      "source": [
        "dataset.head()"
      ]
    },
    {
      "cell_type": "code",
      "execution_count": 29,
      "metadata": {
        "id": "nsVylsXgoetD"
      },
      "outputs": [],
      "source": [
        "dataset[\"Month\"]=dataset[\"Order Date\"].str[:2]"
      ]
    },
    {
      "cell_type": "code",
      "execution_count": 30,
      "metadata": {
        "colab": {
          "base_uri": "https://localhost:8080/",
          "height": 206
        },
        "id": "YElYKyCSoreK",
        "outputId": "36829524-c68f-44c3-d27b-8b9a979e7e81"
      },
      "outputs": [
        {
          "data": {
            "text/html": [
              "<div>\n",
              "<style scoped>\n",
              "    .dataframe tbody tr th:only-of-type {\n",
              "        vertical-align: middle;\n",
              "    }\n",
              "\n",
              "    .dataframe tbody tr th {\n",
              "        vertical-align: top;\n",
              "    }\n",
              "\n",
              "    .dataframe thead th {\n",
              "        text-align: right;\n",
              "    }\n",
              "</style>\n",
              "<table border=\"1\" class=\"dataframe\">\n",
              "  <thead>\n",
              "    <tr style=\"text-align: right;\">\n",
              "      <th></th>\n",
              "      <th>Order ID</th>\n",
              "      <th>Product</th>\n",
              "      <th>Quantity Ordered</th>\n",
              "      <th>Price Each</th>\n",
              "      <th>Order Date</th>\n",
              "      <th>Purchase Address</th>\n",
              "      <th>Sales</th>\n",
              "      <th>Month</th>\n",
              "    </tr>\n",
              "  </thead>\n",
              "  <tbody>\n",
              "    <tr>\n",
              "      <th>0</th>\n",
              "      <td>176558</td>\n",
              "      <td>USB-C Charging Cable</td>\n",
              "      <td>2</td>\n",
              "      <td>11.95</td>\n",
              "      <td>04/19/19 08:46</td>\n",
              "      <td>917 1st St, Dallas, TX 75001</td>\n",
              "      <td>23.90</td>\n",
              "      <td>04</td>\n",
              "    </tr>\n",
              "    <tr>\n",
              "      <th>1</th>\n",
              "      <td>176559</td>\n",
              "      <td>Bose SoundSport Headphones</td>\n",
              "      <td>1</td>\n",
              "      <td>99.99</td>\n",
              "      <td>04/07/19 22:30</td>\n",
              "      <td>682 Chestnut St, Boston, MA 02215</td>\n",
              "      <td>99.99</td>\n",
              "      <td>04</td>\n",
              "    </tr>\n",
              "    <tr>\n",
              "      <th>2</th>\n",
              "      <td>176560</td>\n",
              "      <td>Google Phone</td>\n",
              "      <td>1</td>\n",
              "      <td>600.00</td>\n",
              "      <td>04/12/19 14:38</td>\n",
              "      <td>669 Spruce St, Los Angeles, CA 90001</td>\n",
              "      <td>600.00</td>\n",
              "      <td>04</td>\n",
              "    </tr>\n",
              "    <tr>\n",
              "      <th>3</th>\n",
              "      <td>176560</td>\n",
              "      <td>Wired Headphones</td>\n",
              "      <td>1</td>\n",
              "      <td>11.99</td>\n",
              "      <td>04/12/19 14:38</td>\n",
              "      <td>669 Spruce St, Los Angeles, CA 90001</td>\n",
              "      <td>11.99</td>\n",
              "      <td>04</td>\n",
              "    </tr>\n",
              "    <tr>\n",
              "      <th>4</th>\n",
              "      <td>176561</td>\n",
              "      <td>Wired Headphones</td>\n",
              "      <td>1</td>\n",
              "      <td>11.99</td>\n",
              "      <td>04/30/19 09:27</td>\n",
              "      <td>333 8th St, Los Angeles, CA 90001</td>\n",
              "      <td>11.99</td>\n",
              "      <td>04</td>\n",
              "    </tr>\n",
              "  </tbody>\n",
              "</table>\n",
              "</div>"
            ],
            "text/plain": [
              "  Order ID                     Product  Quantity Ordered  Price Each  \\\n",
              "0   176558        USB-C Charging Cable                 2       11.95   \n",
              "1   176559  Bose SoundSport Headphones                 1       99.99   \n",
              "2   176560                Google Phone                 1      600.00   \n",
              "3   176560            Wired Headphones                 1       11.99   \n",
              "4   176561            Wired Headphones                 1       11.99   \n",
              "\n",
              "       Order Date                      Purchase Address   Sales Month  \n",
              "0  04/19/19 08:46          917 1st St, Dallas, TX 75001   23.90    04  \n",
              "1  04/07/19 22:30     682 Chestnut St, Boston, MA 02215   99.99    04  \n",
              "2  04/12/19 14:38  669 Spruce St, Los Angeles, CA 90001  600.00    04  \n",
              "3  04/12/19 14:38  669 Spruce St, Los Angeles, CA 90001   11.99    04  \n",
              "4  04/30/19 09:27     333 8th St, Los Angeles, CA 90001   11.99    04  "
            ]
          },
          "execution_count": 30,
          "metadata": {},
          "output_type": "execute_result"
        }
      ],
      "source": [
        "dataset.head()"
      ]
    },
    {
      "cell_type": "code",
      "execution_count": 31,
      "metadata": {
        "colab": {
          "base_uri": "https://localhost:8080/"
        },
        "id": "ciIAojejotuD",
        "outputId": "f15bdd2c-7298-493d-d82a-3667bf95ec9f"
      },
      "outputs": [
        {
          "data": {
            "text/plain": [
              "Month\n",
              "12    4613443.34\n",
              "10    3736726.88\n",
              "04    3390670.24\n",
              "11    3199603.20\n",
              "05    3152606.75\n",
              "03    2807100.38\n",
              "07    2647775.76\n",
              "06    2577802.26\n",
              "08    2244467.88\n",
              "02    2202022.42\n",
              "09    2097560.13\n",
              "01    1822256.73\n",
              "Name: Sales, dtype: float64"
            ]
          },
          "execution_count": 31,
          "metadata": {},
          "output_type": "execute_result"
        }
      ],
      "source": [
        "dataset.groupby(\"Month\")[\"Sales\"].sum().sort_values(ascending=False)"
      ]
    },
    {
      "cell_type": "code",
      "execution_count": 32,
      "metadata": {
        "colab": {
          "base_uri": "https://localhost:8080/",
          "height": 206
        },
        "id": "Qt-9ugVlpWLz",
        "outputId": "786a8b16-a2ef-463f-ca45-7f9d00fc8e1f"
      },
      "outputs": [
        {
          "data": {
            "text/html": [
              "<div>\n",
              "<style scoped>\n",
              "    .dataframe tbody tr th:only-of-type {\n",
              "        vertical-align: middle;\n",
              "    }\n",
              "\n",
              "    .dataframe tbody tr th {\n",
              "        vertical-align: top;\n",
              "    }\n",
              "\n",
              "    .dataframe thead th {\n",
              "        text-align: right;\n",
              "    }\n",
              "</style>\n",
              "<table border=\"1\" class=\"dataframe\">\n",
              "  <thead>\n",
              "    <tr style=\"text-align: right;\">\n",
              "      <th></th>\n",
              "      <th>Order ID</th>\n",
              "      <th>Product</th>\n",
              "      <th>Quantity Ordered</th>\n",
              "      <th>Price Each</th>\n",
              "      <th>Order Date</th>\n",
              "      <th>Purchase Address</th>\n",
              "      <th>Sales</th>\n",
              "      <th>Month</th>\n",
              "    </tr>\n",
              "  </thead>\n",
              "  <tbody>\n",
              "    <tr>\n",
              "      <th>0</th>\n",
              "      <td>176558</td>\n",
              "      <td>USB-C Charging Cable</td>\n",
              "      <td>2</td>\n",
              "      <td>11.95</td>\n",
              "      <td>04/19/19 08:46</td>\n",
              "      <td>917 1st St, Dallas, TX 75001</td>\n",
              "      <td>23.90</td>\n",
              "      <td>04</td>\n",
              "    </tr>\n",
              "    <tr>\n",
              "      <th>1</th>\n",
              "      <td>176559</td>\n",
              "      <td>Bose SoundSport Headphones</td>\n",
              "      <td>1</td>\n",
              "      <td>99.99</td>\n",
              "      <td>04/07/19 22:30</td>\n",
              "      <td>682 Chestnut St, Boston, MA 02215</td>\n",
              "      <td>99.99</td>\n",
              "      <td>04</td>\n",
              "    </tr>\n",
              "    <tr>\n",
              "      <th>2</th>\n",
              "      <td>176560</td>\n",
              "      <td>Google Phone</td>\n",
              "      <td>1</td>\n",
              "      <td>600.00</td>\n",
              "      <td>04/12/19 14:38</td>\n",
              "      <td>669 Spruce St, Los Angeles, CA 90001</td>\n",
              "      <td>600.00</td>\n",
              "      <td>04</td>\n",
              "    </tr>\n",
              "    <tr>\n",
              "      <th>3</th>\n",
              "      <td>176560</td>\n",
              "      <td>Wired Headphones</td>\n",
              "      <td>1</td>\n",
              "      <td>11.99</td>\n",
              "      <td>04/12/19 14:38</td>\n",
              "      <td>669 Spruce St, Los Angeles, CA 90001</td>\n",
              "      <td>11.99</td>\n",
              "      <td>04</td>\n",
              "    </tr>\n",
              "    <tr>\n",
              "      <th>4</th>\n",
              "      <td>176561</td>\n",
              "      <td>Wired Headphones</td>\n",
              "      <td>1</td>\n",
              "      <td>11.99</td>\n",
              "      <td>04/30/19 09:27</td>\n",
              "      <td>333 8th St, Los Angeles, CA 90001</td>\n",
              "      <td>11.99</td>\n",
              "      <td>04</td>\n",
              "    </tr>\n",
              "  </tbody>\n",
              "</table>\n",
              "</div>"
            ],
            "text/plain": [
              "  Order ID                     Product  Quantity Ordered  Price Each  \\\n",
              "0   176558        USB-C Charging Cable                 2       11.95   \n",
              "1   176559  Bose SoundSport Headphones                 1       99.99   \n",
              "2   176560                Google Phone                 1      600.00   \n",
              "3   176560            Wired Headphones                 1       11.99   \n",
              "4   176561            Wired Headphones                 1       11.99   \n",
              "\n",
              "       Order Date                      Purchase Address   Sales Month  \n",
              "0  04/19/19 08:46          917 1st St, Dallas, TX 75001   23.90    04  \n",
              "1  04/07/19 22:30     682 Chestnut St, Boston, MA 02215   99.99    04  \n",
              "2  04/12/19 14:38  669 Spruce St, Los Angeles, CA 90001  600.00    04  \n",
              "3  04/12/19 14:38  669 Spruce St, Los Angeles, CA 90001   11.99    04  \n",
              "4  04/30/19 09:27     333 8th St, Los Angeles, CA 90001   11.99    04  "
            ]
          },
          "execution_count": 32,
          "metadata": {},
          "output_type": "execute_result"
        }
      ],
      "source": [
        "dataset.head()"
      ]
    },
    {
      "cell_type": "code",
      "execution_count": 33,
      "metadata": {
        "id": "y74K_uqkpZA6"
      },
      "outputs": [],
      "source": [
        "dataset[\"City\"] = dataset[\"Purchase Address\"].str.split(\",\").str[1]"
      ]
    },
    {
      "cell_type": "code",
      "execution_count": 34,
      "metadata": {
        "colab": {
          "base_uri": "https://localhost:8080/",
          "height": 206
        },
        "id": "zy6y2vLTpnG7",
        "outputId": "ddaa58b4-47b1-4a51-bec3-ba90ec3374b8"
      },
      "outputs": [
        {
          "data": {
            "text/html": [
              "<div>\n",
              "<style scoped>\n",
              "    .dataframe tbody tr th:only-of-type {\n",
              "        vertical-align: middle;\n",
              "    }\n",
              "\n",
              "    .dataframe tbody tr th {\n",
              "        vertical-align: top;\n",
              "    }\n",
              "\n",
              "    .dataframe thead th {\n",
              "        text-align: right;\n",
              "    }\n",
              "</style>\n",
              "<table border=\"1\" class=\"dataframe\">\n",
              "  <thead>\n",
              "    <tr style=\"text-align: right;\">\n",
              "      <th></th>\n",
              "      <th>Order ID</th>\n",
              "      <th>Product</th>\n",
              "      <th>Quantity Ordered</th>\n",
              "      <th>Price Each</th>\n",
              "      <th>Order Date</th>\n",
              "      <th>Purchase Address</th>\n",
              "      <th>Sales</th>\n",
              "      <th>Month</th>\n",
              "      <th>City</th>\n",
              "    </tr>\n",
              "  </thead>\n",
              "  <tbody>\n",
              "    <tr>\n",
              "      <th>0</th>\n",
              "      <td>176558</td>\n",
              "      <td>USB-C Charging Cable</td>\n",
              "      <td>2</td>\n",
              "      <td>11.95</td>\n",
              "      <td>04/19/19 08:46</td>\n",
              "      <td>917 1st St, Dallas, TX 75001</td>\n",
              "      <td>23.90</td>\n",
              "      <td>04</td>\n",
              "      <td>Dallas</td>\n",
              "    </tr>\n",
              "    <tr>\n",
              "      <th>1</th>\n",
              "      <td>176559</td>\n",
              "      <td>Bose SoundSport Headphones</td>\n",
              "      <td>1</td>\n",
              "      <td>99.99</td>\n",
              "      <td>04/07/19 22:30</td>\n",
              "      <td>682 Chestnut St, Boston, MA 02215</td>\n",
              "      <td>99.99</td>\n",
              "      <td>04</td>\n",
              "      <td>Boston</td>\n",
              "    </tr>\n",
              "    <tr>\n",
              "      <th>2</th>\n",
              "      <td>176560</td>\n",
              "      <td>Google Phone</td>\n",
              "      <td>1</td>\n",
              "      <td>600.00</td>\n",
              "      <td>04/12/19 14:38</td>\n",
              "      <td>669 Spruce St, Los Angeles, CA 90001</td>\n",
              "      <td>600.00</td>\n",
              "      <td>04</td>\n",
              "      <td>Los Angeles</td>\n",
              "    </tr>\n",
              "    <tr>\n",
              "      <th>3</th>\n",
              "      <td>176560</td>\n",
              "      <td>Wired Headphones</td>\n",
              "      <td>1</td>\n",
              "      <td>11.99</td>\n",
              "      <td>04/12/19 14:38</td>\n",
              "      <td>669 Spruce St, Los Angeles, CA 90001</td>\n",
              "      <td>11.99</td>\n",
              "      <td>04</td>\n",
              "      <td>Los Angeles</td>\n",
              "    </tr>\n",
              "    <tr>\n",
              "      <th>4</th>\n",
              "      <td>176561</td>\n",
              "      <td>Wired Headphones</td>\n",
              "      <td>1</td>\n",
              "      <td>11.99</td>\n",
              "      <td>04/30/19 09:27</td>\n",
              "      <td>333 8th St, Los Angeles, CA 90001</td>\n",
              "      <td>11.99</td>\n",
              "      <td>04</td>\n",
              "      <td>Los Angeles</td>\n",
              "    </tr>\n",
              "  </tbody>\n",
              "</table>\n",
              "</div>"
            ],
            "text/plain": [
              "  Order ID                     Product  Quantity Ordered  Price Each  \\\n",
              "0   176558        USB-C Charging Cable                 2       11.95   \n",
              "1   176559  Bose SoundSport Headphones                 1       99.99   \n",
              "2   176560                Google Phone                 1      600.00   \n",
              "3   176560            Wired Headphones                 1       11.99   \n",
              "4   176561            Wired Headphones                 1       11.99   \n",
              "\n",
              "       Order Date                      Purchase Address   Sales Month  \\\n",
              "0  04/19/19 08:46          917 1st St, Dallas, TX 75001   23.90    04   \n",
              "1  04/07/19 22:30     682 Chestnut St, Boston, MA 02215   99.99    04   \n",
              "2  04/12/19 14:38  669 Spruce St, Los Angeles, CA 90001  600.00    04   \n",
              "3  04/12/19 14:38  669 Spruce St, Los Angeles, CA 90001   11.99    04   \n",
              "4  04/30/19 09:27     333 8th St, Los Angeles, CA 90001   11.99    04   \n",
              "\n",
              "           City  \n",
              "0        Dallas  \n",
              "1        Boston  \n",
              "2   Los Angeles  \n",
              "3   Los Angeles  \n",
              "4   Los Angeles  "
            ]
          },
          "execution_count": 34,
          "metadata": {},
          "output_type": "execute_result"
        }
      ],
      "source": [
        "dataset.head()"
      ]
    },
    {
      "cell_type": "code",
      "execution_count": 35,
      "metadata": {
        "colab": {
          "base_uri": "https://localhost:8080/"
        },
        "id": "qNO5bSQEppB6",
        "outputId": "1ff17743-5b2e-45d4-9d86-3e188e68a45c"
      },
      "outputs": [
        {
          "data": {
            "text/plain": [
              "City\n",
              " San Francisco    8262203.91\n",
              " Los Angeles      5452570.80\n",
              " New York City    4664317.43\n",
              " Boston           3661642.01\n",
              " Atlanta          2795498.58\n",
              " Dallas           2767975.40\n",
              " Seattle          2747755.48\n",
              " Portland         2320490.61\n",
              " Austin           1819581.75\n",
              "Name: Sales, dtype: float64"
            ]
          },
          "execution_count": 35,
          "metadata": {},
          "output_type": "execute_result"
        }
      ],
      "source": [
        "dataset.groupby(\"City\")[\"Sales\"].sum().sort_values(ascending=False)"
      ]
    },
    {
      "cell_type": "code",
      "execution_count": 36,
      "metadata": {
        "colab": {
          "base_uri": "https://localhost:8080/",
          "height": 206
        },
        "id": "fpfOaYN-pwkF",
        "outputId": "8751a23e-314f-48a1-caac-9579dd2d8f05"
      },
      "outputs": [
        {
          "data": {
            "text/html": [
              "<div>\n",
              "<style scoped>\n",
              "    .dataframe tbody tr th:only-of-type {\n",
              "        vertical-align: middle;\n",
              "    }\n",
              "\n",
              "    .dataframe tbody tr th {\n",
              "        vertical-align: top;\n",
              "    }\n",
              "\n",
              "    .dataframe thead th {\n",
              "        text-align: right;\n",
              "    }\n",
              "</style>\n",
              "<table border=\"1\" class=\"dataframe\">\n",
              "  <thead>\n",
              "    <tr style=\"text-align: right;\">\n",
              "      <th></th>\n",
              "      <th>Order ID</th>\n",
              "      <th>Product</th>\n",
              "      <th>Quantity Ordered</th>\n",
              "      <th>Price Each</th>\n",
              "      <th>Order Date</th>\n",
              "      <th>Purchase Address</th>\n",
              "      <th>Sales</th>\n",
              "      <th>Month</th>\n",
              "      <th>City</th>\n",
              "    </tr>\n",
              "  </thead>\n",
              "  <tbody>\n",
              "    <tr>\n",
              "      <th>0</th>\n",
              "      <td>176558</td>\n",
              "      <td>USB-C Charging Cable</td>\n",
              "      <td>2</td>\n",
              "      <td>11.95</td>\n",
              "      <td>04/19/19 08:46</td>\n",
              "      <td>917 1st St, Dallas, TX 75001</td>\n",
              "      <td>23.90</td>\n",
              "      <td>04</td>\n",
              "      <td>Dallas</td>\n",
              "    </tr>\n",
              "    <tr>\n",
              "      <th>1</th>\n",
              "      <td>176559</td>\n",
              "      <td>Bose SoundSport Headphones</td>\n",
              "      <td>1</td>\n",
              "      <td>99.99</td>\n",
              "      <td>04/07/19 22:30</td>\n",
              "      <td>682 Chestnut St, Boston, MA 02215</td>\n",
              "      <td>99.99</td>\n",
              "      <td>04</td>\n",
              "      <td>Boston</td>\n",
              "    </tr>\n",
              "    <tr>\n",
              "      <th>2</th>\n",
              "      <td>176560</td>\n",
              "      <td>Google Phone</td>\n",
              "      <td>1</td>\n",
              "      <td>600.00</td>\n",
              "      <td>04/12/19 14:38</td>\n",
              "      <td>669 Spruce St, Los Angeles, CA 90001</td>\n",
              "      <td>600.00</td>\n",
              "      <td>04</td>\n",
              "      <td>Los Angeles</td>\n",
              "    </tr>\n",
              "    <tr>\n",
              "      <th>3</th>\n",
              "      <td>176560</td>\n",
              "      <td>Wired Headphones</td>\n",
              "      <td>1</td>\n",
              "      <td>11.99</td>\n",
              "      <td>04/12/19 14:38</td>\n",
              "      <td>669 Spruce St, Los Angeles, CA 90001</td>\n",
              "      <td>11.99</td>\n",
              "      <td>04</td>\n",
              "      <td>Los Angeles</td>\n",
              "    </tr>\n",
              "    <tr>\n",
              "      <th>4</th>\n",
              "      <td>176561</td>\n",
              "      <td>Wired Headphones</td>\n",
              "      <td>1</td>\n",
              "      <td>11.99</td>\n",
              "      <td>04/30/19 09:27</td>\n",
              "      <td>333 8th St, Los Angeles, CA 90001</td>\n",
              "      <td>11.99</td>\n",
              "      <td>04</td>\n",
              "      <td>Los Angeles</td>\n",
              "    </tr>\n",
              "  </tbody>\n",
              "</table>\n",
              "</div>"
            ],
            "text/plain": [
              "  Order ID                     Product  Quantity Ordered  Price Each  \\\n",
              "0   176558        USB-C Charging Cable                 2       11.95   \n",
              "1   176559  Bose SoundSport Headphones                 1       99.99   \n",
              "2   176560                Google Phone                 1      600.00   \n",
              "3   176560            Wired Headphones                 1       11.99   \n",
              "4   176561            Wired Headphones                 1       11.99   \n",
              "\n",
              "       Order Date                      Purchase Address   Sales Month  \\\n",
              "0  04/19/19 08:46          917 1st St, Dallas, TX 75001   23.90    04   \n",
              "1  04/07/19 22:30     682 Chestnut St, Boston, MA 02215   99.99    04   \n",
              "2  04/12/19 14:38  669 Spruce St, Los Angeles, CA 90001  600.00    04   \n",
              "3  04/12/19 14:38  669 Spruce St, Los Angeles, CA 90001   11.99    04   \n",
              "4  04/30/19 09:27     333 8th St, Los Angeles, CA 90001   11.99    04   \n",
              "\n",
              "           City  \n",
              "0        Dallas  \n",
              "1        Boston  \n",
              "2   Los Angeles  \n",
              "3   Los Angeles  \n",
              "4   Los Angeles  "
            ]
          },
          "execution_count": 36,
          "metadata": {},
          "output_type": "execute_result"
        }
      ],
      "source": [
        "dataset.head()"
      ]
    },
    {
      "cell_type": "code",
      "execution_count": 37,
      "metadata": {
        "id": "G9PpfMvQp4Bw"
      },
      "outputs": [],
      "source": [
        "dataset[\"hour\"] = dataset[\"Order Date\"].str[-5:-3]"
      ]
    },
    {
      "cell_type": "code",
      "execution_count": 38,
      "metadata": {
        "colab": {
          "base_uri": "https://localhost:8080/",
          "height": 206
        },
        "id": "aFDJK1ynqAPT",
        "outputId": "cb77d9fe-1e7c-4e97-a48b-beb9e10ba586"
      },
      "outputs": [
        {
          "data": {
            "text/html": [
              "<div>\n",
              "<style scoped>\n",
              "    .dataframe tbody tr th:only-of-type {\n",
              "        vertical-align: middle;\n",
              "    }\n",
              "\n",
              "    .dataframe tbody tr th {\n",
              "        vertical-align: top;\n",
              "    }\n",
              "\n",
              "    .dataframe thead th {\n",
              "        text-align: right;\n",
              "    }\n",
              "</style>\n",
              "<table border=\"1\" class=\"dataframe\">\n",
              "  <thead>\n",
              "    <tr style=\"text-align: right;\">\n",
              "      <th></th>\n",
              "      <th>Order ID</th>\n",
              "      <th>Product</th>\n",
              "      <th>Quantity Ordered</th>\n",
              "      <th>Price Each</th>\n",
              "      <th>Order Date</th>\n",
              "      <th>Purchase Address</th>\n",
              "      <th>Sales</th>\n",
              "      <th>Month</th>\n",
              "      <th>City</th>\n",
              "      <th>hour</th>\n",
              "    </tr>\n",
              "  </thead>\n",
              "  <tbody>\n",
              "    <tr>\n",
              "      <th>0</th>\n",
              "      <td>176558</td>\n",
              "      <td>USB-C Charging Cable</td>\n",
              "      <td>2</td>\n",
              "      <td>11.95</td>\n",
              "      <td>04/19/19 08:46</td>\n",
              "      <td>917 1st St, Dallas, TX 75001</td>\n",
              "      <td>23.90</td>\n",
              "      <td>04</td>\n",
              "      <td>Dallas</td>\n",
              "      <td>08</td>\n",
              "    </tr>\n",
              "    <tr>\n",
              "      <th>1</th>\n",
              "      <td>176559</td>\n",
              "      <td>Bose SoundSport Headphones</td>\n",
              "      <td>1</td>\n",
              "      <td>99.99</td>\n",
              "      <td>04/07/19 22:30</td>\n",
              "      <td>682 Chestnut St, Boston, MA 02215</td>\n",
              "      <td>99.99</td>\n",
              "      <td>04</td>\n",
              "      <td>Boston</td>\n",
              "      <td>22</td>\n",
              "    </tr>\n",
              "    <tr>\n",
              "      <th>2</th>\n",
              "      <td>176560</td>\n",
              "      <td>Google Phone</td>\n",
              "      <td>1</td>\n",
              "      <td>600.00</td>\n",
              "      <td>04/12/19 14:38</td>\n",
              "      <td>669 Spruce St, Los Angeles, CA 90001</td>\n",
              "      <td>600.00</td>\n",
              "      <td>04</td>\n",
              "      <td>Los Angeles</td>\n",
              "      <td>14</td>\n",
              "    </tr>\n",
              "    <tr>\n",
              "      <th>3</th>\n",
              "      <td>176560</td>\n",
              "      <td>Wired Headphones</td>\n",
              "      <td>1</td>\n",
              "      <td>11.99</td>\n",
              "      <td>04/12/19 14:38</td>\n",
              "      <td>669 Spruce St, Los Angeles, CA 90001</td>\n",
              "      <td>11.99</td>\n",
              "      <td>04</td>\n",
              "      <td>Los Angeles</td>\n",
              "      <td>14</td>\n",
              "    </tr>\n",
              "    <tr>\n",
              "      <th>4</th>\n",
              "      <td>176561</td>\n",
              "      <td>Wired Headphones</td>\n",
              "      <td>1</td>\n",
              "      <td>11.99</td>\n",
              "      <td>04/30/19 09:27</td>\n",
              "      <td>333 8th St, Los Angeles, CA 90001</td>\n",
              "      <td>11.99</td>\n",
              "      <td>04</td>\n",
              "      <td>Los Angeles</td>\n",
              "      <td>09</td>\n",
              "    </tr>\n",
              "  </tbody>\n",
              "</table>\n",
              "</div>"
            ],
            "text/plain": [
              "  Order ID                     Product  Quantity Ordered  Price Each  \\\n",
              "0   176558        USB-C Charging Cable                 2       11.95   \n",
              "1   176559  Bose SoundSport Headphones                 1       99.99   \n",
              "2   176560                Google Phone                 1      600.00   \n",
              "3   176560            Wired Headphones                 1       11.99   \n",
              "4   176561            Wired Headphones                 1       11.99   \n",
              "\n",
              "       Order Date                      Purchase Address   Sales Month  \\\n",
              "0  04/19/19 08:46          917 1st St, Dallas, TX 75001   23.90    04   \n",
              "1  04/07/19 22:30     682 Chestnut St, Boston, MA 02215   99.99    04   \n",
              "2  04/12/19 14:38  669 Spruce St, Los Angeles, CA 90001  600.00    04   \n",
              "3  04/12/19 14:38  669 Spruce St, Los Angeles, CA 90001   11.99    04   \n",
              "4  04/30/19 09:27     333 8th St, Los Angeles, CA 90001   11.99    04   \n",
              "\n",
              "           City hour  \n",
              "0        Dallas   08  \n",
              "1        Boston   22  \n",
              "2   Los Angeles   14  \n",
              "3   Los Angeles   14  \n",
              "4   Los Angeles   09  "
            ]
          },
          "execution_count": 38,
          "metadata": {},
          "output_type": "execute_result"
        }
      ],
      "source": [
        "dataset.head()"
      ]
    },
    {
      "cell_type": "code",
      "execution_count": 39,
      "metadata": {
        "colab": {
          "base_uri": "https://localhost:8080/"
        },
        "id": "jvtjbtCUp24b",
        "outputId": "4f11b507-9c27-4791-db3b-d5df0e5d6cfa"
      },
      "outputs": [
        {
          "data": {
            "text/plain": [
              "hour\n",
              "19    12905\n",
              "12    12587\n",
              "11    12411\n",
              "18    12280\n",
              "20    12228\n",
              "13    12129\n",
              "14    10984\n",
              "10    10944\n",
              "21    10921\n",
              "17    10899\n",
              "16    10384\n",
              "15    10175\n",
              "22     8822\n",
              "09     8748\n",
              "23     6275\n",
              "08     6256\n",
              "07     4011\n",
              "00     3910\n",
              "06     2482\n",
              "01     2350\n",
              "05     1321\n",
              "02     1243\n",
              "04      854\n",
              "03      831\n",
              "Name: count, dtype: int64"
            ]
          },
          "execution_count": 39,
          "metadata": {},
          "output_type": "execute_result"
        }
      ],
      "source": [
        "dataset[\"hour\"].value_counts()"
      ]
    },
    {
      "cell_type": "code",
      "execution_count": 40,
      "metadata": {
        "colab": {
          "base_uri": "https://localhost:8080/"
        },
        "id": "ugt7ne8_qGE7",
        "outputId": "47dca66d-97b0-46b3-f972-4514c0afef5c"
      },
      "outputs": [
        {
          "data": {
            "text/plain": [
              "hour\n",
              "19    2412938.54\n",
              "12    2316821.34\n",
              "11    2300610.24\n",
              "20    2281716.24\n",
              "18    2219348.30\n",
              "13    2155389.80\n",
              "17    2129361.61\n",
              "14    2083672.73\n",
              "21    2042000.86\n",
              "10    1944286.77\n",
              "15    1941549.60\n",
              "16    1904601.31\n",
              "09    1639030.58\n",
              "22    1607549.21\n",
              "08    1192348.97\n",
              "23    1179304.44\n",
              "07     744854.12\n",
              "00     713721.27\n",
              "01     460866.88\n",
              "06     448113.00\n",
              "02     234851.44\n",
              "05     230679.82\n",
              "04     162661.01\n",
              "03     145757.89\n",
              "Name: Sales, dtype: float64"
            ]
          },
          "execution_count": 40,
          "metadata": {},
          "output_type": "execute_result"
        }
      ],
      "source": [
        "dataset.groupby(\"hour\")[\"Sales\"].sum().sort_values(ascending=False)"
      ]
    },
    {
      "cell_type": "code",
      "execution_count": 41,
      "metadata": {
        "colab": {
          "base_uri": "https://localhost:8080/",
          "height": 206
        },
        "id": "iBwu2fOXqX7G",
        "outputId": "41d6c982-9e65-4532-94ff-5752bb87dd76"
      },
      "outputs": [
        {
          "data": {
            "text/html": [
              "<div>\n",
              "<style scoped>\n",
              "    .dataframe tbody tr th:only-of-type {\n",
              "        vertical-align: middle;\n",
              "    }\n",
              "\n",
              "    .dataframe tbody tr th {\n",
              "        vertical-align: top;\n",
              "    }\n",
              "\n",
              "    .dataframe thead th {\n",
              "        text-align: right;\n",
              "    }\n",
              "</style>\n",
              "<table border=\"1\" class=\"dataframe\">\n",
              "  <thead>\n",
              "    <tr style=\"text-align: right;\">\n",
              "      <th></th>\n",
              "      <th>Order ID</th>\n",
              "      <th>Product</th>\n",
              "      <th>Quantity Ordered</th>\n",
              "      <th>Price Each</th>\n",
              "      <th>Order Date</th>\n",
              "      <th>Purchase Address</th>\n",
              "      <th>Sales</th>\n",
              "      <th>Month</th>\n",
              "      <th>City</th>\n",
              "      <th>hour</th>\n",
              "    </tr>\n",
              "  </thead>\n",
              "  <tbody>\n",
              "    <tr>\n",
              "      <th>0</th>\n",
              "      <td>176558</td>\n",
              "      <td>USB-C Charging Cable</td>\n",
              "      <td>2</td>\n",
              "      <td>11.95</td>\n",
              "      <td>04/19/19 08:46</td>\n",
              "      <td>917 1st St, Dallas, TX 75001</td>\n",
              "      <td>23.90</td>\n",
              "      <td>04</td>\n",
              "      <td>Dallas</td>\n",
              "      <td>08</td>\n",
              "    </tr>\n",
              "    <tr>\n",
              "      <th>1</th>\n",
              "      <td>176559</td>\n",
              "      <td>Bose SoundSport Headphones</td>\n",
              "      <td>1</td>\n",
              "      <td>99.99</td>\n",
              "      <td>04/07/19 22:30</td>\n",
              "      <td>682 Chestnut St, Boston, MA 02215</td>\n",
              "      <td>99.99</td>\n",
              "      <td>04</td>\n",
              "      <td>Boston</td>\n",
              "      <td>22</td>\n",
              "    </tr>\n",
              "    <tr>\n",
              "      <th>2</th>\n",
              "      <td>176560</td>\n",
              "      <td>Google Phone</td>\n",
              "      <td>1</td>\n",
              "      <td>600.00</td>\n",
              "      <td>04/12/19 14:38</td>\n",
              "      <td>669 Spruce St, Los Angeles, CA 90001</td>\n",
              "      <td>600.00</td>\n",
              "      <td>04</td>\n",
              "      <td>Los Angeles</td>\n",
              "      <td>14</td>\n",
              "    </tr>\n",
              "    <tr>\n",
              "      <th>3</th>\n",
              "      <td>176560</td>\n",
              "      <td>Wired Headphones</td>\n",
              "      <td>1</td>\n",
              "      <td>11.99</td>\n",
              "      <td>04/12/19 14:38</td>\n",
              "      <td>669 Spruce St, Los Angeles, CA 90001</td>\n",
              "      <td>11.99</td>\n",
              "      <td>04</td>\n",
              "      <td>Los Angeles</td>\n",
              "      <td>14</td>\n",
              "    </tr>\n",
              "    <tr>\n",
              "      <th>4</th>\n",
              "      <td>176561</td>\n",
              "      <td>Wired Headphones</td>\n",
              "      <td>1</td>\n",
              "      <td>11.99</td>\n",
              "      <td>04/30/19 09:27</td>\n",
              "      <td>333 8th St, Los Angeles, CA 90001</td>\n",
              "      <td>11.99</td>\n",
              "      <td>04</td>\n",
              "      <td>Los Angeles</td>\n",
              "      <td>09</td>\n",
              "    </tr>\n",
              "  </tbody>\n",
              "</table>\n",
              "</div>"
            ],
            "text/plain": [
              "  Order ID                     Product  Quantity Ordered  Price Each  \\\n",
              "0   176558        USB-C Charging Cable                 2       11.95   \n",
              "1   176559  Bose SoundSport Headphones                 1       99.99   \n",
              "2   176560                Google Phone                 1      600.00   \n",
              "3   176560            Wired Headphones                 1       11.99   \n",
              "4   176561            Wired Headphones                 1       11.99   \n",
              "\n",
              "       Order Date                      Purchase Address   Sales Month  \\\n",
              "0  04/19/19 08:46          917 1st St, Dallas, TX 75001   23.90    04   \n",
              "1  04/07/19 22:30     682 Chestnut St, Boston, MA 02215   99.99    04   \n",
              "2  04/12/19 14:38  669 Spruce St, Los Angeles, CA 90001  600.00    04   \n",
              "3  04/12/19 14:38  669 Spruce St, Los Angeles, CA 90001   11.99    04   \n",
              "4  04/30/19 09:27     333 8th St, Los Angeles, CA 90001   11.99    04   \n",
              "\n",
              "           City hour  \n",
              "0        Dallas   08  \n",
              "1        Boston   22  \n",
              "2   Los Angeles   14  \n",
              "3   Los Angeles   14  \n",
              "4   Los Angeles   09  "
            ]
          },
          "execution_count": 41,
          "metadata": {},
          "output_type": "execute_result"
        }
      ],
      "source": [
        "dataset.head()"
      ]
    },
    {
      "cell_type": "code",
      "execution_count": 42,
      "metadata": {
        "colab": {
          "base_uri": "https://localhost:8080/"
        },
        "id": "FAM4wZZXqe3D",
        "outputId": "0f18b13f-e70a-4d60-9baa-b4a2a858dd50"
      },
      "outputs": [
        {
          "data": {
            "text/plain": [
              "Product\n",
              "USB-C Charging Cable          21903\n",
              "Lightning Charging Cable      21658\n",
              "AAA Batteries (4-pack)        20641\n",
              "AA Batteries (4-pack)         20577\n",
              "Wired Headphones              18882\n",
              "Apple Airpods Headphones      15549\n",
              "Bose SoundSport Headphones    13325\n",
              "27in FHD Monitor               7507\n",
              "iPhone                         6842\n",
              "27in 4K Gaming Monitor         6230\n",
              "34in Ultrawide Monitor         6181\n",
              "Google Phone                   5525\n",
              "Flatscreen TV                  4800\n",
              "Macbook Pro Laptop             4724\n",
              "ThinkPad Laptop                4128\n",
              "20in Monitor                   4101\n",
              "Vareebadd Phone                2065\n",
              "LG Washing Machine              666\n",
              "LG Dryer                        646\n",
              "Name: count, dtype: int64"
            ]
          },
          "execution_count": 42,
          "metadata": {},
          "output_type": "execute_result"
        }
      ],
      "source": [
        "dataset[\"Product\"].value_counts()"
      ]
    },
    {
      "cell_type": "code",
      "execution_count": 43,
      "metadata": {
        "colab": {
          "base_uri": "https://localhost:8080/",
          "height": 206
        },
        "id": "FCzRitPtrGRM",
        "outputId": "9e7773a4-3598-4d11-c5ac-4d577194112f"
      },
      "outputs": [
        {
          "data": {
            "text/html": [
              "<div>\n",
              "<style scoped>\n",
              "    .dataframe tbody tr th:only-of-type {\n",
              "        vertical-align: middle;\n",
              "    }\n",
              "\n",
              "    .dataframe tbody tr th {\n",
              "        vertical-align: top;\n",
              "    }\n",
              "\n",
              "    .dataframe thead th {\n",
              "        text-align: right;\n",
              "    }\n",
              "</style>\n",
              "<table border=\"1\" class=\"dataframe\">\n",
              "  <thead>\n",
              "    <tr style=\"text-align: right;\">\n",
              "      <th></th>\n",
              "      <th>Order ID</th>\n",
              "      <th>Product</th>\n",
              "      <th>Quantity Ordered</th>\n",
              "      <th>Price Each</th>\n",
              "      <th>Order Date</th>\n",
              "      <th>Purchase Address</th>\n",
              "      <th>Sales</th>\n",
              "      <th>Month</th>\n",
              "      <th>City</th>\n",
              "      <th>hour</th>\n",
              "    </tr>\n",
              "  </thead>\n",
              "  <tbody>\n",
              "    <tr>\n",
              "      <th>0</th>\n",
              "      <td>176558</td>\n",
              "      <td>USB-C Charging Cable</td>\n",
              "      <td>2</td>\n",
              "      <td>11.95</td>\n",
              "      <td>04/19/19 08:46</td>\n",
              "      <td>917 1st St, Dallas, TX 75001</td>\n",
              "      <td>23.90</td>\n",
              "      <td>04</td>\n",
              "      <td>Dallas</td>\n",
              "      <td>08</td>\n",
              "    </tr>\n",
              "    <tr>\n",
              "      <th>1</th>\n",
              "      <td>176559</td>\n",
              "      <td>Bose SoundSport Headphones</td>\n",
              "      <td>1</td>\n",
              "      <td>99.99</td>\n",
              "      <td>04/07/19 22:30</td>\n",
              "      <td>682 Chestnut St, Boston, MA 02215</td>\n",
              "      <td>99.99</td>\n",
              "      <td>04</td>\n",
              "      <td>Boston</td>\n",
              "      <td>22</td>\n",
              "    </tr>\n",
              "    <tr>\n",
              "      <th>2</th>\n",
              "      <td>176560</td>\n",
              "      <td>Google Phone</td>\n",
              "      <td>1</td>\n",
              "      <td>600.00</td>\n",
              "      <td>04/12/19 14:38</td>\n",
              "      <td>669 Spruce St, Los Angeles, CA 90001</td>\n",
              "      <td>600.00</td>\n",
              "      <td>04</td>\n",
              "      <td>Los Angeles</td>\n",
              "      <td>14</td>\n",
              "    </tr>\n",
              "    <tr>\n",
              "      <th>3</th>\n",
              "      <td>176560</td>\n",
              "      <td>Wired Headphones</td>\n",
              "      <td>1</td>\n",
              "      <td>11.99</td>\n",
              "      <td>04/12/19 14:38</td>\n",
              "      <td>669 Spruce St, Los Angeles, CA 90001</td>\n",
              "      <td>11.99</td>\n",
              "      <td>04</td>\n",
              "      <td>Los Angeles</td>\n",
              "      <td>14</td>\n",
              "    </tr>\n",
              "    <tr>\n",
              "      <th>4</th>\n",
              "      <td>176561</td>\n",
              "      <td>Wired Headphones</td>\n",
              "      <td>1</td>\n",
              "      <td>11.99</td>\n",
              "      <td>04/30/19 09:27</td>\n",
              "      <td>333 8th St, Los Angeles, CA 90001</td>\n",
              "      <td>11.99</td>\n",
              "      <td>04</td>\n",
              "      <td>Los Angeles</td>\n",
              "      <td>09</td>\n",
              "    </tr>\n",
              "    <tr>\n",
              "      <th>...</th>\n",
              "      <td>...</td>\n",
              "      <td>...</td>\n",
              "      <td>...</td>\n",
              "      <td>...</td>\n",
              "      <td>...</td>\n",
              "      <td>...</td>\n",
              "      <td>...</td>\n",
              "      <td>...</td>\n",
              "      <td>...</td>\n",
              "      <td>...</td>\n",
              "    </tr>\n",
              "    <tr>\n",
              "      <th>186300</th>\n",
              "      <td>259353</td>\n",
              "      <td>AAA Batteries (4-pack)</td>\n",
              "      <td>3</td>\n",
              "      <td>2.99</td>\n",
              "      <td>09/17/19 20:56</td>\n",
              "      <td>840 Highland St, Los Angeles, CA 90001</td>\n",
              "      <td>8.97</td>\n",
              "      <td>09</td>\n",
              "      <td>Los Angeles</td>\n",
              "      <td>20</td>\n",
              "    </tr>\n",
              "    <tr>\n",
              "      <th>186301</th>\n",
              "      <td>259354</td>\n",
              "      <td>iPhone</td>\n",
              "      <td>1</td>\n",
              "      <td>700.00</td>\n",
              "      <td>09/01/19 16:00</td>\n",
              "      <td>216 Dogwood St, San Francisco, CA 94016</td>\n",
              "      <td>700.00</td>\n",
              "      <td>09</td>\n",
              "      <td>San Francisco</td>\n",
              "      <td>16</td>\n",
              "    </tr>\n",
              "    <tr>\n",
              "      <th>186302</th>\n",
              "      <td>259355</td>\n",
              "      <td>iPhone</td>\n",
              "      <td>1</td>\n",
              "      <td>700.00</td>\n",
              "      <td>09/23/19 07:39</td>\n",
              "      <td>220 12th St, San Francisco, CA 94016</td>\n",
              "      <td>700.00</td>\n",
              "      <td>09</td>\n",
              "      <td>San Francisco</td>\n",
              "      <td>07</td>\n",
              "    </tr>\n",
              "    <tr>\n",
              "      <th>186303</th>\n",
              "      <td>259356</td>\n",
              "      <td>34in Ultrawide Monitor</td>\n",
              "      <td>1</td>\n",
              "      <td>379.99</td>\n",
              "      <td>09/19/19 17:30</td>\n",
              "      <td>511 Forest St, San Francisco, CA 94016</td>\n",
              "      <td>379.99</td>\n",
              "      <td>09</td>\n",
              "      <td>San Francisco</td>\n",
              "      <td>17</td>\n",
              "    </tr>\n",
              "    <tr>\n",
              "      <th>186304</th>\n",
              "      <td>259357</td>\n",
              "      <td>USB-C Charging Cable</td>\n",
              "      <td>1</td>\n",
              "      <td>11.95</td>\n",
              "      <td>09/30/19 00:18</td>\n",
              "      <td>250 Meadow St, San Francisco, CA 94016</td>\n",
              "      <td>11.95</td>\n",
              "      <td>09</td>\n",
              "      <td>San Francisco</td>\n",
              "      <td>00</td>\n",
              "    </tr>\n",
              "  </tbody>\n",
              "</table>\n",
              "<p>185950 rows × 10 columns</p>\n",
              "</div>"
            ],
            "text/plain": [
              "       Order ID                     Product  Quantity Ordered  Price Each  \\\n",
              "0        176558        USB-C Charging Cable                 2       11.95   \n",
              "1        176559  Bose SoundSport Headphones                 1       99.99   \n",
              "2        176560                Google Phone                 1      600.00   \n",
              "3        176560            Wired Headphones                 1       11.99   \n",
              "4        176561            Wired Headphones                 1       11.99   \n",
              "...         ...                         ...               ...         ...   \n",
              "186300   259353      AAA Batteries (4-pack)                 3        2.99   \n",
              "186301   259354                      iPhone                 1      700.00   \n",
              "186302   259355                      iPhone                 1      700.00   \n",
              "186303   259356      34in Ultrawide Monitor                 1      379.99   \n",
              "186304   259357        USB-C Charging Cable                 1       11.95   \n",
              "\n",
              "            Order Date                         Purchase Address   Sales Month  \\\n",
              "0       04/19/19 08:46             917 1st St, Dallas, TX 75001   23.90    04   \n",
              "1       04/07/19 22:30        682 Chestnut St, Boston, MA 02215   99.99    04   \n",
              "2       04/12/19 14:38     669 Spruce St, Los Angeles, CA 90001  600.00    04   \n",
              "3       04/12/19 14:38     669 Spruce St, Los Angeles, CA 90001   11.99    04   \n",
              "4       04/30/19 09:27        333 8th St, Los Angeles, CA 90001   11.99    04   \n",
              "...                ...                                      ...     ...   ...   \n",
              "186300  09/17/19 20:56   840 Highland St, Los Angeles, CA 90001    8.97    09   \n",
              "186301  09/01/19 16:00  216 Dogwood St, San Francisco, CA 94016  700.00    09   \n",
              "186302  09/23/19 07:39     220 12th St, San Francisco, CA 94016  700.00    09   \n",
              "186303  09/19/19 17:30   511 Forest St, San Francisco, CA 94016  379.99    09   \n",
              "186304  09/30/19 00:18   250 Meadow St, San Francisco, CA 94016   11.95    09   \n",
              "\n",
              "                  City hour  \n",
              "0               Dallas   08  \n",
              "1               Boston   22  \n",
              "2          Los Angeles   14  \n",
              "3          Los Angeles   14  \n",
              "4          Los Angeles   09  \n",
              "...                ...  ...  \n",
              "186300     Los Angeles   20  \n",
              "186301   San Francisco   16  \n",
              "186302   San Francisco   07  \n",
              "186303   San Francisco   17  \n",
              "186304   San Francisco   00  \n",
              "\n",
              "[185950 rows x 10 columns]"
            ]
          },
          "execution_count": 43,
          "metadata": {},
          "output_type": "execute_result"
        }
      ],
      "source": [
        "dataset"
      ]
    },
    {
      "cell_type": "code",
      "execution_count": 44,
      "metadata": {
        "colab": {
          "base_uri": "https://localhost:8080/"
        },
        "id": "kkwBHA7Pqr8M",
        "outputId": "0d4954f6-941a-4c11-fac1-8efbf69e2716"
      },
      "outputs": [
        {
          "data": {
            "text/plain": [
              "Product\n",
              "AAA Batteries (4-pack)        31017\n",
              "AA Batteries (4-pack)         27635\n",
              "USB-C Charging Cable          23975\n",
              "Lightning Charging Cable      23217\n",
              "Wired Headphones              20557\n",
              "Apple Airpods Headphones      15661\n",
              "Bose SoundSport Headphones    13457\n",
              "27in FHD Monitor               7550\n",
              "iPhone                         6849\n",
              "27in 4K Gaming Monitor         6244\n",
              "34in Ultrawide Monitor         6199\n",
              "Google Phone                   5532\n",
              "Flatscreen TV                  4819\n",
              "Macbook Pro Laptop             4728\n",
              "ThinkPad Laptop                4130\n",
              "20in Monitor                   4129\n",
              "Vareebadd Phone                2068\n",
              "LG Washing Machine              666\n",
              "LG Dryer                        646\n",
              "Name: Quantity Ordered, dtype: int64"
            ]
          },
          "execution_count": 44,
          "metadata": {},
          "output_type": "execute_result"
        }
      ],
      "source": [
        "dataset.groupby(\"Product\")[\"Quantity Ordered\"].sum().sort_values(ascending=False)"
      ]
    },
    {
      "cell_type": "code",
      "execution_count": 45,
      "metadata": {
        "colab": {
          "base_uri": "https://localhost:8080/",
          "height": 206
        },
        "id": "z6sfkilK0pjO",
        "outputId": "98e8abdc-7c72-433f-edd8-75cef6d2760a"
      },
      "outputs": [
        {
          "data": {
            "text/html": [
              "<div>\n",
              "<style scoped>\n",
              "    .dataframe tbody tr th:only-of-type {\n",
              "        vertical-align: middle;\n",
              "    }\n",
              "\n",
              "    .dataframe tbody tr th {\n",
              "        vertical-align: top;\n",
              "    }\n",
              "\n",
              "    .dataframe thead th {\n",
              "        text-align: right;\n",
              "    }\n",
              "</style>\n",
              "<table border=\"1\" class=\"dataframe\">\n",
              "  <thead>\n",
              "    <tr style=\"text-align: right;\">\n",
              "      <th></th>\n",
              "      <th>Order ID</th>\n",
              "      <th>Product</th>\n",
              "      <th>Quantity Ordered</th>\n",
              "      <th>Price Each</th>\n",
              "      <th>Order Date</th>\n",
              "      <th>Purchase Address</th>\n",
              "      <th>Sales</th>\n",
              "      <th>Month</th>\n",
              "      <th>City</th>\n",
              "      <th>hour</th>\n",
              "    </tr>\n",
              "  </thead>\n",
              "  <tbody>\n",
              "    <tr>\n",
              "      <th>0</th>\n",
              "      <td>176558</td>\n",
              "      <td>USB-C Charging Cable</td>\n",
              "      <td>2</td>\n",
              "      <td>11.95</td>\n",
              "      <td>04/19/19 08:46</td>\n",
              "      <td>917 1st St, Dallas, TX 75001</td>\n",
              "      <td>23.90</td>\n",
              "      <td>04</td>\n",
              "      <td>Dallas</td>\n",
              "      <td>08</td>\n",
              "    </tr>\n",
              "    <tr>\n",
              "      <th>1</th>\n",
              "      <td>176559</td>\n",
              "      <td>Bose SoundSport Headphones</td>\n",
              "      <td>1</td>\n",
              "      <td>99.99</td>\n",
              "      <td>04/07/19 22:30</td>\n",
              "      <td>682 Chestnut St, Boston, MA 02215</td>\n",
              "      <td>99.99</td>\n",
              "      <td>04</td>\n",
              "      <td>Boston</td>\n",
              "      <td>22</td>\n",
              "    </tr>\n",
              "    <tr>\n",
              "      <th>2</th>\n",
              "      <td>176560</td>\n",
              "      <td>Google Phone</td>\n",
              "      <td>1</td>\n",
              "      <td>600.00</td>\n",
              "      <td>04/12/19 14:38</td>\n",
              "      <td>669 Spruce St, Los Angeles, CA 90001</td>\n",
              "      <td>600.00</td>\n",
              "      <td>04</td>\n",
              "      <td>Los Angeles</td>\n",
              "      <td>14</td>\n",
              "    </tr>\n",
              "    <tr>\n",
              "      <th>3</th>\n",
              "      <td>176560</td>\n",
              "      <td>Wired Headphones</td>\n",
              "      <td>1</td>\n",
              "      <td>11.99</td>\n",
              "      <td>04/12/19 14:38</td>\n",
              "      <td>669 Spruce St, Los Angeles, CA 90001</td>\n",
              "      <td>11.99</td>\n",
              "      <td>04</td>\n",
              "      <td>Los Angeles</td>\n",
              "      <td>14</td>\n",
              "    </tr>\n",
              "    <tr>\n",
              "      <th>4</th>\n",
              "      <td>176561</td>\n",
              "      <td>Wired Headphones</td>\n",
              "      <td>1</td>\n",
              "      <td>11.99</td>\n",
              "      <td>04/30/19 09:27</td>\n",
              "      <td>333 8th St, Los Angeles, CA 90001</td>\n",
              "      <td>11.99</td>\n",
              "      <td>04</td>\n",
              "      <td>Los Angeles</td>\n",
              "      <td>09</td>\n",
              "    </tr>\n",
              "  </tbody>\n",
              "</table>\n",
              "</div>"
            ],
            "text/plain": [
              "  Order ID                     Product  Quantity Ordered  Price Each  \\\n",
              "0   176558        USB-C Charging Cable                 2       11.95   \n",
              "1   176559  Bose SoundSport Headphones                 1       99.99   \n",
              "2   176560                Google Phone                 1      600.00   \n",
              "3   176560            Wired Headphones                 1       11.99   \n",
              "4   176561            Wired Headphones                 1       11.99   \n",
              "\n",
              "       Order Date                      Purchase Address   Sales Month  \\\n",
              "0  04/19/19 08:46          917 1st St, Dallas, TX 75001   23.90    04   \n",
              "1  04/07/19 22:30     682 Chestnut St, Boston, MA 02215   99.99    04   \n",
              "2  04/12/19 14:38  669 Spruce St, Los Angeles, CA 90001  600.00    04   \n",
              "3  04/12/19 14:38  669 Spruce St, Los Angeles, CA 90001   11.99    04   \n",
              "4  04/30/19 09:27     333 8th St, Los Angeles, CA 90001   11.99    04   \n",
              "\n",
              "           City hour  \n",
              "0        Dallas   08  \n",
              "1        Boston   22  \n",
              "2   Los Angeles   14  \n",
              "3   Los Angeles   14  \n",
              "4   Los Angeles   09  "
            ]
          },
          "execution_count": 45,
          "metadata": {},
          "output_type": "execute_result"
        }
      ],
      "source": [
        "dataset.head()"
      ]
    },
    {
      "cell_type": "code",
      "execution_count": 46,
      "metadata": {
        "colab": {
          "base_uri": "https://localhost:8080/"
        },
        "id": "d0xV5W1s0sW5",
        "outputId": "6d6a75f0-76e8-47ee-d02a-2a8b6cd86c11"
      },
      "outputs": [
        {
          "data": {
            "text/plain": [
              "Product\n",
              "AAA Batteries (4-pack)           2.99\n",
              "AA Batteries (4-pack)            3.84\n",
              "USB-C Charging Cable            11.95\n",
              "Wired Headphones                11.99\n",
              "Lightning Charging Cable        14.95\n",
              "Bose SoundSport Headphones      99.99\n",
              "20in Monitor                   109.99\n",
              "27in FHD Monitor               149.99\n",
              "Apple Airpods Headphones       150.00\n",
              "Flatscreen TV                  300.00\n",
              "34in Ultrawide Monitor         379.99\n",
              "27in 4K Gaming Monitor         389.99\n",
              "Vareebadd Phone                400.00\n",
              "Google Phone                   600.00\n",
              "LG Washing Machine             600.00\n",
              "LG Dryer                       600.00\n",
              "iPhone                         700.00\n",
              "ThinkPad Laptop                999.99\n",
              "Macbook Pro Laptop            1700.00\n",
              "Name: Price Each, dtype: float64"
            ]
          },
          "execution_count": 46,
          "metadata": {},
          "output_type": "execute_result"
        }
      ],
      "source": [
        "dataset.groupby(\"Product\")[\"Price Each\"].mean().sort_values()"
      ]
    },
    {
      "cell_type": "code",
      "execution_count": 47,
      "metadata": {
        "colab": {
          "base_uri": "https://localhost:8080/",
          "height": 206
        },
        "id": "kQA8DUgs1Ft2",
        "outputId": "82223dbb-7ed0-439f-ab1c-d316ddd8e7b6"
      },
      "outputs": [
        {
          "data": {
            "text/html": [
              "<div>\n",
              "<style scoped>\n",
              "    .dataframe tbody tr th:only-of-type {\n",
              "        vertical-align: middle;\n",
              "    }\n",
              "\n",
              "    .dataframe tbody tr th {\n",
              "        vertical-align: top;\n",
              "    }\n",
              "\n",
              "    .dataframe thead th {\n",
              "        text-align: right;\n",
              "    }\n",
              "</style>\n",
              "<table border=\"1\" class=\"dataframe\">\n",
              "  <thead>\n",
              "    <tr style=\"text-align: right;\">\n",
              "      <th></th>\n",
              "      <th>Order ID</th>\n",
              "      <th>Product</th>\n",
              "      <th>Quantity Ordered</th>\n",
              "      <th>Price Each</th>\n",
              "      <th>Order Date</th>\n",
              "      <th>Purchase Address</th>\n",
              "      <th>Sales</th>\n",
              "      <th>Month</th>\n",
              "      <th>City</th>\n",
              "      <th>hour</th>\n",
              "    </tr>\n",
              "  </thead>\n",
              "  <tbody>\n",
              "    <tr>\n",
              "      <th>0</th>\n",
              "      <td>176558</td>\n",
              "      <td>USB-C Charging Cable</td>\n",
              "      <td>2</td>\n",
              "      <td>11.95</td>\n",
              "      <td>04/19/19 08:46</td>\n",
              "      <td>917 1st St, Dallas, TX 75001</td>\n",
              "      <td>23.90</td>\n",
              "      <td>04</td>\n",
              "      <td>Dallas</td>\n",
              "      <td>08</td>\n",
              "    </tr>\n",
              "    <tr>\n",
              "      <th>1</th>\n",
              "      <td>176559</td>\n",
              "      <td>Bose SoundSport Headphones</td>\n",
              "      <td>1</td>\n",
              "      <td>99.99</td>\n",
              "      <td>04/07/19 22:30</td>\n",
              "      <td>682 Chestnut St, Boston, MA 02215</td>\n",
              "      <td>99.99</td>\n",
              "      <td>04</td>\n",
              "      <td>Boston</td>\n",
              "      <td>22</td>\n",
              "    </tr>\n",
              "    <tr>\n",
              "      <th>2</th>\n",
              "      <td>176560</td>\n",
              "      <td>Google Phone</td>\n",
              "      <td>1</td>\n",
              "      <td>600.00</td>\n",
              "      <td>04/12/19 14:38</td>\n",
              "      <td>669 Spruce St, Los Angeles, CA 90001</td>\n",
              "      <td>600.00</td>\n",
              "      <td>04</td>\n",
              "      <td>Los Angeles</td>\n",
              "      <td>14</td>\n",
              "    </tr>\n",
              "    <tr>\n",
              "      <th>3</th>\n",
              "      <td>176560</td>\n",
              "      <td>Wired Headphones</td>\n",
              "      <td>1</td>\n",
              "      <td>11.99</td>\n",
              "      <td>04/12/19 14:38</td>\n",
              "      <td>669 Spruce St, Los Angeles, CA 90001</td>\n",
              "      <td>11.99</td>\n",
              "      <td>04</td>\n",
              "      <td>Los Angeles</td>\n",
              "      <td>14</td>\n",
              "    </tr>\n",
              "    <tr>\n",
              "      <th>4</th>\n",
              "      <td>176561</td>\n",
              "      <td>Wired Headphones</td>\n",
              "      <td>1</td>\n",
              "      <td>11.99</td>\n",
              "      <td>04/30/19 09:27</td>\n",
              "      <td>333 8th St, Los Angeles, CA 90001</td>\n",
              "      <td>11.99</td>\n",
              "      <td>04</td>\n",
              "      <td>Los Angeles</td>\n",
              "      <td>09</td>\n",
              "    </tr>\n",
              "  </tbody>\n",
              "</table>\n",
              "</div>"
            ],
            "text/plain": [
              "  Order ID                     Product  Quantity Ordered  Price Each  \\\n",
              "0   176558        USB-C Charging Cable                 2       11.95   \n",
              "1   176559  Bose SoundSport Headphones                 1       99.99   \n",
              "2   176560                Google Phone                 1      600.00   \n",
              "3   176560            Wired Headphones                 1       11.99   \n",
              "4   176561            Wired Headphones                 1       11.99   \n",
              "\n",
              "       Order Date                      Purchase Address   Sales Month  \\\n",
              "0  04/19/19 08:46          917 1st St, Dallas, TX 75001   23.90    04   \n",
              "1  04/07/19 22:30     682 Chestnut St, Boston, MA 02215   99.99    04   \n",
              "2  04/12/19 14:38  669 Spruce St, Los Angeles, CA 90001  600.00    04   \n",
              "3  04/12/19 14:38  669 Spruce St, Los Angeles, CA 90001   11.99    04   \n",
              "4  04/30/19 09:27     333 8th St, Los Angeles, CA 90001   11.99    04   \n",
              "\n",
              "           City hour  \n",
              "0        Dallas   08  \n",
              "1        Boston   22  \n",
              "2   Los Angeles   14  \n",
              "3   Los Angeles   14  \n",
              "4   Los Angeles   09  "
            ]
          },
          "execution_count": 47,
          "metadata": {},
          "output_type": "execute_result"
        }
      ],
      "source": [
        "dataset.head()"
      ]
    },
    {
      "cell_type": "code",
      "execution_count": 48,
      "metadata": {
        "colab": {
          "base_uri": "https://localhost:8080/"
        },
        "id": "qbG-r_Dp1LZG",
        "outputId": "1d521060-e16c-4fe0-8aa2-fcb581192cc3"
      },
      "outputs": [
        {
          "data": {
            "text/plain": [
              "0         False\n",
              "1         False\n",
              "2         False\n",
              "3          True\n",
              "4         False\n",
              "          ...  \n",
              "186300    False\n",
              "186301    False\n",
              "186302    False\n",
              "186303    False\n",
              "186304    False\n",
              "Name: Order ID, Length: 185950, dtype: bool"
            ]
          },
          "execution_count": 48,
          "metadata": {},
          "output_type": "execute_result"
        }
      ],
      "source": [
        "dataset[\"Order ID\"].duplicated()"
      ]
    },
    {
      "cell_type": "code",
      "execution_count": 49,
      "metadata": {
        "id": "FZ2LYito1TT9"
      },
      "outputs": [],
      "source": [
        "data = dataset[dataset[\"Order ID\"].duplicated(keep=False)]"
      ]
    },
    {
      "cell_type": "code",
      "execution_count": 50,
      "metadata": {
        "colab": {
          "base_uri": "https://localhost:8080/",
          "height": 424
        },
        "id": "EYiItNxL1aNu",
        "outputId": "e37714cc-882a-4897-bcdc-2fcc02067622"
      },
      "outputs": [
        {
          "data": {
            "text/html": [
              "<div>\n",
              "<style scoped>\n",
              "    .dataframe tbody tr th:only-of-type {\n",
              "        vertical-align: middle;\n",
              "    }\n",
              "\n",
              "    .dataframe tbody tr th {\n",
              "        vertical-align: top;\n",
              "    }\n",
              "\n",
              "    .dataframe thead th {\n",
              "        text-align: right;\n",
              "    }\n",
              "</style>\n",
              "<table border=\"1\" class=\"dataframe\">\n",
              "  <thead>\n",
              "    <tr style=\"text-align: right;\">\n",
              "      <th></th>\n",
              "      <th>Order ID</th>\n",
              "      <th>Product</th>\n",
              "      <th>Quantity Ordered</th>\n",
              "      <th>Price Each</th>\n",
              "      <th>Order Date</th>\n",
              "      <th>Purchase Address</th>\n",
              "      <th>Sales</th>\n",
              "      <th>Month</th>\n",
              "      <th>City</th>\n",
              "      <th>hour</th>\n",
              "    </tr>\n",
              "  </thead>\n",
              "  <tbody>\n",
              "    <tr>\n",
              "      <th>2</th>\n",
              "      <td>176560</td>\n",
              "      <td>Google Phone</td>\n",
              "      <td>1</td>\n",
              "      <td>600.00</td>\n",
              "      <td>04/12/19 14:38</td>\n",
              "      <td>669 Spruce St, Los Angeles, CA 90001</td>\n",
              "      <td>600.00</td>\n",
              "      <td>04</td>\n",
              "      <td>Los Angeles</td>\n",
              "      <td>14</td>\n",
              "    </tr>\n",
              "    <tr>\n",
              "      <th>3</th>\n",
              "      <td>176560</td>\n",
              "      <td>Wired Headphones</td>\n",
              "      <td>1</td>\n",
              "      <td>11.99</td>\n",
              "      <td>04/12/19 14:38</td>\n",
              "      <td>669 Spruce St, Los Angeles, CA 90001</td>\n",
              "      <td>11.99</td>\n",
              "      <td>04</td>\n",
              "      <td>Los Angeles</td>\n",
              "      <td>14</td>\n",
              "    </tr>\n",
              "    <tr>\n",
              "      <th>17</th>\n",
              "      <td>176574</td>\n",
              "      <td>Google Phone</td>\n",
              "      <td>1</td>\n",
              "      <td>600.00</td>\n",
              "      <td>04/03/19 19:42</td>\n",
              "      <td>20 Hill St, Los Angeles, CA 90001</td>\n",
              "      <td>600.00</td>\n",
              "      <td>04</td>\n",
              "      <td>Los Angeles</td>\n",
              "      <td>19</td>\n",
              "    </tr>\n",
              "    <tr>\n",
              "      <th>18</th>\n",
              "      <td>176574</td>\n",
              "      <td>USB-C Charging Cable</td>\n",
              "      <td>1</td>\n",
              "      <td>11.95</td>\n",
              "      <td>04/03/19 19:42</td>\n",
              "      <td>20 Hill St, Los Angeles, CA 90001</td>\n",
              "      <td>11.95</td>\n",
              "      <td>04</td>\n",
              "      <td>Los Angeles</td>\n",
              "      <td>19</td>\n",
              "    </tr>\n",
              "    <tr>\n",
              "      <th>29</th>\n",
              "      <td>176585</td>\n",
              "      <td>Bose SoundSport Headphones</td>\n",
              "      <td>1</td>\n",
              "      <td>99.99</td>\n",
              "      <td>04/07/19 11:31</td>\n",
              "      <td>823 Highland St, Boston, MA 02215</td>\n",
              "      <td>99.99</td>\n",
              "      <td>04</td>\n",
              "      <td>Boston</td>\n",
              "      <td>11</td>\n",
              "    </tr>\n",
              "    <tr>\n",
              "      <th>...</th>\n",
              "      <td>...</td>\n",
              "      <td>...</td>\n",
              "      <td>...</td>\n",
              "      <td>...</td>\n",
              "      <td>...</td>\n",
              "      <td>...</td>\n",
              "      <td>...</td>\n",
              "      <td>...</td>\n",
              "      <td>...</td>\n",
              "      <td>...</td>\n",
              "    </tr>\n",
              "    <tr>\n",
              "      <th>186248</th>\n",
              "      <td>259303</td>\n",
              "      <td>AA Batteries (4-pack)</td>\n",
              "      <td>1</td>\n",
              "      <td>3.84</td>\n",
              "      <td>09/20/19 20:18</td>\n",
              "      <td>106 7th St, Atlanta, GA 30301</td>\n",
              "      <td>3.84</td>\n",
              "      <td>09</td>\n",
              "      <td>Atlanta</td>\n",
              "      <td>20</td>\n",
              "    </tr>\n",
              "    <tr>\n",
              "      <th>186259</th>\n",
              "      <td>259314</td>\n",
              "      <td>Wired Headphones</td>\n",
              "      <td>1</td>\n",
              "      <td>11.99</td>\n",
              "      <td>09/16/19 00:25</td>\n",
              "      <td>241 Highland St, Atlanta, GA 30301</td>\n",
              "      <td>11.99</td>\n",
              "      <td>09</td>\n",
              "      <td>Atlanta</td>\n",
              "      <td>00</td>\n",
              "    </tr>\n",
              "    <tr>\n",
              "      <th>186260</th>\n",
              "      <td>259314</td>\n",
              "      <td>AAA Batteries (4-pack)</td>\n",
              "      <td>2</td>\n",
              "      <td>2.99</td>\n",
              "      <td>09/16/19 00:25</td>\n",
              "      <td>241 Highland St, Atlanta, GA 30301</td>\n",
              "      <td>5.98</td>\n",
              "      <td>09</td>\n",
              "      <td>Atlanta</td>\n",
              "      <td>00</td>\n",
              "    </tr>\n",
              "    <tr>\n",
              "      <th>186296</th>\n",
              "      <td>259350</td>\n",
              "      <td>Google Phone</td>\n",
              "      <td>1</td>\n",
              "      <td>600.00</td>\n",
              "      <td>09/30/19 13:49</td>\n",
              "      <td>519 Maple St, San Francisco, CA 94016</td>\n",
              "      <td>600.00</td>\n",
              "      <td>09</td>\n",
              "      <td>San Francisco</td>\n",
              "      <td>13</td>\n",
              "    </tr>\n",
              "    <tr>\n",
              "      <th>186297</th>\n",
              "      <td>259350</td>\n",
              "      <td>USB-C Charging Cable</td>\n",
              "      <td>1</td>\n",
              "      <td>11.95</td>\n",
              "      <td>09/30/19 13:49</td>\n",
              "      <td>519 Maple St, San Francisco, CA 94016</td>\n",
              "      <td>11.95</td>\n",
              "      <td>09</td>\n",
              "      <td>San Francisco</td>\n",
              "      <td>13</td>\n",
              "    </tr>\n",
              "  </tbody>\n",
              "</table>\n",
              "<p>14649 rows × 10 columns</p>\n",
              "</div>"
            ],
            "text/plain": [
              "       Order ID                     Product  Quantity Ordered  Price Each  \\\n",
              "2        176560                Google Phone                 1      600.00   \n",
              "3        176560            Wired Headphones                 1       11.99   \n",
              "17       176574                Google Phone                 1      600.00   \n",
              "18       176574        USB-C Charging Cable                 1       11.95   \n",
              "29       176585  Bose SoundSport Headphones                 1       99.99   \n",
              "...         ...                         ...               ...         ...   \n",
              "186248   259303       AA Batteries (4-pack)                 1        3.84   \n",
              "186259   259314            Wired Headphones                 1       11.99   \n",
              "186260   259314      AAA Batteries (4-pack)                 2        2.99   \n",
              "186296   259350                Google Phone                 1      600.00   \n",
              "186297   259350        USB-C Charging Cable                 1       11.95   \n",
              "\n",
              "            Order Date                       Purchase Address   Sales Month  \\\n",
              "2       04/12/19 14:38   669 Spruce St, Los Angeles, CA 90001  600.00    04   \n",
              "3       04/12/19 14:38   669 Spruce St, Los Angeles, CA 90001   11.99    04   \n",
              "17      04/03/19 19:42      20 Hill St, Los Angeles, CA 90001  600.00    04   \n",
              "18      04/03/19 19:42      20 Hill St, Los Angeles, CA 90001   11.95    04   \n",
              "29      04/07/19 11:31      823 Highland St, Boston, MA 02215   99.99    04   \n",
              "...                ...                                    ...     ...   ...   \n",
              "186248  09/20/19 20:18          106 7th St, Atlanta, GA 30301    3.84    09   \n",
              "186259  09/16/19 00:25     241 Highland St, Atlanta, GA 30301   11.99    09   \n",
              "186260  09/16/19 00:25     241 Highland St, Atlanta, GA 30301    5.98    09   \n",
              "186296  09/30/19 13:49  519 Maple St, San Francisco, CA 94016  600.00    09   \n",
              "186297  09/30/19 13:49  519 Maple St, San Francisco, CA 94016   11.95    09   \n",
              "\n",
              "                  City hour  \n",
              "2          Los Angeles   14  \n",
              "3          Los Angeles   14  \n",
              "17         Los Angeles   19  \n",
              "18         Los Angeles   19  \n",
              "29              Boston   11  \n",
              "...                ...  ...  \n",
              "186248         Atlanta   20  \n",
              "186259         Atlanta   00  \n",
              "186260         Atlanta   00  \n",
              "186296   San Francisco   13  \n",
              "186297   San Francisco   13  \n",
              "\n",
              "[14649 rows x 10 columns]"
            ]
          },
          "execution_count": 50,
          "metadata": {},
          "output_type": "execute_result"
        }
      ],
      "source": [
        "data"
      ]
    },
    {
      "cell_type": "code",
      "execution_count": 51,
      "metadata": {
        "colab": {
          "base_uri": "https://localhost:8080/"
        },
        "id": "9gRZO--D1ceN",
        "outputId": "b801658f-a0c0-4148-9106-58dbb862dca3"
      },
      "outputs": [
        {
          "name": "stderr",
          "output_type": "stream",
          "text": [
            "C:\\Users\\udaraka\\AppData\\Local\\Temp\\ipykernel_9676\\3599399710.py:1: SettingWithCopyWarning: \n",
            "A value is trying to be set on a copy of a slice from a DataFrame.\n",
            "Try using .loc[row_indexer,col_indexer] = value instead\n",
            "\n",
            "See the caveats in the documentation: https://pandas.pydata.org/pandas-docs/stable/user_guide/indexing.html#returning-a-view-versus-a-copy\n",
            "  data[\"Grouped\"] = data.groupby(\"Order ID\")[\"Product\"].transform(lambda x: \",\".join(x))\n"
          ]
        }
      ],
      "source": [
        "data[\"Grouped\"] = data.groupby(\"Order ID\")[\"Product\"].transform(lambda x: \",\".join(x))"
      ]
    },
    {
      "cell_type": "code",
      "execution_count": 52,
      "metadata": {
        "colab": {
          "base_uri": "https://localhost:8080/",
          "height": 310
        },
        "id": "v2THhyQW1s22",
        "outputId": "99fb244a-98e8-427f-9f04-ef534f6614f9"
      },
      "outputs": [
        {
          "data": {
            "text/html": [
              "<div>\n",
              "<style scoped>\n",
              "    .dataframe tbody tr th:only-of-type {\n",
              "        vertical-align: middle;\n",
              "    }\n",
              "\n",
              "    .dataframe tbody tr th {\n",
              "        vertical-align: top;\n",
              "    }\n",
              "\n",
              "    .dataframe thead th {\n",
              "        text-align: right;\n",
              "    }\n",
              "</style>\n",
              "<table border=\"1\" class=\"dataframe\">\n",
              "  <thead>\n",
              "    <tr style=\"text-align: right;\">\n",
              "      <th></th>\n",
              "      <th>Order ID</th>\n",
              "      <th>Product</th>\n",
              "      <th>Quantity Ordered</th>\n",
              "      <th>Price Each</th>\n",
              "      <th>Order Date</th>\n",
              "      <th>Purchase Address</th>\n",
              "      <th>Sales</th>\n",
              "      <th>Month</th>\n",
              "      <th>City</th>\n",
              "      <th>hour</th>\n",
              "      <th>Grouped</th>\n",
              "    </tr>\n",
              "  </thead>\n",
              "  <tbody>\n",
              "    <tr>\n",
              "      <th>2</th>\n",
              "      <td>176560</td>\n",
              "      <td>Google Phone</td>\n",
              "      <td>1</td>\n",
              "      <td>600.00</td>\n",
              "      <td>04/12/19 14:38</td>\n",
              "      <td>669 Spruce St, Los Angeles, CA 90001</td>\n",
              "      <td>600.00</td>\n",
              "      <td>04</td>\n",
              "      <td>Los Angeles</td>\n",
              "      <td>14</td>\n",
              "      <td>Google Phone,Wired Headphones</td>\n",
              "    </tr>\n",
              "    <tr>\n",
              "      <th>3</th>\n",
              "      <td>176560</td>\n",
              "      <td>Wired Headphones</td>\n",
              "      <td>1</td>\n",
              "      <td>11.99</td>\n",
              "      <td>04/12/19 14:38</td>\n",
              "      <td>669 Spruce St, Los Angeles, CA 90001</td>\n",
              "      <td>11.99</td>\n",
              "      <td>04</td>\n",
              "      <td>Los Angeles</td>\n",
              "      <td>14</td>\n",
              "      <td>Google Phone,Wired Headphones</td>\n",
              "    </tr>\n",
              "    <tr>\n",
              "      <th>17</th>\n",
              "      <td>176574</td>\n",
              "      <td>Google Phone</td>\n",
              "      <td>1</td>\n",
              "      <td>600.00</td>\n",
              "      <td>04/03/19 19:42</td>\n",
              "      <td>20 Hill St, Los Angeles, CA 90001</td>\n",
              "      <td>600.00</td>\n",
              "      <td>04</td>\n",
              "      <td>Los Angeles</td>\n",
              "      <td>19</td>\n",
              "      <td>Google Phone,USB-C Charging Cable</td>\n",
              "    </tr>\n",
              "    <tr>\n",
              "      <th>18</th>\n",
              "      <td>176574</td>\n",
              "      <td>USB-C Charging Cable</td>\n",
              "      <td>1</td>\n",
              "      <td>11.95</td>\n",
              "      <td>04/03/19 19:42</td>\n",
              "      <td>20 Hill St, Los Angeles, CA 90001</td>\n",
              "      <td>11.95</td>\n",
              "      <td>04</td>\n",
              "      <td>Los Angeles</td>\n",
              "      <td>19</td>\n",
              "      <td>Google Phone,USB-C Charging Cable</td>\n",
              "    </tr>\n",
              "    <tr>\n",
              "      <th>29</th>\n",
              "      <td>176585</td>\n",
              "      <td>Bose SoundSport Headphones</td>\n",
              "      <td>1</td>\n",
              "      <td>99.99</td>\n",
              "      <td>04/07/19 11:31</td>\n",
              "      <td>823 Highland St, Boston, MA 02215</td>\n",
              "      <td>99.99</td>\n",
              "      <td>04</td>\n",
              "      <td>Boston</td>\n",
              "      <td>11</td>\n",
              "      <td>Bose SoundSport Headphones,Bose SoundSport Hea...</td>\n",
              "    </tr>\n",
              "  </tbody>\n",
              "</table>\n",
              "</div>"
            ],
            "text/plain": [
              "   Order ID                     Product  Quantity Ordered  Price Each  \\\n",
              "2    176560                Google Phone                 1      600.00   \n",
              "3    176560            Wired Headphones                 1       11.99   \n",
              "17   176574                Google Phone                 1      600.00   \n",
              "18   176574        USB-C Charging Cable                 1       11.95   \n",
              "29   176585  Bose SoundSport Headphones                 1       99.99   \n",
              "\n",
              "        Order Date                      Purchase Address   Sales Month  \\\n",
              "2   04/12/19 14:38  669 Spruce St, Los Angeles, CA 90001  600.00    04   \n",
              "3   04/12/19 14:38  669 Spruce St, Los Angeles, CA 90001   11.99    04   \n",
              "17  04/03/19 19:42     20 Hill St, Los Angeles, CA 90001  600.00    04   \n",
              "18  04/03/19 19:42     20 Hill St, Los Angeles, CA 90001   11.95    04   \n",
              "29  04/07/19 11:31     823 Highland St, Boston, MA 02215   99.99    04   \n",
              "\n",
              "            City hour                                            Grouped  \n",
              "2    Los Angeles   14                      Google Phone,Wired Headphones  \n",
              "3    Los Angeles   14                      Google Phone,Wired Headphones  \n",
              "17   Los Angeles   19                  Google Phone,USB-C Charging Cable  \n",
              "18   Los Angeles   19                  Google Phone,USB-C Charging Cable  \n",
              "29        Boston   11  Bose SoundSport Headphones,Bose SoundSport Hea...  "
            ]
          },
          "execution_count": 52,
          "metadata": {},
          "output_type": "execute_result"
        }
      ],
      "source": [
        "data.head()"
      ]
    },
    {
      "cell_type": "code",
      "execution_count": 53,
      "metadata": {
        "id": "Qkd_M9Vn1w0f"
      },
      "outputs": [],
      "source": [
        "data = data[[\"Order ID\", \"Grouped\"]].drop_duplicates()"
      ]
    },
    {
      "cell_type": "code",
      "execution_count": 54,
      "metadata": {
        "colab": {
          "base_uri": "https://localhost:8080/",
          "height": 424
        },
        "id": "BGiTlyIk14Q3",
        "outputId": "4869504c-3afc-47b0-8183-a412b78e7dab"
      },
      "outputs": [
        {
          "data": {
            "text/html": [
              "<div>\n",
              "<style scoped>\n",
              "    .dataframe tbody tr th:only-of-type {\n",
              "        vertical-align: middle;\n",
              "    }\n",
              "\n",
              "    .dataframe tbody tr th {\n",
              "        vertical-align: top;\n",
              "    }\n",
              "\n",
              "    .dataframe thead th {\n",
              "        text-align: right;\n",
              "    }\n",
              "</style>\n",
              "<table border=\"1\" class=\"dataframe\">\n",
              "  <thead>\n",
              "    <tr style=\"text-align: right;\">\n",
              "      <th></th>\n",
              "      <th>Order ID</th>\n",
              "      <th>Grouped</th>\n",
              "    </tr>\n",
              "  </thead>\n",
              "  <tbody>\n",
              "    <tr>\n",
              "      <th>2</th>\n",
              "      <td>176560</td>\n",
              "      <td>Google Phone,Wired Headphones</td>\n",
              "    </tr>\n",
              "    <tr>\n",
              "      <th>17</th>\n",
              "      <td>176574</td>\n",
              "      <td>Google Phone,USB-C Charging Cable</td>\n",
              "    </tr>\n",
              "    <tr>\n",
              "      <th>29</th>\n",
              "      <td>176585</td>\n",
              "      <td>Bose SoundSport Headphones,Bose SoundSport Hea...</td>\n",
              "    </tr>\n",
              "    <tr>\n",
              "      <th>31</th>\n",
              "      <td>176586</td>\n",
              "      <td>AAA Batteries (4-pack),Google Phone</td>\n",
              "    </tr>\n",
              "    <tr>\n",
              "      <th>118</th>\n",
              "      <td>176672</td>\n",
              "      <td>Lightning Charging Cable,USB-C Charging Cable</td>\n",
              "    </tr>\n",
              "    <tr>\n",
              "      <th>...</th>\n",
              "      <td>...</td>\n",
              "      <td>...</td>\n",
              "    </tr>\n",
              "    <tr>\n",
              "      <th>186237</th>\n",
              "      <td>259296</td>\n",
              "      <td>Apple Airpods Headphones,Apple Airpods Headphones</td>\n",
              "    </tr>\n",
              "    <tr>\n",
              "      <th>186239</th>\n",
              "      <td>259297</td>\n",
              "      <td>iPhone,Lightning Charging Cable,Lightning Char...</td>\n",
              "    </tr>\n",
              "    <tr>\n",
              "      <th>186247</th>\n",
              "      <td>259303</td>\n",
              "      <td>34in Ultrawide Monitor,AA Batteries (4-pack)</td>\n",
              "    </tr>\n",
              "    <tr>\n",
              "      <th>186259</th>\n",
              "      <td>259314</td>\n",
              "      <td>Wired Headphones,AAA Batteries (4-pack)</td>\n",
              "    </tr>\n",
              "    <tr>\n",
              "      <th>186296</th>\n",
              "      <td>259350</td>\n",
              "      <td>Google Phone,USB-C Charging Cable</td>\n",
              "    </tr>\n",
              "  </tbody>\n",
              "</table>\n",
              "<p>7136 rows × 2 columns</p>\n",
              "</div>"
            ],
            "text/plain": [
              "       Order ID                                            Grouped\n",
              "2        176560                      Google Phone,Wired Headphones\n",
              "17       176574                  Google Phone,USB-C Charging Cable\n",
              "29       176585  Bose SoundSport Headphones,Bose SoundSport Hea...\n",
              "31       176586                AAA Batteries (4-pack),Google Phone\n",
              "118      176672      Lightning Charging Cable,USB-C Charging Cable\n",
              "...         ...                                                ...\n",
              "186237   259296  Apple Airpods Headphones,Apple Airpods Headphones\n",
              "186239   259297  iPhone,Lightning Charging Cable,Lightning Char...\n",
              "186247   259303       34in Ultrawide Monitor,AA Batteries (4-pack)\n",
              "186259   259314            Wired Headphones,AAA Batteries (4-pack)\n",
              "186296   259350                  Google Phone,USB-C Charging Cable\n",
              "\n",
              "[7136 rows x 2 columns]"
            ]
          },
          "execution_count": 54,
          "metadata": {},
          "output_type": "execute_result"
        }
      ],
      "source": [
        "data"
      ]
    },
    {
      "cell_type": "code",
      "execution_count": 55,
      "metadata": {
        "colab": {
          "base_uri": "https://localhost:8080/"
        },
        "id": "AUG1wcaL17r1",
        "outputId": "f4caa176-c16b-471e-9aa9-80a3a8a871e9"
      },
      "outputs": [
        {
          "data": {
            "text/plain": [
              "Grouped\n",
              "iPhone,Lightning Charging Cable                       882\n",
              "Google Phone,USB-C Charging Cable                     856\n",
              "iPhone,Wired Headphones                               361\n",
              "Vareebadd Phone,USB-C Charging Cable                  312\n",
              "Google Phone,Wired Headphones                         303\n",
              "iPhone,Apple Airpods Headphones                       286\n",
              "Google Phone,Bose SoundSport Headphones               161\n",
              "Vareebadd Phone,Wired Headphones                      104\n",
              "Google Phone,USB-C Charging Cable,Wired Headphones     77\n",
              "Vareebadd Phone,Bose SoundSport Headphones             60\n",
              "Name: count, dtype: int64"
            ]
          },
          "execution_count": 55,
          "metadata": {},
          "output_type": "execute_result"
        }
      ],
      "source": [
        "data[\"Grouped\"].value_counts().sort_values(ascending=False)[:10]"
      ]
    },
    {
      "cell_type": "code",
      "execution_count": 56,
      "metadata": {
        "id": "MB3PiMox2RSG"
      },
      "outputs": [],
      "source": [
        "def probability(frequency, total_frequency):\n",
        "  return frequency/total_frequency"
      ]
    },
    {
      "cell_type": "code",
      "execution_count": 57,
      "metadata": {
        "id": "sGAcJzU22Z6V"
      },
      "outputs": [],
      "source": [
        "total = dataset[\"Product\"].value_counts().sum()"
      ]
    },
    {
      "cell_type": "code",
      "execution_count": 58,
      "metadata": {
        "id": "Z6AJfRFD2k42"
      },
      "outputs": [],
      "source": [
        "usb_c = dataset[dataset[\"Product\"] == \"USB-C Charging Cable\"][\"Quantity Ordered\"].value_counts().sum()"
      ]
    },
    {
      "cell_type": "code",
      "execution_count": 59,
      "metadata": {
        "colab": {
          "base_uri": "https://localhost:8080/"
        },
        "id": "PT5ok-vT21u2",
        "outputId": "517340bd-4a48-4838-d9cf-d89d9c3167f2"
      },
      "outputs": [
        {
          "data": {
            "text/plain": [
              "0.11778972842161871"
            ]
          },
          "execution_count": 59,
          "metadata": {},
          "output_type": "execute_result"
        }
      ],
      "source": [
        "probability(usb_c, total)"
      ]
    },
    {
      "cell_type": "code",
      "execution_count": 60,
      "metadata": {
        "colab": {
          "base_uri": "https://localhost:8080/"
        },
        "id": "hIHNcNwP28M2",
        "outputId": "10e47060-b831-4ce8-cbdb-77f75061da27"
      },
      "outputs": [
        {
          "name": "stdout",
          "output_type": "stream",
          "text": [
            "USB-C Charging Cable 0.11778972842161871\n",
            "Bose SoundSport Headphones 0.07165904813121807\n",
            "Google Phone 0.029712288249529442\n",
            "Wired Headphones 0.101543425652057\n",
            "Macbook Pro Laptop 0.025404678677063728\n",
            "Lightning Charging Cable 0.11647216993815541\n",
            "27in 4K Gaming Monitor 0.033503630008066686\n",
            "AA Batteries (4-pack) 0.11065877924173165\n",
            "Apple Airpods Headphones 0.08361925248722775\n",
            "AAA Batteries (4-pack) 0.11100295778435063\n",
            "iPhone 0.036794837321860716\n",
            "Flatscreen TV 0.02581339069642377\n",
            "27in FHD Monitor 0.04037106749126109\n",
            "20in Monitor 0.02205431567625706\n",
            "LG Dryer 0.003474052164560366\n",
            "ThinkPad Laptop 0.022199515998924443\n",
            "Vareebadd Phone 0.011105135789190642\n",
            "LG Washing Machine 0.003581607959128798\n",
            "34in Ultrawide Monitor 0.03324011831137402\n"
          ]
        }
      ],
      "source": [
        "for x in dataset[\"Product\"].unique():\n",
        "  usb = dataset[dataset[\"Product\"] == x][\"Quantity Ordered\"].value_counts().sum()\n",
        "  print(x, probability(usb, total))"
      ]
    }
  ],
  "metadata": {
    "colab": {
      "provenance": []
    },
    "kernelspec": {
      "display_name": "Python 3",
      "name": "python3"
    },
    "language_info": {
      "codemirror_mode": {
        "name": "ipython",
        "version": 3
      },
      "file_extension": ".py",
      "mimetype": "text/x-python",
      "name": "python",
      "nbconvert_exporter": "python",
      "pygments_lexer": "ipython3",
      "version": "3.11.7"
    }
  },
  "nbformat": 4,
  "nbformat_minor": 0
}
