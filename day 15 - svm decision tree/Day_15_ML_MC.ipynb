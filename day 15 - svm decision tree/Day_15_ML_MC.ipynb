{
  "nbformat": 4,
  "nbformat_minor": 0,
  "metadata": {
    "colab": {
      "provenance": []
    },
    "kernelspec": {
      "name": "python3",
      "display_name": "Python 3"
    },
    "language_info": {
      "name": "python"
    }
  },
  "cells": [
    {
      "cell_type": "code",
      "execution_count": 1,
      "metadata": {
        "id": "mN0lTjY4SSJg"
      },
      "outputs": [],
      "source": [
        "from sklearn.svm import SVC,SVR"
      ]
    },
    {
      "cell_type": "code",
      "source": [
        "classifier = SVC()\n"
      ],
      "metadata": {
        "id": "RPddlnWvYtJV"
      },
      "execution_count": 8,
      "outputs": []
    },
    {
      "cell_type": "code",
      "source": [
        "classifier.kernel"
      ],
      "metadata": {
        "colab": {
          "base_uri": "https://localhost:8080/",
          "height": 36
        },
        "id": "un5NFyS2Y1zz",
        "outputId": "cd999979-d698-4ca7-b1e2-51229c861cce"
      },
      "execution_count": 10,
      "outputs": [
        {
          "output_type": "execute_result",
          "data": {
            "text/plain": [
              "'rbf'"
            ],
            "application/vnd.google.colaboratory.intrinsic+json": {
              "type": "string"
            }
          },
          "metadata": {},
          "execution_count": 10
        }
      ]
    },
    {
      "cell_type": "code",
      "source": [
        "regressor = SVR()"
      ],
      "metadata": {
        "id": "zP2LFg3HYv_T"
      },
      "execution_count": 11,
      "outputs": []
    },
    {
      "cell_type": "code",
      "source": [
        "from sklearn.tree import DecisionTreeClassifier, DecisionTreeRegressor"
      ],
      "metadata": {
        "id": "SshfR0-fc5rN"
      },
      "execution_count": 12,
      "outputs": []
    }
  ]
}